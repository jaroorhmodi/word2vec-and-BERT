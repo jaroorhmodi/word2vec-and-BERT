{
  "cells": [
    {
      "cell_type": "markdown",
      "metadata": {
        "id": "view-in-github",
        "colab_type": "text"
      },
      "source": [
        "<a href=\"https://colab.research.google.com/github/jaroorhmodi/word2vec-and-BERT/blob/main/BERT.ipynb\" target=\"_parent\"><img src=\"https://colab.research.google.com/assets/colab-badge.svg\" alt=\"Open In Colab\"/></a>"
      ]
    },
    {
      "cell_type": "markdown",
      "metadata": {
        "id": "ursbIzV2v9p7"
      },
      "source": [
        "#BERT (Bidirectional Encoder Representations from Transformers)"
      ]
    },
    {
      "cell_type": "markdown",
      "metadata": {
        "id": "0hEcTXgYwL-N"
      },
      "source": [
        "In this notebook I will be replicating the model in the paper [**BERT: Pre-Training of Deep Bidirectional Transformers for Language Understanding**](https://arxiv.org/pdf/1810.04805.pdf).\n",
        "\n",
        "While I will be creating the model from (mostly) scratch in PyTorch, I will not go into too much detail about why Multi-Head Attention is designed the way it is and how exactly the original [Transformer](https://arxiv.org/abs/1706.03762) architecture works. I have made another (*albeit messy*) [notebook that covers that paper](https://github.com/jaroorhmodi/transformer-from-scratch).\n",
        "\n",
        "The model will be trained on the [**WikiText-2**](https://paperswithcode.com/dataset/wikitext-2) and [**Wikitext-103**](https://paperswithcode.com/dataset/wikitext-103) datasets."
      ]
    },
    {
      "cell_type": "code",
      "execution_count": 3,
      "metadata": {
        "colab": {
          "base_uri": "https://localhost:8080/"
        },
        "id": "Koq_QwuW4MbN",
        "outputId": "55a66044-783d-457a-e2a0-d94a577daf1f"
      },
      "outputs": [
        {
          "output_type": "stream",
          "name": "stdout",
          "text": [
            "Requirement already satisfied: portalocker in /usr/local/lib/python3.10/dist-packages (2.8.2)\n",
            "Requirement already satisfied: transformers in /usr/local/lib/python3.10/dist-packages (4.34.0)\n",
            "Requirement already satisfied: tokenizers in /usr/local/lib/python3.10/dist-packages (0.14.1)\n",
            "Requirement already satisfied: filelock in /usr/local/lib/python3.10/dist-packages (from transformers) (3.12.4)\n",
            "Requirement already satisfied: huggingface-hub<1.0,>=0.16.4 in /usr/local/lib/python3.10/dist-packages (from transformers) (0.17.3)\n",
            "Requirement already satisfied: numpy>=1.17 in /usr/local/lib/python3.10/dist-packages (from transformers) (1.23.5)\n",
            "Requirement already satisfied: packaging>=20.0 in /usr/local/lib/python3.10/dist-packages (from transformers) (23.2)\n",
            "Requirement already satisfied: pyyaml>=5.1 in /usr/local/lib/python3.10/dist-packages (from transformers) (6.0.1)\n",
            "Requirement already satisfied: regex!=2019.12.17 in /usr/local/lib/python3.10/dist-packages (from transformers) (2023.6.3)\n",
            "Requirement already satisfied: requests in /usr/local/lib/python3.10/dist-packages (from transformers) (2.31.0)\n",
            "Requirement already satisfied: safetensors>=0.3.1 in /usr/local/lib/python3.10/dist-packages (from transformers) (0.4.0)\n",
            "Requirement already satisfied: tqdm>=4.27 in /usr/local/lib/python3.10/dist-packages (from transformers) (4.66.1)\n",
            "Requirement already satisfied: fsspec in /usr/local/lib/python3.10/dist-packages (from huggingface-hub<1.0,>=0.16.4->transformers) (2023.6.0)\n",
            "Requirement already satisfied: typing-extensions>=3.7.4.3 in /usr/local/lib/python3.10/dist-packages (from huggingface-hub<1.0,>=0.16.4->transformers) (4.5.0)\n",
            "Requirement already satisfied: charset-normalizer<4,>=2 in /usr/local/lib/python3.10/dist-packages (from requests->transformers) (3.3.0)\n",
            "Requirement already satisfied: idna<4,>=2.5 in /usr/local/lib/python3.10/dist-packages (from requests->transformers) (3.4)\n",
            "Requirement already satisfied: urllib3<3,>=1.21.1 in /usr/local/lib/python3.10/dist-packages (from requests->transformers) (2.0.6)\n",
            "Requirement already satisfied: certifi>=2017.4.17 in /usr/local/lib/python3.10/dist-packages (from requests->transformers) (2023.7.22)\n"
          ]
        }
      ],
      "source": [
        "!pip install portalocker transformers tokenizers"
      ]
    },
    {
      "cell_type": "code",
      "execution_count": 4,
      "metadata": {
        "id": "SWkkb9uc4T5B"
      },
      "outputs": [],
      "source": [
        "import os\n",
        "import copy\n",
        "\n",
        "import torch\n",
        "from torch import nn\n",
        "import torch.nn.functional as F\n",
        "from torch.optim.lr_scheduler import LambdaLR\n",
        "from torch.utils.data import Dataset, DataLoader\n",
        "\n",
        "from torchtext.data import to_map_style_dataset\n",
        "from torchtext.data.utils import get_tokenizer\n",
        "from torchtext.vocab import build_vocab_from_iterator\n",
        "from torchtext.datasets import WikiText2, WikiText103 #our datasets for this project\n",
        "\n",
        "from tokenizers import BertWordPieceTokenizer\n",
        "from transformers import BertTokenizer, DataCollatorForLanguageModeling\n",
        "\n",
        "import math\n",
        "import nltk\n",
        "import numpy as np\n",
        "import pandas as pd\n",
        "import pickle\n",
        "import random\n",
        "import spacy\n",
        "import tqdm\n",
        "\n",
        "DATASET_small = \"WikiText2\"\n",
        "DATASET_large = \"WikiText103\"\n",
        "\n",
        "DEVICE = \"cuda\" if torch.cuda.is_available() else \"cpu\"\n",
        "TOKENIZER=\"basic_english\"\n",
        "DATA_DIRECTORY = \".\""
      ]
    },
    {
      "cell_type": "markdown",
      "metadata": {
        "id": "09DBB2wd24DJ"
      },
      "source": [
        "##Model Objective and Data"
      ]
    },
    {
      "cell_type": "markdown",
      "metadata": {
        "id": "9sVv47JM5I7p"
      },
      "source": [
        "###Who (What) is BERT?"
      ]
    },
    {
      "cell_type": "markdown",
      "metadata": {
        "id": "PCHzPRMbL6Pw"
      },
      "source": [
        "\n",
        "While BERT is a much more complex model and what it accomplishes isn't exactly akin to Word2Vec, the intuition behind both is similar. We pass in sentences and attempt to make a model learn how to represent text in a way that captures not only information about the tokens themselves but also something about their *meaning*.\n",
        "\n",
        "Word2Vec does this by training a model on words and their context in sentences and learning  about their relationships with one another by either trying to predict context from words (*Skip-Gram*) or words from context (*CBOW*). The embeddings it produces are static for each word.\n",
        "\n",
        "BERT trains a Transformer Encoder model on two specific objectives: *Masked Language Modeling* and *Next Sentence Prediction* to learn a wealth of information about tokens in their context and provide representations of them. Note that BERT is not simply learning static embeddings but rather representations that change based on context. Tokens in BERT are embedded using *WordPiece* embeddings.\n",
        "\n",
        "The goal of the BERT paper was to introduce a way to represent words with a pre-trained transformer and not to make a model for a specific predictive goal. To this end it is trained in an unsupervised manner with the aforementioned MLM and NSP objectives (will be explained ahead)."
      ]
    },
    {
      "cell_type": "markdown",
      "metadata": {
        "id": "rZh1_Ky2gPKa"
      },
      "source": [
        "###Data Processing"
      ]
    },
    {
      "cell_type": "code",
      "execution_count": 5,
      "metadata": {
        "id": "MjWVBG8Ff9jY"
      },
      "outputs": [],
      "source": [
        "#We need to pull in the dataset and break it into sentence pairs for the NSP objective\n",
        "#and we need to mask random words and create objectives for the MLM objective.\n",
        "DATASET = DATASET_small\n",
        "dataset_class = WikiText2 if DATASET == DATASET_small else WikiText103\n",
        "data_train = dataset_class(DATA_DIRECTORY, split = \"train\")\n",
        "\n",
        "OPT_VERSION = ''\n",
        "\n",
        "TOKENS_LOCATION = os.path.join(DATA_DIRECTORY, \"datasets\", DATASET, DATASET.lower()[:8]+f\"-{DATASET[8:]}\")\n",
        "TOKENIZER_LOCATION = os.path.join(DATA_DIRECTORY, \"tokenizers\", )\n",
        "TOKENIZER_NAME = f\"bert-wordpiece-{DATASET}{OPT_VERSION}\" #just here to standardize naming for later\n",
        "os.makedirs(TOKENIZER_LOCATION, exist_ok = True)\n",
        "\n",
        "MAX_TOKENIZED_SENTENCE_LEN = 128 #maximum number of tokens in sentence\n",
        "\n",
        "gen = iter(data_train)\n",
        "\n",
        "sample = []\n",
        "for i in range(20):\n",
        "  sample.append(next(gen))"
      ]
    },
    {
      "cell_type": "code",
      "execution_count": 6,
      "metadata": {
        "colab": {
          "base_uri": "https://localhost:8080/"
        },
        "id": "SVIW8MfNiYX-",
        "outputId": "9fb61fa3-7d32-49d0-f9dc-560c2b03093a"
      },
      "outputs": [
        {
          "output_type": "stream",
          "name": "stdout",
          "text": [
            "[' \\n', ' = Valkyria Chronicles III = \\n', ' \\n', ' Senjō no Valkyria 3 : <unk> Chronicles ( Japanese : 戦場のヴァルキュリア3 , lit . Valkyria of the Battlefield 3 ) , commonly referred to as Valkyria Chronicles III outside Japan , is a tactical role @-@ playing video game developed by Sega and Media.Vision for the PlayStation Portable . Released in January 2011 in Japan , it is the third game in the Valkyria series . <unk> the same fusion of tactical and real @-@ time gameplay as its predecessors , the story runs parallel to the first game and follows the \" Nameless \" , a penal military unit serving the nation of Gallia during the Second Europan War who perform secret black operations and are pitted against the Imperial unit \" <unk> Raven \" . \\n', \" The game began development in 2010 , carrying over a large portion of the work done on Valkyria Chronicles II . While it retained the standard features of the series , it also underwent multiple adjustments , such as making the game more <unk> for series newcomers . Character designer <unk> Honjou and composer Hitoshi Sakimoto both returned from previous entries , along with Valkyria Chronicles II director Takeshi Ozawa . A large team of writers handled the script . The game 's opening theme was sung by May 'n . \\n\"]\n",
            "20\n"
          ]
        }
      ],
      "source": [
        "print(sample[:5])\n",
        "print(len(sample))"
      ]
    },
    {
      "cell_type": "markdown",
      "metadata": {
        "id": "Tx3b0r8KkA8x"
      },
      "source": [
        "In the WikiText data, we see a lot of control characters like newlines, we want to make sure when we tokenize that we do not consider these. We also see that articles are delineated by a header given between single **=** signs and subheaders given by double, triple etc. equal signs.\n",
        "\n",
        "We don't want header paragraphs and we don't want empty whitespace lines, so we need to preprocess the data some before we actually split them out into sentence pairs for our NSP task."
      ]
    },
    {
      "cell_type": "code",
      "execution_count": 7,
      "metadata": {
        "colab": {
          "base_uri": "https://localhost:8080/"
        },
        "id": "bXKcxThinJxC",
        "outputId": "5470f4e3-b390-4046-acb3-7ef10999f3dd"
      },
      "outputs": [
        {
          "output_type": "stream",
          "name": "stderr",
          "text": [
            "/usr/local/lib/python3.10/dist-packages/transformers/tokenization_utils_base.py:1946: FutureWarning: Calling BertTokenizer.from_pretrained() with the path to a single file or url is deprecated and won't be possible anymore in v5. Use a model identifier or the path to a directory instead.\n",
            "  warnings.warn(\n"
          ]
        }
      ],
      "source": [
        "tokenizer = BertWordPieceTokenizer(\n",
        "    clean_text = True, #removes control chars like \\n\n",
        "    handle_chinese_chars = False, #not anticipating chinese chars\n",
        "    strip_accents = False, #keep accents in text\n",
        "    lowercase = True #ignore case\n",
        ")\n",
        "\n",
        "tokenizer.train(\n",
        "    files = os.path.join(TOKENS_LOCATION, \"wiki.train.tokens\"),\n",
        "    vocab_size = 30_000 if DATASET == DATASET_small else 90_000, #bigger vocab for bigger dataset\n",
        "    min_frequency = 10 if DATASET == DATASET_small else 50, #require higher freq for bigger dataset\n",
        "    limit_alphabet = 1000,\n",
        "    wordpieces_prefix = '##',\n",
        "    special_tokens=['[PAD]', '[CLS]', '[SEP]', '[MASK]', '[UNK]'] #in wikitext, <unk> is used for unknown tokens\n",
        ")\n",
        "\n",
        "tokenizer.save_model(\n",
        "    TOKENIZER_LOCATION,\n",
        "    TOKENIZER_NAME\n",
        ")\n",
        "\n",
        "#This is the tokenizer we will use\n",
        "tokenizer = BertTokenizer.from_pretrained(os.path.join(TOKENIZER_LOCATION, TOKENIZER_NAME)+'-vocab.txt')\n",
        "#adding this to handle the inbuilt <unk> token in the dataset which otherwise\n",
        "#gets split into < unk > which may affect (slightly, but still) model performance\n",
        "# tokenizer.add_special_tokens({'additional_special_tokens': ['<unk>']})\n"
      ]
    },
    {
      "cell_type": "markdown",
      "metadata": {
        "id": "tkaIC0CR0k8u"
      },
      "source": [
        "\n",
        "All of the input text for BERT training is to be of the form\n",
        "\n",
        "    \"[CLS] <SENTENCE1> [SEP] <SENTENCE2> [SEP]\"\n",
        "with `[PAD]` tokens added at the end as needed.\n",
        "\n",
        "**Notice below how `token_type_ids` denotes where the first sequence ends and the next begins.**\n",
        "\n",
        "Data preprocessing will require us to set up the two  training tasks of NSP and MLM."
      ]
    },
    {
      "cell_type": "code",
      "execution_count": 9,
      "metadata": {
        "colab": {
          "base_uri": "https://localhost:8080/"
        },
        "id": "yrJwEZxG53xO",
        "outputId": "a86b2b8b-aceb-47a4-f6ea-c376f2d1cb7a"
      },
      "outputs": [
        {
          "output_type": "stream",
          "name": "stdout",
          "text": [
            "test=(' = Valkyria Chronicles III = \\n', ' Senjō no Valkyria 3 : <unk> Chronicles ( Japanese : 戦場のヴァルキュリア3 , lit . Valkyria of the Battlefield 3 ) , commonly referred to as Valkyria Chronicles III outside Japan , is a tactical role @-@ playing video game developed by Sega and Media.Vision for the PlayStation Portable . Released in January 2011 in Japan , it is the third game in the Valkyria series . <unk> the same fusion of tactical and real @-@ time gameplay as its predecessors , the story runs parallel to the first game and follows the \" Nameless \" , a penal military unit serving the nation of Gallia during the Second Europan War who perform secret black operations and are pitted against the Imperial unit \" <unk> Raven \" . \\n')\n",
            "__input_ids__\n",
            "len=1\n",
            "tensor([[    1,    33,  7754,  7833,  2907,    33,     2,  2957,  5194,   746,\n",
            "          7754,    23,    30, 20395,  7833,    12,  2709,    30,   236,   234,\n",
            "             4,    16,  1244,    18,  7754,   394,   381,  9510,    23,    13,\n",
            "            16,  4627,  3155,   403,   428,  7754,  7833,  2907,  2364,  1826,\n",
            "            16,   445,    42, 10526,  1554,    36,    17,    36,  2202,  1380,\n",
            "           741,  1919,   450,  5160,   247,   399,  2639,    18,  5480,   424,\n",
            "           381,  4501, 10289,    18,  1146,   391,  1425,  1719,   391,  1826,\n",
            "            16,   444,   445,   381,  1361,   741,   391,   381,  7754,   885,\n",
            "            18, 20395,   381,  1145,  8559,   394, 10526,   399,  1511,    36,\n",
            "            17,    36,   689,  5059,   428,   577, 12405,    16,   381,  1422,\n",
            "          3291,  6416,   403,   381,   573,   741,   399,  4397,   381,     6,\n",
            "         18266,     6,    16,    42, 11551,  1594,  3147,  5034,   381,  3659,\n",
            "           394,  3359,   566,   677,   381,   843,  9689,   253,   758,   637,\n",
            "           967,  2461,  1288,  2283,   399,   520, 14511,   384,   972,   381,\n",
            "          5322,  3147,     6, 20395, 18511,     6,    18,     2]])\n",
            "__token_type_ids__\n",
            "len=1\n",
            "tensor([[0, 0, 0, 0, 0, 0, 0, 1, 1, 1, 1, 1, 1, 1, 1, 1, 1, 1, 1, 1, 1, 1, 1, 1,\n",
            "         1, 1, 1, 1, 1, 1, 1, 1, 1, 1, 1, 1, 1, 1, 1, 1, 1, 1, 1, 1, 1, 1, 1, 1,\n",
            "         1, 1, 1, 1, 1, 1, 1, 1, 1, 1, 1, 1, 1, 1, 1, 1, 1, 1, 1, 1, 1, 1, 1, 1,\n",
            "         1, 1, 1, 1, 1, 1, 1, 1, 1, 1, 1, 1, 1, 1, 1, 1, 1, 1, 1, 1, 1, 1, 1, 1,\n",
            "         1, 1, 1, 1, 1, 1, 1, 1, 1, 1, 1, 1, 1, 1, 1, 1, 1, 1, 1, 1, 1, 1, 1, 1,\n",
            "         1, 1, 1, 1, 1, 1, 1, 1, 1, 1, 1, 1, 1, 1, 1, 1, 1, 1, 1, 1, 1, 1, 1, 1,\n",
            "         1, 1, 1, 1]])\n",
            "__attention_mask__\n",
            "len=1\n",
            "tensor([[1, 1, 1, 1, 1, 1, 1, 1, 1, 1, 1, 1, 1, 1, 1, 1, 1, 1, 1, 1, 1, 1, 1, 1,\n",
            "         1, 1, 1, 1, 1, 1, 1, 1, 1, 1, 1, 1, 1, 1, 1, 1, 1, 1, 1, 1, 1, 1, 1, 1,\n",
            "         1, 1, 1, 1, 1, 1, 1, 1, 1, 1, 1, 1, 1, 1, 1, 1, 1, 1, 1, 1, 1, 1, 1, 1,\n",
            "         1, 1, 1, 1, 1, 1, 1, 1, 1, 1, 1, 1, 1, 1, 1, 1, 1, 1, 1, 1, 1, 1, 1, 1,\n",
            "         1, 1, 1, 1, 1, 1, 1, 1, 1, 1, 1, 1, 1, 1, 1, 1, 1, 1, 1, 1, 1, 1, 1, 1,\n",
            "         1, 1, 1, 1, 1, 1, 1, 1, 1, 1, 1, 1, 1, 1, 1, 1, 1, 1, 1, 1, 1, 1, 1, 1,\n",
            "         1, 1, 1, 1]])\n"
          ]
        }
      ],
      "source": [
        "test = (sample[1], sample[3])\n",
        "\n",
        "# test = \"\\n\"\n",
        "print(f\"{test=}\")\n",
        "#automatically adds [CLS] before first sentence and [SEP] after each sentence\n",
        "#this is how Bert separates two sentences in the input\n",
        "tokenized = tokenizer.encode_plus(test[0], test[1], add_special_tokens = True, return_tensors = \"pt\")\n",
        "for key, val in tokenized.items():\n",
        "  print(f\"__{key}__\")\n",
        "  print(f\"len={len(val)}\")\n",
        "  print(val)"
      ]
    },
    {
      "cell_type": "code",
      "execution_count": 10,
      "metadata": {
        "id": "CsHMzNC76hQc"
      },
      "outputs": [],
      "source": [
        "def new_article(para):\n",
        "  #just checks if it is a new article\n",
        "  return para.strip().startswith(\"= \") and not para.strip().startswith(\"= =\")\n",
        "\n",
        "def new_heading(para):\n",
        "  #checks if it is a new heading\n",
        "  #slightly different from the new article\n",
        "  return para.strip().startswith(\"=\")\n",
        "\n",
        "def split_sentences(para):\n",
        "  sentences = para.split('. ')\n",
        "\n",
        "def article_sentence_pairs(article_sentences):\n",
        "  #See note below\n",
        "  sentence_pairs = []\n",
        "  for i, sentence in enumerate(article_sentences):\n",
        "    if i == len(article_sentences)-1:\n",
        "      break\n",
        "    else:\n",
        "      sentence_pairs.append((sentence, article_sentences[i+1]))\n",
        "  return sentence_pairs\n",
        "\n",
        "def collect_sentence_pairs(dataset_iter):\n",
        "  articles = []\n",
        "  current_article = []\n",
        "  for para in tqdm.auto.tqdm(dataset_iter):\n",
        "    if new_article(para):\n",
        "      #new article, stop collecting sentences\n",
        "      if len(current_article) > 0:\n",
        "        articles += article_sentence_pairs(current_article)\n",
        "      current_article = []\n",
        "      continue\n",
        "    if para.strip() == '' or new_heading(para):\n",
        "      #new heading or empty line, skip and continue collecting\n",
        "      continue\n",
        "    current_article += para.strip().split('. ')\n",
        "  return articles\n"
      ]
    },
    {
      "cell_type": "markdown",
      "metadata": {
        "id": "EOAOtjrPesbQ"
      },
      "source": [
        "NOTE: there are a few ways we could have split this dataset. I chose to go with one that splits at `\". \"` for this approach but we could have tokenized the data first and split according to maximum sequence length."
      ]
    },
    {
      "cell_type": "code",
      "execution_count": 11,
      "metadata": {
        "colab": {
          "base_uri": "https://localhost:8080/",
          "height": 67,
          "referenced_widgets": [
            "c4dc3d42486644699f7552161c078287",
            "ef5258eff8e14e5092031f7c9c3aa816",
            "c3014c355b7a4c1eb7b562af64c142ba",
            "949c23e8533b4f3581cc31ff2c6317ac",
            "64b7b36e431b46349a9723799eadbe6d",
            "48126f1b0eca4b2bb6052f6e08a70021",
            "3ff7a7bd98194164b31268abaef91332",
            "8b6b19848706400abbd3b79e66ea7548",
            "1fa68aae785f4ca98cc623047afd6020",
            "67fb90da29df41d3ab5f7a088cae25fa",
            "b783010f635844e0b2bdfde84d3c5a45"
          ]
        },
        "id": "URu40H5ReqGc",
        "outputId": "623cd167-85d4-404d-8848-62498e37ae70"
      },
      "outputs": [
        {
          "output_type": "display_data",
          "data": {
            "text/plain": [
              "0it [00:00, ?it/s]"
            ],
            "application/vnd.jupyter.widget-view+json": {
              "version_major": 2,
              "version_minor": 0,
              "model_id": "c4dc3d42486644699f7552161c078287"
            }
          },
          "metadata": {}
        },
        {
          "output_type": "execute_result",
          "data": {
            "text/plain": [
              "80096"
            ]
          },
          "metadata": {},
          "execution_count": 11
        }
      ],
      "source": [
        "#proper pipeline management, since we iterated once on the old data_train object we reset iteration\n",
        "gen = iter(dataset_class(DATA_DIRECTORY, split = \"train\"))\n",
        "train_sentence_pairs = collect_sentence_pairs(gen)\n",
        "len(train_sentence_pairs)"
      ]
    },
    {
      "cell_type": "code",
      "source": [
        "gen = iter(dataset_class(DATA_DIRECTORY, split = \"valid\"))\n",
        "valid_sentence_pairs = collect_sentence_pairs(gen)\n",
        "len(valid_sentence_pairs)\n"
      ],
      "metadata": {
        "colab": {
          "base_uri": "https://localhost:8080/",
          "height": 67,
          "referenced_widgets": [
            "91d025db0be44f33ac3ccc2852cdee4a",
            "a4354941be6e42faa510c0aff31c4c7d",
            "302e12d1d3f54059ad06d1a804e1f25d",
            "18d989f6a41e43aca46e573faccd8d61",
            "9d10f4033de04b08890e7a8a07d5633e",
            "5afb4a4534d24366b846590bd76cd135",
            "56a62bd5b003479f8ec3357e8ca3e084",
            "6bf5dee948c54691a0d38a7db541a4ca",
            "ea6d714214424ff3afab50ebb59064c9",
            "3a57415cb6824eb6a0238aef8b1ec968",
            "3c480ba354c64b3f812446a73a281184"
          ]
        },
        "id": "p-TsR_4SxpuO",
        "outputId": "a7171a92-a532-42cb-ffd8-cfd0ebaf8f46"
      },
      "execution_count": 12,
      "outputs": [
        {
          "output_type": "display_data",
          "data": {
            "text/plain": [
              "0it [00:00, ?it/s]"
            ],
            "application/vnd.jupyter.widget-view+json": {
              "version_major": 2,
              "version_minor": 0,
              "model_id": "91d025db0be44f33ac3ccc2852cdee4a"
            }
          },
          "metadata": {}
        },
        {
          "output_type": "execute_result",
          "data": {
            "text/plain": [
              "8414"
            ]
          },
          "metadata": {},
          "execution_count": 12
        }
      ]
    },
    {
      "cell_type": "code",
      "execution_count": 13,
      "metadata": {
        "colab": {
          "base_uri": "https://localhost:8080/"
        },
        "id": "kmojwWO6lddp",
        "outputId": "ccca6efe-8758-4654-f3f6-d782c7bf9e88"
      },
      "outputs": [
        {
          "output_type": "execute_result",
          "data": {
            "text/plain": [
              "[]"
            ]
          },
          "metadata": {},
          "execution_count": 13
        }
      ],
      "source": [
        "train_sentence_pairs[900000:900010]"
      ]
    },
    {
      "cell_type": "code",
      "source": [
        "#Persist sentence pairs to file\n",
        "os.makedirs(os.path.join(DATA_DIRECTORY, \"datasets\", \"pairs_data\"), exist_ok = True)\n",
        "\n",
        "\n",
        "SENTENCE_PAIRS_LOCATION = os.path.join(TOKENS_LOCATION, \"pairs\")\n",
        "os.makedirs(SENTENCE_PAIRS_LOCATION, exist_ok=True)\n",
        "\n",
        "\n",
        "#pickle 200k sentence pairs at a time into various pickle files\n",
        "def pickle_pairs(pairs, prefix=\"train\", chunk_size = 200_000):\n",
        "  i = 0\n",
        "  while chunk_size*(i+1) < len(pairs):\n",
        "    with open(os.path.join(SENTENCE_PAIRS_LOCATION, f\"{prefix}-{i}.pkl\"), \"wb\") as f:\n",
        "      pickle.dump(pairs[chunk_size*i:chunk_size*(i+1)], f)\n",
        "    i+=1\n",
        "\n",
        "pickle_pairs(train_sentence_pairs)\n",
        "pickle_pairs(valid_sentence_pairs, \"valid\")\n"
      ],
      "metadata": {
        "id": "W3HiEHtMj4ul"
      },
      "execution_count": 14,
      "outputs": []
    },
    {
      "cell_type": "markdown",
      "source": [
        "So we see now that we are able to make pairs of sentences next to one another. Note that our particular method makes it so the first sentence from the immediately following paragraph is treated as a \"next sentence\" but the first sentence of the following article is not."
      ],
      "metadata": {
        "id": "Ra6V0_gbBfky"
      }
    },
    {
      "cell_type": "markdown",
      "source": [
        "###The Two Training Objectives"
      ],
      "metadata": {
        "id": "P2bslE5_CDLv"
      }
    },
    {
      "cell_type": "markdown",
      "source": [
        "  The following examples are straight from the paper and used to illustrate the NSP objective but can be used to explain the MLM objective as well.\n",
        "    \n",
        "    Input: [CLS] the man went to [MASK] store [SEP] he bought a gallon [MASK] milk [SEP]\n",
        "    Label: IsNext\n",
        "\n",
        "    Input: [CLS] the man went to [MASK] store [SEP] penguin [MASK] are flight ##less birds [SEP]\n",
        "    Label: NotNext"
      ],
      "metadata": {
        "id": "CfRzg63aDJRV"
      }
    },
    {
      "cell_type": "markdown",
      "source": [
        "####Creating a Custom Dataset\n",
        "####Masked Language Modeling\n",
        "The **Masked Language Model** task masks out tokens with a given probability (and with some small probability substitutes with a random token) in the inputs and asks the model to predict the tokens that were masked out.\n",
        "\n",
        "####Next Sentence Prediction\n",
        "\n",
        "The **Next Sentence Prediction** task takes sentence pairs and creates a balanced classification task, where half of the time the following sentence is actually the next sentence and half of the time it is a random sentence. Then the model is trained to correctly predict whether or not the second sentence is the actual next sentence.\n",
        "\n",
        "We have already done half of the work for this task by creating positive next sentence pairs for each sentence in the text. All we have to do is replace the second sentence in each pair with a random sentence half of the time."
      ],
      "metadata": {
        "id": "iEACS1_SC14n"
      }
    },
    {
      "cell_type": "code",
      "source": [
        "#We will create a custom Dataset class for our purposes\n",
        "class BERTDataset(Dataset):\n",
        "  def __init__(self, sentence_pairs, tokenizer, seq_len=512):\n",
        "    self.sentence_pairs = sentence_pairs\n",
        "    self.num_pairs = len(sentence_pairs)\n",
        "    self.tokenizer = tokenizer\n",
        "    self.seq_len = seq_len\n",
        "\n",
        "  def __len__(self):\n",
        "    return self.num_pairs\n",
        "\n",
        "  #The key component of a Dataset is the __getitem__ function\n",
        "  def __getitem__(self, idx):\n",
        "    #get nsp entry, encode, return\n",
        "    sentence1, sentence2, isNextLabel = self.get_nsp_entry(idx)\n",
        "\n",
        "    #TODO: CONSIDERING NOT ENCODING, CHECK LATER\n",
        "    encoded_pair = tokenizer.encode_plus(\n",
        "        sentence1,\n",
        "        sentence2,\n",
        "        add_special_tokens = True,\n",
        "        max_length = self.seq_len,\n",
        "        padding = 'max_length',\n",
        "        truncation = 'longest_first',\n",
        "        return_special_tokens_mask = True,\n",
        "        return_tensors = \"pt\"\n",
        "    )\n",
        "\n",
        "    encoded_pair['nsp_labels'] = torch.Tensor([i == isNextLabel for i in range(2)]).int()\n",
        "\n",
        "    return encoded_pair\n",
        "\n",
        "\n",
        "  def get_nsp_entry(self, idx):\n",
        "    #Implement NSP randomization here\n",
        "    sent1, sent2 = self.sentence_pairs[idx]\n",
        "    if random.random() >= 0.5:\n",
        "      #this is the case where we give positive nsp example\n",
        "      return sent1, sent2, 1\n",
        "    else:\n",
        "      return sent1, self.get_non_next_sentence(idx), 0\n",
        "\n",
        "  def get_non_next_sentence(self, idx):\n",
        "    random_idx = random.randrange(self.num_pairs)\n",
        "    while random_idx == idx:\n",
        "      \"\"\"\n",
        "      this is just here for the small chance that\n",
        "      our random index maps to the same one and gives\n",
        "      us a false pair where the actual next sentence\n",
        "      is mislabeled as NotNext\n",
        "      \"\"\"\n",
        "      random_idx = random.randrange(self.num_pairs)\n",
        "    return self.sentence_pairs[random_idx][1]\n",
        "\n"
      ],
      "metadata": {
        "id": "lvIguW-eBfVF"
      },
      "execution_count": 177,
      "outputs": []
    },
    {
      "cell_type": "markdown",
      "source": [
        "#####Example using the Transformers Library for MLM\n",
        "\n",
        "We can use the `transformers.DataCollatorForLanguageModeling` class to handle the masking for us.\n",
        "\n",
        "We see [in the documentation](https://github.com/huggingface/transformers/blob/b71f20a7c9f3716d30f6738501559acf863e2c5c/src/transformers/data/data_collator.py#L751C1-L751C108) that exactly like in the paper, `DataCollatorForLanguageModeling` will mask tokens 80% of the time, replace with a random token 10% of the time, and leave as is 10% of the time. This is all conditional on the `mlm_probability` value passed into the collator which is `0.15` in the paper."
      ],
      "metadata": {
        "id": "EBZIiacqlQPH"
      }
    },
    {
      "cell_type": "code",
      "source": [
        "collator = DataCollatorForLanguageModeling(tokenizer = tokenizer, mlm = True, mlm_probability = 0.15)"
      ],
      "metadata": {
        "id": "kk9NJ5exV-9S"
      },
      "execution_count": 178,
      "outputs": []
    },
    {
      "cell_type": "code",
      "source": [
        "#We recreate our tokenization example from earlier,\n",
        "#we just want to create a sentence pair for illustration\n",
        "feats = tokenizer.encode_plus(\n",
        "    sample[1],\n",
        "    sample[3],\n",
        "    return_special_tokens_mask = True,\n",
        "    return_tensors = \"pt\",\n",
        "    max_length = 256,\n",
        "    truncation=True,\n",
        "    padding = 'max_length'\n",
        ")\n"
      ],
      "metadata": {
        "id": "W4t3AtDVcJ7U"
      },
      "execution_count": 179,
      "outputs": []
    },
    {
      "cell_type": "code",
      "source": [
        "feats['nsp_label'] = torch.Tensor([1])"
      ],
      "metadata": {
        "id": "3xPn9UBJTAHc"
      },
      "execution_count": 180,
      "outputs": []
    },
    {
      "cell_type": "code",
      "source": [
        "from pprint import pprint\n",
        "\n",
        "masked = collator([feats])\n",
        "pprint(masked)"
      ],
      "metadata": {
        "colab": {
          "base_uri": "https://localhost:8080/"
        },
        "id": "3bq17uOXaunC",
        "outputId": "13603abb-1338-4ed0-a0ba-7ca47100f58c"
      },
      "execution_count": 181,
      "outputs": [
        {
          "output_type": "stream",
          "name": "stdout",
          "text": [
            "{'attention_mask': tensor([[[1, 1, 1, 1, 1, 1, 1, 1, 1, 1, 1, 1, 1, 1, 1, 1, 1, 1, 1, 1, 1, 1, 1,\n",
            "          1, 1, 1, 1, 1, 1, 1, 1, 1, 1, 1, 1, 1, 1, 1, 1, 1, 1, 1, 1, 1, 1, 1,\n",
            "          1, 1, 1, 1, 1, 1, 1, 1, 1, 1, 1, 1, 1, 1, 1, 1, 1, 1, 1, 1, 1, 1, 1,\n",
            "          1, 1, 1, 1, 1, 1, 1, 1, 1, 1, 1, 1, 1, 1, 1, 1, 1, 1, 1, 1, 1, 1, 1,\n",
            "          1, 1, 1, 1, 1, 1, 1, 1, 1, 1, 1, 1, 1, 1, 1, 1, 1, 1, 1, 1, 1, 1, 1,\n",
            "          1, 1, 1, 1, 1, 1, 1, 1, 1, 1, 1, 1, 1, 1, 1, 1, 1, 1, 1, 1, 1, 1, 1,\n",
            "          1, 1, 1, 1, 1, 1, 1, 1, 1, 1, 0, 0, 0, 0, 0, 0, 0, 0, 0, 0, 0, 0, 0,\n",
            "          0, 0, 0, 0, 0, 0, 0, 0, 0, 0, 0, 0, 0, 0, 0, 0, 0, 0, 0, 0, 0, 0, 0,\n",
            "          0, 0, 0, 0, 0, 0, 0, 0, 0, 0, 0, 0, 0, 0, 0, 0, 0, 0, 0, 0, 0, 0, 0,\n",
            "          0, 0, 0, 0, 0, 0, 0, 0, 0, 0, 0, 0, 0, 0, 0, 0, 0, 0, 0, 0, 0, 0, 0,\n",
            "          0, 0, 0, 0, 0, 0, 0, 0, 0, 0, 0, 0, 0, 0, 0, 0, 0, 0, 0, 0, 0, 0, 0,\n",
            "          0, 0, 0]]]),\n",
            " 'input_ids': tensor([[[    1,    33,  7754,  7833,  2907,    33,     2,  2957,  5194,   746,\n",
            "           7754,    23,    30, 20395,  7833,    12,  2709,    30,     3,     3,\n",
            "              4,    16,  1244,    18,  7754,   394,   381,  9510,    23,    13,\n",
            "             16,     3,  3155,   403,   428,  7754,  7833,  2907,  2364,  1826,\n",
            "             16,   445,    42, 10526,  1554,    36,  5363,    36,  2202,     3,\n",
            "              3,  1919,   450,  5160, 18808,   399,  2639,    18,  5480,   424,\n",
            "            381,  4501, 10289,    18,     3,   391,  1425,  1719,   391,  1826,\n",
            "             16,   444,   445,   381,  1361,   741,   391,   381,  7754,   885,\n",
            "             18, 20395,   381,  1145,  8559,   394, 10526,   399,  1511,    36,\n",
            "             17,    36,   689,  5059,     3,   577, 12405,    16,     3,  1422,\n",
            "           3291,  6416,   403,   381,   573,   741,     3,  4397,   381,     6,\n",
            "          18266,     6,    16,    42, 11551,  1594,  3147,  5034,   381,  3659,\n",
            "            394,  3359,   566,   677,   381,   843,  9689,   253,   758,     3,\n",
            "            967,  2461,  1288,  2283,   399,   520,     3,   384,   972,   381,\n",
            "           5322,     3,     6, 20395, 18511,     6,    18,     2,     0,     0,\n",
            "              0,     0,     0,     0,     0,     0,     0,     0,     0,     0,\n",
            "              0,     0,     0,     0,     0,     0,     0,     0,     0,     0,\n",
            "              0,     0,     0,     0,     0,     0,     0,     0,     0,     0,\n",
            "              0,     0,     0,     0,     0,     0,     0,     0,     0,     0,\n",
            "              0,     0,     0,     0,     0,     0,     0,     0,     0,     0,\n",
            "              0,     0,     0,     0,     0,     0,     0,     0,     0,     0,\n",
            "              0,     0,     0,     0,     0,     0,     0,     0,     0,     0,\n",
            "              0,     0,     0,     0,     0,     0,     0,     0,     0,     0,\n",
            "              0,     0,     0,     0,     0,     0,     0,     0,     0,     0,\n",
            "              0,     0,     0,     0,     0,     0,     0,     0,     0,     0,\n",
            "              0,     0,     0,     0,     0,     0]]]),\n",
            " 'labels': tensor([[[ -100,  -100,  -100,  -100,  -100,  -100,  -100,  -100,  -100,  -100,\n",
            "           -100,  -100,  -100,  -100,  -100,  -100,  -100,  -100,   236,   234,\n",
            "           -100,  -100,  -100,  -100,  -100,  -100,  -100,  -100,  -100,  -100,\n",
            "           -100,  4627,  -100,  -100,  -100,  -100,  -100,  -100,  -100,  -100,\n",
            "           -100,  -100,  -100,  -100,  -100,  -100,    17,  -100,  -100,  1380,\n",
            "            741,  -100,  -100,  -100,   247,  -100,  -100,  -100,  -100,  -100,\n",
            "           -100,  -100,  -100,  -100,  1146,  -100,  -100,  -100,  -100,  -100,\n",
            "           -100,  -100,  -100,  -100,  -100,  -100,  -100,  -100,  -100,  -100,\n",
            "           -100,  -100,  -100,  -100,  -100,  -100,  -100,  -100,  -100,  -100,\n",
            "           -100,  -100,  -100,  -100,   428,  -100,  -100,  -100,   381,  -100,\n",
            "           -100,  -100,  -100,  -100,  -100,  -100,   399,  -100,  -100,  -100,\n",
            "           -100,  -100,  -100,  -100,  -100,  -100,  -100,  -100,  -100,  -100,\n",
            "           -100,  -100,  -100,   677,  -100,  -100,  -100,  -100,  -100,   637,\n",
            "           -100,  -100,  -100,  -100,  -100,  -100, 14511,  -100,   972,  -100,\n",
            "           -100,  3147,  -100,  -100,  -100,  -100,  -100,  -100,  -100,  -100,\n",
            "           -100,  -100,  -100,  -100,  -100,  -100,  -100,  -100,  -100,  -100,\n",
            "           -100,  -100,  -100,  -100,  -100,  -100,  -100,  -100,  -100,  -100,\n",
            "           -100,  -100,  -100,  -100,  -100,  -100,  -100,  -100,  -100,  -100,\n",
            "           -100,  -100,  -100,  -100,  -100,  -100,  -100,  -100,  -100,  -100,\n",
            "           -100,  -100,  -100,  -100,  -100,  -100,  -100,  -100,  -100,  -100,\n",
            "           -100,  -100,  -100,  -100,  -100,  -100,  -100,  -100,  -100,  -100,\n",
            "           -100,  -100,  -100,  -100,  -100,  -100,  -100,  -100,  -100,  -100,\n",
            "           -100,  -100,  -100,  -100,  -100,  -100,  -100,  -100,  -100,  -100,\n",
            "           -100,  -100,  -100,  -100,  -100,  -100,  -100,  -100,  -100,  -100,\n",
            "           -100,  -100,  -100,  -100,  -100,  -100,  -100,  -100,  -100,  -100,\n",
            "           -100,  -100,  -100,  -100,  -100,  -100]]]),\n",
            " 'nsp_label': tensor([[1.]]),\n",
            " 'token_type_ids': tensor([[[0, 0, 0, 0, 0, 0, 0, 1, 1, 1, 1, 1, 1, 1, 1, 1, 1, 1, 1, 1, 1, 1, 1,\n",
            "          1, 1, 1, 1, 1, 1, 1, 1, 1, 1, 1, 1, 1, 1, 1, 1, 1, 1, 1, 1, 1, 1, 1,\n",
            "          1, 1, 1, 1, 1, 1, 1, 1, 1, 1, 1, 1, 1, 1, 1, 1, 1, 1, 1, 1, 1, 1, 1,\n",
            "          1, 1, 1, 1, 1, 1, 1, 1, 1, 1, 1, 1, 1, 1, 1, 1, 1, 1, 1, 1, 1, 1, 1,\n",
            "          1, 1, 1, 1, 1, 1, 1, 1, 1, 1, 1, 1, 1, 1, 1, 1, 1, 1, 1, 1, 1, 1, 1,\n",
            "          1, 1, 1, 1, 1, 1, 1, 1, 1, 1, 1, 1, 1, 1, 1, 1, 1, 1, 1, 1, 1, 1, 1,\n",
            "          1, 1, 1, 1, 1, 1, 1, 1, 1, 1, 0, 0, 0, 0, 0, 0, 0, 0, 0, 0, 0, 0, 0,\n",
            "          0, 0, 0, 0, 0, 0, 0, 0, 0, 0, 0, 0, 0, 0, 0, 0, 0, 0, 0, 0, 0, 0, 0,\n",
            "          0, 0, 0, 0, 0, 0, 0, 0, 0, 0, 0, 0, 0, 0, 0, 0, 0, 0, 0, 0, 0, 0, 0,\n",
            "          0, 0, 0, 0, 0, 0, 0, 0, 0, 0, 0, 0, 0, 0, 0, 0, 0, 0, 0, 0, 0, 0, 0,\n",
            "          0, 0, 0, 0, 0, 0, 0, 0, 0, 0, 0, 0, 0, 0, 0, 0, 0, 0, 0, 0, 0, 0, 0,\n",
            "          0, 0, 0]]])}\n"
          ]
        }
      ]
    },
    {
      "cell_type": "code",
      "source": [
        "tokenizer.decode(masked['input_ids'].squeeze())"
      ],
      "metadata": {
        "colab": {
          "base_uri": "https://localhost:8080/",
          "height": 183
        },
        "id": "zcGK-zY3kLp0",
        "outputId": "5747756c-3d04-4a75-89de-11b7311df293"
      },
      "execution_count": 182,
      "outputs": [
        {
          "output_type": "execute_result",
          "data": {
            "text/plain": [
              "'[CLS] = valkyria chronicles iii = [SEP] senjo no valkyria 3 : <unk> chronicles ( japanese : [MASK] [MASK] [UNK], lit. valkyria of the battlefield 3 ), [MASK] referred to as valkyria chronicles iii outside japan, is a tactical role @ ari @ playing [MASK] [MASK] developed by seg este and media. vision for the playstation portable. [MASK] in january 2011 in japan, it is the third game in the valkyria series. <unk> the same fusion of tactical and real @ - @ time gameplay [MASK] its predecessors, [MASK] story runs parallel to the first game [MASK] follows the \" nameless \", a penal military unit serving the nation of gallia during the second europan war [MASK] perform secret black operations and are [MASK]ed against the imperial [MASK] \" <unk> raven \". [SEP] [PAD] [PAD] [PAD] [PAD] [PAD] [PAD] [PAD] [PAD] [PAD] [PAD] [PAD] [PAD] [PAD] [PAD] [PAD] [PAD] [PAD] [PAD] [PAD] [PAD] [PAD] [PAD] [PAD] [PAD] [PAD] [PAD] [PAD] [PAD] [PAD] [PAD] [PAD] [PAD] [PAD] [PAD] [PAD] [PAD] [PAD] [PAD] [PAD] [PAD] [PAD] [PAD] [PAD] [PAD] [PAD] [PAD] [PAD] [PAD] [PAD] [PAD] [PAD] [PAD] [PAD] [PAD] [PAD] [PAD] [PAD] [PAD] [PAD] [PAD] [PAD] [PAD] [PAD] [PAD] [PAD] [PAD] [PAD] [PAD] [PAD] [PAD] [PAD] [PAD] [PAD] [PAD] [PAD] [PAD] [PAD] [PAD] [PAD] [PAD] [PAD] [PAD] [PAD] [PAD] [PAD] [PAD] [PAD] [PAD] [PAD] [PAD] [PAD] [PAD] [PAD] [PAD] [PAD] [PAD] [PAD] [PAD] [PAD] [PAD] [PAD] [PAD] [PAD] [PAD] [PAD] [PAD] [PAD] [PAD]'"
            ],
            "application/vnd.google.colaboratory.intrinsic+json": {
              "type": "string"
            }
          },
          "metadata": {},
          "execution_count": 182
        }
      ]
    },
    {
      "cell_type": "code",
      "source": [
        "tokenizer.decode(feats['input_ids'].squeeze())"
      ],
      "metadata": {
        "colab": {
          "base_uri": "https://localhost:8080/",
          "height": 183
        },
        "id": "3CwE_vdzkuST",
        "outputId": "eb7784f5-16f4-4497-bf63-2ebfe7bf1d89"
      },
      "execution_count": 183,
      "outputs": [
        {
          "output_type": "execute_result",
          "data": {
            "text/plain": [
              "'[CLS] = valkyria chronicles iii = [SEP] senjo no valkyria 3 : <unk> chronicles ( japanese : 戦 場 [UNK], lit. valkyria of the battlefield 3 ), commonly referred to as valkyria chronicles iii outside japan, is a tactical role @ - @ playing video game developed by sega and media. vision for the playstation portable. released in january 2011 in japan, it is the third game in the valkyria series. <unk> the same fusion of tactical and real @ - @ time gameplay as its predecessors, the story runs parallel to the first game and follows the \" nameless \", a penal military unit serving the nation of gallia during the second europan war who perform secret black operations and are pitted against the imperial unit \" <unk> raven \". [SEP] [PAD] [PAD] [PAD] [PAD] [PAD] [PAD] [PAD] [PAD] [PAD] [PAD] [PAD] [PAD] [PAD] [PAD] [PAD] [PAD] [PAD] [PAD] [PAD] [PAD] [PAD] [PAD] [PAD] [PAD] [PAD] [PAD] [PAD] [PAD] [PAD] [PAD] [PAD] [PAD] [PAD] [PAD] [PAD] [PAD] [PAD] [PAD] [PAD] [PAD] [PAD] [PAD] [PAD] [PAD] [PAD] [PAD] [PAD] [PAD] [PAD] [PAD] [PAD] [PAD] [PAD] [PAD] [PAD] [PAD] [PAD] [PAD] [PAD] [PAD] [PAD] [PAD] [PAD] [PAD] [PAD] [PAD] [PAD] [PAD] [PAD] [PAD] [PAD] [PAD] [PAD] [PAD] [PAD] [PAD] [PAD] [PAD] [PAD] [PAD] [PAD] [PAD] [PAD] [PAD] [PAD] [PAD] [PAD] [PAD] [PAD] [PAD] [PAD] [PAD] [PAD] [PAD] [PAD] [PAD] [PAD] [PAD] [PAD] [PAD] [PAD] [PAD] [PAD] [PAD] [PAD] [PAD] [PAD] [PAD]'"
            ],
            "application/vnd.google.colaboratory.intrinsic+json": {
              "type": "string"
            }
          },
          "metadata": {},
          "execution_count": 183
        }
      ]
    },
    {
      "cell_type": "markdown",
      "metadata": {
        "id": "rorGbQJC29w5"
      },
      "source": [
        "##Model Architecture"
      ]
    },
    {
      "cell_type": "markdown",
      "source": [
        "Here we will create the architecture of the model from scratch. I will not go into too much detail about it since it is so similar to the original transformer encoder (which I mentioned above at the beginning of this notebook). But there will be some helpful annotations and comments."
      ],
      "metadata": {
        "id": "2gnlKxTaVp0E"
      }
    },
    {
      "cell_type": "markdown",
      "source": [
        "###Embedding"
      ],
      "metadata": {
        "id": "EFmdPpc5BpHQ"
      }
    },
    {
      "cell_type": "markdown",
      "source": [
        "The Transformer Encoder (the decoder as well, for that matter) uses a Positional Embedding to provide information about the positions of tokens in the sequence. This is necessary because attention is bidirectional and has no way to account for absolute position of tokens in a sequence on its own.\n",
        "\n",
        "We also have to find a way to include information about the two segments (since we pass in pairs of sentences). Our tokenizer provides information about the segments in a vector of 0s and 1s as per the paper specs. We add an embedding layer that takes two tokens in and outputs and embedding of the same dimension as our token embedding.\n",
        "\n",
        "This segment embedding represents one of the few differences between the model architecture in BERT and the original Transformer."
      ],
      "metadata": {
        "id": "66IptYXJBm0y"
      }
    },
    {
      "cell_type": "code",
      "source": [
        "class PositionalEncoding(nn.Module):\n",
        "  def __init__(self, d_model, dropout = 0.0, seq_len=512):\n",
        "    super(PositionalEncoding, self).__init__()\n",
        "    self.dropout = nn.Dropout(p=dropout)\n",
        "    self.d_model = d_model\n",
        "    self.seq_len = seq_len\n",
        "\n",
        "    #we can just compute the tensor for PE ahead of time\n",
        "    self.pe = torch.zeros(seq_len, d_model).float()\n",
        "    self.pe.requires_grad = False\n",
        "\n",
        "    position = torch.arange(0, seq_len).unsqueeze(1)\n",
        "    div_term = torch.exp(\n",
        "        torch.arange(0, d_model, 2)*-(math.log(10000.0)/d_model)\n",
        "    )\n",
        "    self.pe[:, 0::2] = torch.sin(position * div_term)\n",
        "    self.pe[:, 1::2] = torch.cos(position * div_term)\n",
        "    self.pe = self.pe.unsqueeze(0)\n",
        "\n",
        "    self.pe = self.pe.unsqueeze(0)\n",
        "\n",
        "  def forward(self, x):\n",
        "    # print(f\"\\n\\n{x.shape=}||{self.pe.shape=}||{self.pe[ : , : x.size(1)].shape=}\")\n",
        "    x = x + self.pe[ : , : x.size(1)]\n",
        "    return self.dropout(x)\n",
        "\n",
        "\n",
        "class BERTEmbeddingLayer(nn.Module):\n",
        "  \"\"\"\n",
        "  The essential steps of embedding here are:\n",
        "  Embed tokens to our chosen embedding_dim\n",
        "  Add positional encoding to the base embedding\n",
        "  Add segment embeddings (to represent which sentence of two each token is part of)\n",
        "\n",
        "  Note there are only two values for segment labels.\n",
        "  The padding tokens after the second segment are labeled 0 just like the first.\n",
        "  \"\"\"\n",
        "  def __init__(self, vocab_size, embedding_dim, seq_len = 512, dropout = 0.0):\n",
        "    super(BERTEmbeddingLayer, self).__init__()\n",
        "    self.positional_encoding = PositionalEncoding(embedding_dim, dropout, seq_len)\n",
        "    self.token_embedding = nn.Embedding(vocab_size, embedding_dim, padding_idx = 0)\n",
        "    self.segment_embedding = nn.Embedding(2, embedding_dim)\n",
        "\n",
        "  def forward(self, x, segment_labels):\n",
        "    seg = self.segment_embedding(segment_labels)\n",
        "    pos = self.positional_encoding(self.token_embedding(x))\n",
        "    return seg+pos"
      ],
      "metadata": {
        "id": "rzXhBU7GUMKc"
      },
      "execution_count": 184,
      "outputs": []
    },
    {
      "cell_type": "markdown",
      "source": [
        "###Encoder Architecture"
      ],
      "metadata": {
        "id": "9LG63m-UBgMN"
      }
    },
    {
      "cell_type": "markdown",
      "source": [
        "The Transformer Encoder (and BERT, by extension) only uses self-attention in a manner where `query`, `key`, and `value` are all the same since we don't employ an \"encoder memory\" anywhere the way we would with the decoder.\n",
        "\n",
        "In the `BERT_base` model, there are 12 instead of 6 stacked blocks, `d_model = 768`, there are 12 heads of attention. These represent some of the differences in configuration between the original Transformer and BERT encoders but aren't actual architecture differences.\n",
        "\n",
        "Another minor difference is that the feedforward activation function is chosen to be `gelu` instead of `relu`."
      ],
      "metadata": {
        "id": "9w_EkECKEShg"
      }
    },
    {
      "cell_type": "code",
      "source": [
        "clone_layers = lambda layer, n: nn.ModuleList([copy.deepcopy(layer) for _ in range(n)])"
      ],
      "metadata": {
        "id": "in3W3HqfQ2y-"
      },
      "execution_count": 185,
      "outputs": []
    },
    {
      "cell_type": "code",
      "source": [
        "#Implement MultiHeadAttention\n",
        "class MultiHeadAttention(nn.Module):\n",
        "  def __init__(self, d_model, num_heads, dropout = 0.1):\n",
        "    super(MultiHeadAttention, self).__init__()\n",
        "    self.d_model = d_model\n",
        "    self.d_k = d_model // num_heads\n",
        "    self.num_heads = num_heads\n",
        "    self.dropout = nn.Dropout(p = dropout)\n",
        "\n",
        "    self.query, self.key, self.value, self.out = clone_layers(nn.Linear(d_model, d_model), 4)\n",
        "\n",
        "  def forward(self, query, key, value, attention_mask):\n",
        "    #The shapes of these tensors are annotated for easier intuition\n",
        "    #b = batch_size, s = seq_len, h = num_heads\n",
        "    #(b, s, d_model)\n",
        "    Q = self.query(query)\n",
        "    K = self.key(key)\n",
        "    V = self.value(value)\n",
        "\n",
        "    #(b, s, d_model) -> (b, s, h, d_k) -> (b, h, s, d_k)\n",
        "    Q = Q.view(Q.size(0), -1, self.num_heads, self.d_k).transpose(1, 2)\n",
        "    K = K.view(K.size(0), -1, self.num_heads, self.d_k).transpose(1, 2)\n",
        "    V = V.view(V.size(0), -1, self.num_heads, self.d_k).transpose(1, 2)\n",
        "\n",
        "    #Note that MHA does Scaled Dot Product attention over each head\n",
        "    #and then concatenates. So scores is actually done for each head.\n",
        "    #(b, h, s, d_k) x (b, h, d_k, s) -> scalar * (b, h, s, s)\n",
        "    scores = torch.matmul(Q, K.transpose(-2, -1)) / math.sqrt(self.d_k)\n",
        "\n",
        "    #fill masked scores with low value (imagine using -inf)\n",
        "    #to minimize impact on softmax output\n",
        "    #attention mask shape has to be (b, 1, 1, s)\n",
        "    #so we need to unsqueeze\n",
        "    #fill does not change shape\n",
        "    #(b, h, s, s)\n",
        "    scores = scores.masked_fill(attention_mask.unsqueeze(1) == 0, -1e9)\n",
        "\n",
        "    #softmax does not change shape\n",
        "    #(b, h, s, s)\n",
        "    weights = F.softmax(scores, dim = -1)\n",
        "    weights = self.dropout(weights)\n",
        "\n",
        "    #(b, h, s, s) x (b, h, s, d_k) -> (b, h, s, d_k)\n",
        "    #this would be the memory or context in transformer\n",
        "    memory = torch.matmul(weights, V)\n",
        "\n",
        "    #(b, h, s, d_k) -> (b, s, h, d_k) -> (b, s, h * d_k) = (b, s, d_model)\n",
        "    #back to original shape\n",
        "    memory = memory.transpose(1, 2).contiguous().view(memory.size(0), -1, self.num_heads * self.d_k)\n",
        "\n",
        "    #(b, s, d_model) -> (b, s, d_model)\n",
        "    return self.out(memory)\n",
        ""
      ],
      "metadata": {
        "id": "h7UNUT4WBfkF"
      },
      "execution_count": 186,
      "outputs": []
    },
    {
      "cell_type": "markdown",
      "source": [
        "The original BERT paper maintains the relationship between `d_model` and `d_ff` in the feedforward layer where `d_ff = 4 * d_model`."
      ],
      "metadata": {
        "id": "qiHOciobSRUH"
      }
    },
    {
      "cell_type": "code",
      "source": [
        "#Implement FF Layer for Encoder\n",
        "class FeedForwardLayer(nn.Module):\n",
        "  def __init__(self, d_model, d_ff = 3072, dropout = 0.0):\n",
        "    #Note in the BERT paper, BERT_base has d_ff = 3072 = 4 * d_model = 4 * 768\n",
        "    super(FeedForwardLayer, self).__init__()\n",
        "    self.linear1 = nn.Linear(d_model, d_ff)\n",
        "    self.linear2 = nn.Linear(d_ff, d_model)\n",
        "    self.dropout = nn.Dropout(p = dropout)\n",
        "    self.activation = nn.GELU()\n",
        "\n",
        "  def forward(self, x):\n",
        "    return self.linear2(self.dropout(self.activation(self.linear1(x))))"
      ],
      "metadata": {
        "id": "u8oBjMop_0C1"
      },
      "execution_count": 187,
      "outputs": []
    },
    {
      "cell_type": "markdown",
      "source": [
        "Now we implement the EncoderLayer. We need to use layernormalization here."
      ],
      "metadata": {
        "id": "VTRPh6OBTZ14"
      }
    },
    {
      "cell_type": "code",
      "source": [
        "#All default values are selected based on BERT_base in the paper\n",
        "class EncoderLayer(nn.Module):\n",
        "  def __init__(\n",
        "      self,\n",
        "      d_model=768,\n",
        "      num_heads=12,\n",
        "      d_ff = 3072,\n",
        "      dropout = 0.1\n",
        "    ):\n",
        "    super(EncoderLayer, self).__init__()\n",
        "    self.mha = MultiHeadAttention(d_model, num_heads, dropout)\n",
        "    self.ff = FeedForwardLayer(d_model, d_ff, dropout)\n",
        "    self.norm = nn.LayerNorm(d_model)\n",
        "    self.dropout = nn.Dropout(p = dropout)\n",
        "\n",
        "  def forward(self, embeddings, attention_mask):\n",
        "    #Shapes: b = batch_size, s = seq_len\n",
        "    #embeddings: (b, s, d_model)\n",
        "    #mask: (b, 1, 1, s)\n",
        "\n",
        "    #attention_out: (b, s, d_model)\n",
        "    attention_out = self.dropout(self.mha(embeddings, embeddings, embeddings, attention_mask))\n",
        "\n",
        "    #attention_out: (b, s, d_model)\n",
        "    attention_out = self.norm(attention_out+embeddings)\n",
        "\n",
        "    #ff_out: (b, s, d_model)\n",
        "    ff_out = self.dropout(self.ff(attention_out))\n",
        "\n",
        "    return self.norm(ff_out + attention_out)\n"
      ],
      "metadata": {
        "id": "mAUQAf73Tmsw"
      },
      "execution_count": 188,
      "outputs": []
    },
    {
      "cell_type": "markdown",
      "source": [
        "####BERT Model"
      ],
      "metadata": {
        "id": "x8f4YBbwWTPE"
      }
    },
    {
      "cell_type": "markdown",
      "source": [
        "Now we implement the model by putting together the above classes we created."
      ],
      "metadata": {
        "id": "9Gt-EfNhWaz5"
      }
    },
    {
      "cell_type": "code",
      "source": [
        "class BERT(nn.Module):\n",
        "  def __init__(\n",
        "      self,\n",
        "      vocab_size,\n",
        "      d_model = 768,\n",
        "      blocks = 12,\n",
        "      num_heads = 12,\n",
        "      seq_len = 512,\n",
        "      dropout = 0.1\n",
        "    ):\n",
        "    super(BERT, self).__init__()\n",
        "    self.vocab_size = vocab_size\n",
        "    self.d_model = d_model\n",
        "    self.d_ff = 4 * d_model #as noted above, ff hidden layer dim is 4*d_model\n",
        "    self.blocks = blocks\n",
        "    self.num_heads = num_heads\n",
        "    self.seq_len = seq_len\n",
        "    self.dropout = dropout\n",
        "\n",
        "    self.embedding = BERTEmbeddingLayer(\n",
        "        self.vocab_size,\n",
        "        self.d_model,\n",
        "        seq_len = self.seq_len,\n",
        "        dropout = self.dropout\n",
        "    )\n",
        "\n",
        "    self.encoder_blocks = clone_layers(EncoderLayer(d_model, num_heads, self.d_ff, dropout), blocks)\n",
        "\n",
        "  def forward(self, x, segment_info, attention_mask):\n",
        "    #Our BertTokenizer also passes out the attention mask for padding\n",
        "    #this tells the Encoder to not learn padding information\n",
        "    x = self.embedding(x, segment_info)\n",
        "\n",
        "    for block in self.encoder_blocks:\n",
        "      x = block(x, attention_mask)\n",
        "\n",
        "    return x\n"
      ],
      "metadata": {
        "id": "5lIeoM2aWezx"
      },
      "execution_count": 189,
      "outputs": []
    },
    {
      "cell_type": "markdown",
      "source": [
        "The objective of BERT pretraining is to train the Encoder we have defined above. Once we train on NSP and MLM respectively, we only keep the pre-trained encoder in our final product.\n",
        "\n",
        "We still need to create models corresponding to our NSP and MLM tasks that will be used to train the BERT encoder we defined above."
      ],
      "metadata": {
        "id": "ziGDkIricw_1"
      }
    },
    {
      "cell_type": "code",
      "source": [
        "class NextSentencePrediction(nn.Module):\n",
        "  def __init__(self, d_model):\n",
        "    super(NextSentencePrediction, self).__init__()\n",
        "    self.linear = nn.Linear(d_model, 2)\n",
        "    self.softmax = nn.LogSoftmax(dim = -1)\n",
        "\n",
        "  def forward(self, x):\n",
        "    # use only the first token which is the [CLS]\n",
        "    return self.softmax(self.linear(x[:, 0]))\n",
        "\n",
        "class MaskedLanguageModel(nn.Module):\n",
        "  def __init__(self, d_model, vocab_size):\n",
        "    super(MaskedLanguageModel, self).__init__()\n",
        "    self.linear = nn.Linear(d_model, vocab_size)\n",
        "    self.softmax = nn.LogSoftmax(dim = -1)\n",
        "\n",
        "  def forward(self, x):\n",
        "    return self.softmax(self.linear(x))\n",
        "\n",
        "class BERTmodel(nn.Module):\n",
        "  #This model trains on two tasks at once\n",
        "  #We see that NSP and MLM layers are simple dense layers\n",
        "  #The goal is to use them as a way to learn params for BERT's representation\n",
        "  def __init__(self, BERTencoder):\n",
        "    super(BERTmodel, self).__init__()\n",
        "    self.BERT = BERTencoder\n",
        "    self.d_model = self.BERT.d_model\n",
        "    self.NSP = NextSentencePrediction(self.BERT.d_model)\n",
        "    self.MLM = MaskedLanguageModel(self.BERT.d_model, self.BERT.vocab_size)\n",
        "\n",
        "  def forward(self, x, segment_info, attention_mask):\n",
        "    encoded = self.BERT(x, segment_info, attention_mask)\n",
        "    return self.NSP(encoded), self.MLM(encoded)\n"
      ],
      "metadata": {
        "id": "9u8M0H01Q1_I"
      },
      "execution_count": 190,
      "outputs": []
    },
    {
      "cell_type": "markdown",
      "metadata": {
        "id": "prBAUhze37Qv"
      },
      "source": [
        "##Training"
      ]
    },
    {
      "cell_type": "markdown",
      "source": [
        "Now we just need to put all of this together and train our model!\n",
        "\n",
        "In the paper the loss function is given by the sum of the mean masked LM probabilities and the nsp likelihood.\n",
        "\n",
        "The optimizer they used was Adam with `lr` = 1e-4, $\\beta_1$ = 0.9, $\\beta_2$ = 0.999, L2 weight decay = 0.01, `warmup_steps` = 10_000, and linear decay of learning rate."
      ],
      "metadata": {
        "id": "YoIcFeamY3Iu"
      }
    },
    {
      "cell_type": "code",
      "execution_count": 191,
      "metadata": {
        "id": "MakZRzAE6ESt"
      },
      "outputs": [],
      "source": [
        "#We make this custom optimizer:\n",
        "#Link that I got this from: https://stackoverflow.com/questions/65343377/adam-optimizer-with-warmup-on-pytorch\n",
        "class NOAMOptimizer:\n",
        "  def __init__(self, optimizer, d_model, warmup_steps=10_000):\n",
        "    self.optimizer = optimizer\n",
        "    self.d_model = d_model\n",
        "    self.warmup_steps = warmup_steps\n",
        "    self._step = 0\n",
        "    self._rate = 0\n",
        "\n",
        "  def state_dict(self):\n",
        "    \"\"\"Returns the state of the warmup scheduler as a :class:`dict`.\n",
        "    It contains an entry for every variable in self.__dict__ which\n",
        "    is not the optimizer.\n",
        "    \"\"\"\n",
        "    return {key: value for key, value in self.__dict__.items() if key != 'optimizer'}\n",
        "\n",
        "  def load_state_dict(self, state_dict):\n",
        "    \"\"\"Loads the warmup scheduler's state.\n",
        "    Arguments:\n",
        "        state_dict (dict): warmup scheduler state. Should be an object returned\n",
        "            from a call to :meth:`state_dict`.\n",
        "    \"\"\"\n",
        "    self.__dict__.update(state_dict)\n",
        "\n",
        "  def step(self):\n",
        "      \"Update parameters and rate\"\n",
        "      self._step += 1\n",
        "      rate = self.rate()\n",
        "      for p in self.optimizer.param_groups:\n",
        "          p['lr'] = rate\n",
        "      self._rate = rate\n",
        "      self.optimizer.step()\n",
        "\n",
        "  def rate(self, step = None):\n",
        "      \"\"\"\n",
        "      This comes directly from the formula in the paper 'Attention is All You Need'\n",
        "      \"\"\"\n",
        "      if step is None:\n",
        "          step = self._step\n",
        "      return (self.model_size ** (-0.5) *\n",
        "          min(step ** (-0.5), step * self.warmup ** (-1.5)))\n"
      ]
    },
    {
      "cell_type": "code",
      "source": [
        "def collate_for_mlm(batch):\n",
        "  return collator(batch)\n",
        "\n"
      ],
      "metadata": {
        "id": "e0SoPdGNNrm4"
      },
      "execution_count": 192,
      "outputs": []
    },
    {
      "cell_type": "code",
      "source": [
        "train_dataset = BERTDataset(train_sentence_pairs, tokenizer)\n",
        "train_dataloader = DataLoader(train_dataset, collate_fn=collate_for_mlm, batch_size=4, shuffle=True)"
      ],
      "metadata": {
        "id": "179FAut4t1PX"
      },
      "execution_count": 193,
      "outputs": []
    },
    {
      "cell_type": "code",
      "source": [
        "sample_batch = next(iter(train_dataloader))\n",
        "sample_batch"
      ],
      "metadata": {
        "colab": {
          "base_uri": "https://localhost:8080/"
        },
        "id": "IcokqN5NNFND",
        "outputId": "6fb9e583-1877-4ba1-bb8a-3d831372cef8"
      },
      "execution_count": 194,
      "outputs": [
        {
          "output_type": "execute_result",
          "data": {
            "text/plain": [
              "{'input_ids': tensor([[[    1,  4250,  4608,  ...,     0,     0,     0]],\n",
              "\n",
              "        [[    1,   591,  4333,  ...,     0,     0,     0]],\n",
              "\n",
              "        [[    1,   456,     3,  ...,     0,     0,     0]],\n",
              "\n",
              "        [[    1,   647, 13033,  ...,     0,     0,     0]]]), 'token_type_ids': tensor([[[0, 0, 0,  ..., 0, 0, 0]],\n",
              "\n",
              "        [[0, 0, 0,  ..., 0, 0, 0]],\n",
              "\n",
              "        [[0, 0, 0,  ..., 0, 0, 0]],\n",
              "\n",
              "        [[0, 0, 0,  ..., 0, 0, 0]]]), 'attention_mask': tensor([[[1, 1, 1,  ..., 0, 0, 0]],\n",
              "\n",
              "        [[1, 1, 1,  ..., 0, 0, 0]],\n",
              "\n",
              "        [[1, 1, 1,  ..., 0, 0, 0]],\n",
              "\n",
              "        [[1, 1, 1,  ..., 0, 0, 0]]]), 'nsp_labels': tensor([[1, 0],\n",
              "        [1, 0],\n",
              "        [1, 0],\n",
              "        [1, 0]]), 'labels': tensor([[[ -100,  -100,  -100,  ...,  -100,  -100,  -100]],\n",
              "\n",
              "        [[ -100,  -100,  -100,  ...,  -100,  -100,  -100]],\n",
              "\n",
              "        [[ -100,  -100, 15144,  ...,  -100,  -100,  -100]],\n",
              "\n",
              "        [[ -100,  -100,  -100,  ...,  -100,  -100,  -100]]])}"
            ]
          },
          "metadata": {},
          "execution_count": 194
        }
      ]
    },
    {
      "cell_type": "code",
      "source": [
        "#Let's make a trainer class to hold all of the information we need for training.\n",
        "#W\n",
        "class BERTTrainer:\n",
        "  def __init__(\n",
        "      self,\n",
        "      model,\n",
        "      train_dataloader,\n",
        "      valid_dataloader=None,\n",
        "      lr= 1e-4,\n",
        "      weight_decay=0.01,\n",
        "      betas=(0.9, 0.999),\n",
        "      warmup_steps=10_000,\n",
        "      log_frequency=10\n",
        "  ):\n",
        "    self.model = model\n",
        "    self.train_data = train_dataloader\n",
        "    self.valid_data = valid_dataloader\n",
        "\n",
        "    #Note that the loss function is described in the paper to be sum of likelihoods.\n",
        "    self.loss_fn = nn.NLLLoss(ignore_index=0) #padding index\n",
        "\n",
        "    adam_optimizer = torch.optim.Adam(self.model.parameters(), lr=lr, betas=betas, weight_decay=weight_decay)\n",
        "    self.optimizer = NOAMOptimizer(adam_optimizer, model.d_model, warmup_steps)\n",
        "\n",
        "    self.log_frequency = log_frequency\n",
        "\n",
        "  def train(self, epochs):\n",
        "    for epoch in range(epochs):\n",
        "\n",
        "      print(\"START TRAINING\")\n",
        "      self.train_epoch(epoch)\n",
        "      self.valid_epoch(epoch)\n",
        "\n",
        "  def train_epoch(self, epoch):\n",
        "    print(\"START TRAINING EPOCH\")\n",
        "    epoch_loss = 0.0\n",
        "    total_correct = 0\n",
        "    total_samples = 0\n",
        "\n",
        "    dataloader = self.train_data\n",
        "\n",
        "    data_iter = tqdm.tqdm(\n",
        "      enumerate(dataloader),\n",
        "      desc=f\"EPOCH_TRAIN:{epoch}\",\n",
        "      total=len(dataloader),\n",
        "      bar_format=\"{l_bar}{r_bar}\"\n",
        "    )\n",
        "\n",
        "    for i, batch in data_iter:\n",
        "      #send tensors to DEVICE\n",
        "      inputs = {\n",
        "        \"input_ids\": batch['input_ids'].to(DEVICE),\n",
        "        \"attention_mask\": batch['attention_mask'].to(DEVICE),\n",
        "        \"segment_info\": batch['token_type_ids'].to(DEVICE),\n",
        "      }\n",
        "      outputs = {\n",
        "          \"nsp_labels\": batch['nsp_labels'].to(DEVICE),\n",
        "          \"mlm_labels\": batch['labels'].to(DEVICE)\n",
        "      }\n",
        "\n",
        "      #train mode\n",
        "      self.model.train()\n",
        "\n",
        "      #forward pass\n",
        "      NSP_prediction, MLM_prediction = self.model(inputs['input_ids'], inputs['segment_info'], inputs['attention_mask'])\n",
        "\n",
        "      #compute losses\n",
        "      print(f\"\\n{NSP_prediction.shape=}\\n{outputs['nsp_labels'].shape=}\")\n",
        "      print(f\"{NSP_prediction=}\")\n",
        "      print(f\"{outputs['nsp_labels']=}\")\n",
        "      NSP_loss = self.loss_fn(NSP_prediction, outputs['nsp_labels'])\n",
        "      MLM_loss = self.loss_fn(MLM_prediction.transpose(-1,2), outputs['mlm_labels'])\n",
        "      loss = NSP_loss + MLM_loss\n",
        "\n",
        "      self.optim.zero_grad()\n",
        "      loss.backward()\n",
        "      self.optim.step()\n",
        "\n",
        "      epoch_loss += loss.item()\n",
        "      total_correct += NSP_prediction.argmax(dim=-1).eq(outputs['nsp_labels']).sum().item()\n",
        "      total_samples += NSP_prediction.shape[-1]\n",
        "\n",
        "      post_fix = {\n",
        "          \"epoch\": epoch,\n",
        "          \"iter\": i,\n",
        "          \"avg_loss\": epoch_loss / (i + 1),\n",
        "          \"avg_acc\": total_correct / total_samples * 100,\n",
        "          \"loss\": loss.item()\n",
        "      }\n",
        "\n",
        "      if i % self.log_freq == 0:\n",
        "          data_iter.write(str(post_fix))\n",
        "    print(\n",
        "      f\"EP{epoch}, TRAIN: \\\n",
        "      avg_loss={epoch_loss / len(data_iter)}, \\\n",
        "      total_acc={total_correct * 100.0 / total_samples}\"\n",
        "    )\n",
        "\n",
        "  def valid_epoch(self, epoch):\n",
        "    epoch_loss = 0.0\n",
        "    total_correct = 0\n",
        "    total_samples = 0\n",
        "\n",
        "    dataloader = self.valid_data\n",
        "\n",
        "    data_iter = tqdm.tqdm(\n",
        "      enumerate(dataloader),\n",
        "      desc=f\"EPOCH_VALID:{epoch}\",\n",
        "      total=len(dataloader),\n",
        "      bar_format=\"{l_bar}{r_bar}\"\n",
        "    )\n",
        "\n",
        "    for i, batch in data_iter:\n",
        "      #send tensors to DEVICE\n",
        "      inputs = {\n",
        "        \"input_ids\": batch['input_ids'].to(DEVICE),\n",
        "        \"attention_mask\": batch['attention_mask'].to(DEVICE),\n",
        "        \"segment_info\": batch['token_type_ids'].to(DEVICE),\n",
        "      }\n",
        "      outputs = {\n",
        "          \"nsp_labels\": batch['nsp_labels'].to(DEVICE),\n",
        "          \"mlm_labels\": batch['labels'].to(DEVICE)\n",
        "      }\n",
        "\n",
        "      #train mode\n",
        "      self.model.eval()\n",
        "\n",
        "      with torch.no_grad():\n",
        "        #forward pass\n",
        "        NSP_prediction, MLM_prediction = self.model(inputs['input_ids'], inputs['segment_info'], inputs['attention_mask'])\n",
        "\n",
        "        #compute losses\n",
        "        NSP_loss = self.loss_fn(NSP_prediction, outputs['nsp_labels'])\n",
        "        MLM_loss = self.loss_fn(MLM_prediction.transpose(-1,2), outputs['mlm_labels'])\n",
        "        loss = NSP_loss + MLM_loss\n",
        "\n",
        "        epoch_loss += loss.item()\n",
        "\n",
        "      total_correct += NSP_prediction.argmax(dim=-1).eq(outputs['nsp_labels']).sum().item()\n",
        "      total_samples += NSP_prediction.shape[-1]\n",
        "\n",
        "      post_fix = {\n",
        "          \"epoch\": epoch,\n",
        "          \"iter\": i,\n",
        "          \"avg_loss\": epoch_loss / (i + 1),\n",
        "          \"avg_acc\": total_correct / total_samples * 100,\n",
        "          \"loss\": loss.item()\n",
        "      }\n",
        "\n",
        "      if i % self.log_freq == 0:\n",
        "          data_iter.write(str(post_fix))\n",
        "    print(\n",
        "      f\"EP{epoch}, VALID: \\\n",
        "      avg_loss={epoch_loss / len(data_iter)}, \\\n",
        "      total_acc={total_correct * 100.0 / total_samples}\"\n",
        "    )\n",
        "\n"
      ],
      "metadata": {
        "id": "sm0thuIPisRf"
      },
      "execution_count": 195,
      "outputs": []
    },
    {
      "cell_type": "code",
      "source": [
        "D_MODEL = 768\n",
        "N_LAYERS = 2\n",
        "HEADS = 12\n",
        "DROPOUT = 0.1\n",
        "SEQ_LEN = 512\n",
        "BATCH_SIZE = 1\n",
        "\n",
        "LR= 1e-4,\n",
        "WEIGHT_DECAY=0.01,\n",
        "BETAS=(0.9, 0.999),\n",
        "WARMUP_STEPS=10_000,\n",
        "LOG_FREQ=10\n",
        "\n",
        "train_dataset = BERTDataset(train_sentence_pairs, tokenizer)\n",
        "valid_dataset = BERTDataset(valid_sentence_pairs, tokenizer)\n",
        "\n",
        "train_dataloader = DataLoader(train_dataset, collate_fn=collate_for_mlm, batch_size=BATCH_SIZE, shuffle=True, pin_memory=True)\n",
        "valid_dataloader = DataLoader(valid_dataset, collate_fn=collate_for_mlm, batch_size=BATCH_SIZE, shuffle=True, pin_memory=True)\n",
        "\n",
        "bert_encoder = BERT(\n",
        "  vocab_size=len(tokenizer.vocab)+1, #because we added an additional special token\n",
        "  d_model=D_MODEL,\n",
        "  blocks=N_LAYERS,\n",
        "  num_heads=HEADS,\n",
        "  seq_len=SEQ_LEN,\n",
        "  dropout= DROPOUT\n",
        ").to(DEVICE)\n",
        "\n",
        "bert_lm = BERTmodel(bert_encoder).to(DEVICE)\n",
        "bert_trainer = BERTTrainer(\n",
        "    bert_lm,\n",
        "    train_dataloader,\n",
        "    valid_dataloader,\n",
        "    # lr = LR,\n",
        "    # weight_decay = WEIGHT_DECAY,\n",
        "    # betas = (BETAS),\n",
        "    # warmup_steps = WARMUP_STEPS,\n",
        "    log_frequency = LOG_FREQ\n",
        ")"
      ],
      "metadata": {
        "id": "UT2vwJRDiU17"
      },
      "execution_count": 196,
      "outputs": []
    },
    {
      "cell_type": "code",
      "source": [
        "epochs = 1\n",
        "\n",
        "bert_trainer.train(epochs)"
      ],
      "metadata": {
        "colab": {
          "base_uri": "https://localhost:8080/",
          "height": 1000
        },
        "id": "tbXT5MPn4Hd1",
        "outputId": "947f32b8-402e-4f2a-ac28-85df78d3e73c"
      },
      "execution_count": 197,
      "outputs": [
        {
          "output_type": "stream",
          "name": "stdout",
          "text": [
            "START TRAINING\n",
            "START TRAINING EPOCH\n"
          ]
        },
        {
          "output_type": "stream",
          "name": "stderr",
          "text": [
            "EPOCH_TRAIN:0:   0%|| 0/80096 [00:00<?, ?it/s]"
          ]
        },
        {
          "output_type": "stream",
          "name": "stdout",
          "text": [
            "\n",
            "NSP_prediction.shape=torch.Size([1, 512, 2])\n",
            "outputs['nsp_labels'].shape=torch.Size([1, 2])\n",
            "NSP_prediction=tensor([[[-1.5369, -0.2421],\n",
            "         [-0.6600, -0.7275],\n",
            "         [-1.5788, -0.2310],\n",
            "         ...,\n",
            "         [-2.1449, -0.1245],\n",
            "         [-2.1437, -0.1247],\n",
            "         [-2.2524, -0.1111]]], grad_fn=<LogSoftmaxBackward0>)\n",
            "outputs['nsp_labels']=tensor([[0, 1]])\n"
          ]
        },
        {
          "output_type": "stream",
          "name": "stderr",
          "text": [
            "\n"
          ]
        },
        {
          "output_type": "error",
          "ename": "RuntimeError",
          "evalue": "ignored",
          "traceback": [
            "\u001b[0;31m---------------------------------------------------------------------------\u001b[0m",
            "\u001b[0;31mRuntimeError\u001b[0m                              Traceback (most recent call last)",
            "\u001b[0;32m<ipython-input-197-63a58af16b3e>\u001b[0m in \u001b[0;36m<cell line: 3>\u001b[0;34m()\u001b[0m\n\u001b[1;32m      1\u001b[0m \u001b[0mepochs\u001b[0m \u001b[0;34m=\u001b[0m \u001b[0;36m1\u001b[0m\u001b[0;34m\u001b[0m\u001b[0;34m\u001b[0m\u001b[0m\n\u001b[1;32m      2\u001b[0m \u001b[0;34m\u001b[0m\u001b[0m\n\u001b[0;32m----> 3\u001b[0;31m \u001b[0mbert_trainer\u001b[0m\u001b[0;34m.\u001b[0m\u001b[0mtrain\u001b[0m\u001b[0;34m(\u001b[0m\u001b[0mepochs\u001b[0m\u001b[0;34m)\u001b[0m\u001b[0;34m\u001b[0m\u001b[0;34m\u001b[0m\u001b[0m\n\u001b[0m",
            "\u001b[0;32m<ipython-input-195-06c49c2756f2>\u001b[0m in \u001b[0;36mtrain\u001b[0;34m(self, epochs)\u001b[0m\n\u001b[1;32m     29\u001b[0m \u001b[0;34m\u001b[0m\u001b[0m\n\u001b[1;32m     30\u001b[0m       \u001b[0mprint\u001b[0m\u001b[0;34m(\u001b[0m\u001b[0;34m\"START TRAINING\"\u001b[0m\u001b[0;34m)\u001b[0m\u001b[0;34m\u001b[0m\u001b[0;34m\u001b[0m\u001b[0m\n\u001b[0;32m---> 31\u001b[0;31m       \u001b[0mself\u001b[0m\u001b[0;34m.\u001b[0m\u001b[0mtrain_epoch\u001b[0m\u001b[0;34m(\u001b[0m\u001b[0mepoch\u001b[0m\u001b[0;34m)\u001b[0m\u001b[0;34m\u001b[0m\u001b[0;34m\u001b[0m\u001b[0m\n\u001b[0m\u001b[1;32m     32\u001b[0m       \u001b[0mself\u001b[0m\u001b[0;34m.\u001b[0m\u001b[0mvalid_epoch\u001b[0m\u001b[0;34m(\u001b[0m\u001b[0mepoch\u001b[0m\u001b[0;34m)\u001b[0m\u001b[0;34m\u001b[0m\u001b[0;34m\u001b[0m\u001b[0m\n\u001b[1;32m     33\u001b[0m \u001b[0;34m\u001b[0m\u001b[0m\n",
            "\u001b[0;32m<ipython-input-195-06c49c2756f2>\u001b[0m in \u001b[0;36mtrain_epoch\u001b[0;34m(self, epoch)\u001b[0m\n\u001b[1;32m     70\u001b[0m       \u001b[0mprint\u001b[0m\u001b[0;34m(\u001b[0m\u001b[0;34mf\"{outputs['nsp_labels']=}\"\u001b[0m\u001b[0;34m)\u001b[0m\u001b[0;34m\u001b[0m\u001b[0;34m\u001b[0m\u001b[0m\n\u001b[1;32m     71\u001b[0m       \u001b[0mNSP_loss\u001b[0m \u001b[0;34m=\u001b[0m \u001b[0mself\u001b[0m\u001b[0;34m.\u001b[0m\u001b[0mloss_fn\u001b[0m\u001b[0;34m(\u001b[0m\u001b[0mNSP_prediction\u001b[0m\u001b[0;34m,\u001b[0m \u001b[0moutputs\u001b[0m\u001b[0;34m[\u001b[0m\u001b[0;34m'nsp_labels'\u001b[0m\u001b[0;34m]\u001b[0m\u001b[0;34m)\u001b[0m\u001b[0;34m\u001b[0m\u001b[0;34m\u001b[0m\u001b[0m\n\u001b[0;32m---> 72\u001b[0;31m       \u001b[0mMLM_loss\u001b[0m \u001b[0;34m=\u001b[0m \u001b[0mself\u001b[0m\u001b[0;34m.\u001b[0m\u001b[0mloss_fn\u001b[0m\u001b[0;34m(\u001b[0m\u001b[0mMLM_prediction\u001b[0m\u001b[0;34m.\u001b[0m\u001b[0mtranspose\u001b[0m\u001b[0;34m(\u001b[0m\u001b[0;34m-\u001b[0m\u001b[0;36m1\u001b[0m\u001b[0;34m,\u001b[0m\u001b[0;36m2\u001b[0m\u001b[0;34m)\u001b[0m\u001b[0;34m,\u001b[0m \u001b[0moutputs\u001b[0m\u001b[0;34m[\u001b[0m\u001b[0;34m'mlm_labels'\u001b[0m\u001b[0;34m]\u001b[0m\u001b[0;34m)\u001b[0m\u001b[0;34m\u001b[0m\u001b[0;34m\u001b[0m\u001b[0m\n\u001b[0m\u001b[1;32m     73\u001b[0m       \u001b[0mloss\u001b[0m \u001b[0;34m=\u001b[0m \u001b[0mNSP_loss\u001b[0m \u001b[0;34m+\u001b[0m \u001b[0mMLM_loss\u001b[0m\u001b[0;34m\u001b[0m\u001b[0;34m\u001b[0m\u001b[0m\n\u001b[1;32m     74\u001b[0m \u001b[0;34m\u001b[0m\u001b[0m\n",
            "\u001b[0;32m/usr/local/lib/python3.10/dist-packages/torch/nn/modules/module.py\u001b[0m in \u001b[0;36m_call_impl\u001b[0;34m(self, *args, **kwargs)\u001b[0m\n\u001b[1;32m   1499\u001b[0m                 \u001b[0;32mor\u001b[0m \u001b[0m_global_backward_pre_hooks\u001b[0m \u001b[0;32mor\u001b[0m \u001b[0m_global_backward_hooks\u001b[0m\u001b[0;34m\u001b[0m\u001b[0;34m\u001b[0m\u001b[0m\n\u001b[1;32m   1500\u001b[0m                 or _global_forward_hooks or _global_forward_pre_hooks):\n\u001b[0;32m-> 1501\u001b[0;31m             \u001b[0;32mreturn\u001b[0m \u001b[0mforward_call\u001b[0m\u001b[0;34m(\u001b[0m\u001b[0;34m*\u001b[0m\u001b[0margs\u001b[0m\u001b[0;34m,\u001b[0m \u001b[0;34m**\u001b[0m\u001b[0mkwargs\u001b[0m\u001b[0;34m)\u001b[0m\u001b[0;34m\u001b[0m\u001b[0;34m\u001b[0m\u001b[0m\n\u001b[0m\u001b[1;32m   1502\u001b[0m         \u001b[0;31m# Do not call functions when jit is used\u001b[0m\u001b[0;34m\u001b[0m\u001b[0;34m\u001b[0m\u001b[0m\n\u001b[1;32m   1503\u001b[0m         \u001b[0mfull_backward_hooks\u001b[0m\u001b[0;34m,\u001b[0m \u001b[0mnon_full_backward_hooks\u001b[0m \u001b[0;34m=\u001b[0m \u001b[0;34m[\u001b[0m\u001b[0;34m]\u001b[0m\u001b[0;34m,\u001b[0m \u001b[0;34m[\u001b[0m\u001b[0;34m]\u001b[0m\u001b[0;34m\u001b[0m\u001b[0;34m\u001b[0m\u001b[0m\n",
            "\u001b[0;32m/usr/local/lib/python3.10/dist-packages/torch/nn/modules/loss.py\u001b[0m in \u001b[0;36mforward\u001b[0;34m(self, input, target)\u001b[0m\n\u001b[1;32m    214\u001b[0m \u001b[0;34m\u001b[0m\u001b[0m\n\u001b[1;32m    215\u001b[0m     \u001b[0;32mdef\u001b[0m \u001b[0mforward\u001b[0m\u001b[0;34m(\u001b[0m\u001b[0mself\u001b[0m\u001b[0;34m,\u001b[0m \u001b[0minput\u001b[0m\u001b[0;34m:\u001b[0m \u001b[0mTensor\u001b[0m\u001b[0;34m,\u001b[0m \u001b[0mtarget\u001b[0m\u001b[0;34m:\u001b[0m \u001b[0mTensor\u001b[0m\u001b[0;34m)\u001b[0m \u001b[0;34m->\u001b[0m \u001b[0mTensor\u001b[0m\u001b[0;34m:\u001b[0m\u001b[0;34m\u001b[0m\u001b[0;34m\u001b[0m\u001b[0m\n\u001b[0;32m--> 216\u001b[0;31m         \u001b[0;32mreturn\u001b[0m \u001b[0mF\u001b[0m\u001b[0;34m.\u001b[0m\u001b[0mnll_loss\u001b[0m\u001b[0;34m(\u001b[0m\u001b[0minput\u001b[0m\u001b[0;34m,\u001b[0m \u001b[0mtarget\u001b[0m\u001b[0;34m,\u001b[0m \u001b[0mweight\u001b[0m\u001b[0;34m=\u001b[0m\u001b[0mself\u001b[0m\u001b[0;34m.\u001b[0m\u001b[0mweight\u001b[0m\u001b[0;34m,\u001b[0m \u001b[0mignore_index\u001b[0m\u001b[0;34m=\u001b[0m\u001b[0mself\u001b[0m\u001b[0;34m.\u001b[0m\u001b[0mignore_index\u001b[0m\u001b[0;34m,\u001b[0m \u001b[0mreduction\u001b[0m\u001b[0;34m=\u001b[0m\u001b[0mself\u001b[0m\u001b[0;34m.\u001b[0m\u001b[0mreduction\u001b[0m\u001b[0;34m)\u001b[0m\u001b[0;34m\u001b[0m\u001b[0;34m\u001b[0m\u001b[0m\n\u001b[0m\u001b[1;32m    217\u001b[0m \u001b[0;34m\u001b[0m\u001b[0m\n\u001b[1;32m    218\u001b[0m \u001b[0;34m\u001b[0m\u001b[0m\n",
            "\u001b[0;32m/usr/local/lib/python3.10/dist-packages/torch/nn/functional.py\u001b[0m in \u001b[0;36mnll_loss\u001b[0;34m(input, target, weight, size_average, ignore_index, reduce, reduction)\u001b[0m\n\u001b[1;32m   2702\u001b[0m     \u001b[0;32mif\u001b[0m \u001b[0msize_average\u001b[0m \u001b[0;32mis\u001b[0m \u001b[0;32mnot\u001b[0m \u001b[0;32mNone\u001b[0m \u001b[0;32mor\u001b[0m \u001b[0mreduce\u001b[0m \u001b[0;32mis\u001b[0m \u001b[0;32mnot\u001b[0m \u001b[0;32mNone\u001b[0m\u001b[0;34m:\u001b[0m\u001b[0;34m\u001b[0m\u001b[0;34m\u001b[0m\u001b[0m\n\u001b[1;32m   2703\u001b[0m         \u001b[0mreduction\u001b[0m \u001b[0;34m=\u001b[0m \u001b[0m_Reduction\u001b[0m\u001b[0;34m.\u001b[0m\u001b[0mlegacy_get_string\u001b[0m\u001b[0;34m(\u001b[0m\u001b[0msize_average\u001b[0m\u001b[0;34m,\u001b[0m \u001b[0mreduce\u001b[0m\u001b[0;34m)\u001b[0m\u001b[0;34m\u001b[0m\u001b[0;34m\u001b[0m\u001b[0m\n\u001b[0;32m-> 2704\u001b[0;31m     \u001b[0;32mreturn\u001b[0m \u001b[0mtorch\u001b[0m\u001b[0;34m.\u001b[0m\u001b[0m_C\u001b[0m\u001b[0;34m.\u001b[0m\u001b[0m_nn\u001b[0m\u001b[0;34m.\u001b[0m\u001b[0mnll_loss_nd\u001b[0m\u001b[0;34m(\u001b[0m\u001b[0minput\u001b[0m\u001b[0;34m,\u001b[0m \u001b[0mtarget\u001b[0m\u001b[0;34m,\u001b[0m \u001b[0mweight\u001b[0m\u001b[0;34m,\u001b[0m \u001b[0m_Reduction\u001b[0m\u001b[0;34m.\u001b[0m\u001b[0mget_enum\u001b[0m\u001b[0;34m(\u001b[0m\u001b[0mreduction\u001b[0m\u001b[0;34m)\u001b[0m\u001b[0;34m,\u001b[0m \u001b[0mignore_index\u001b[0m\u001b[0;34m)\u001b[0m\u001b[0;34m\u001b[0m\u001b[0;34m\u001b[0m\u001b[0m\n\u001b[0m\u001b[1;32m   2705\u001b[0m \u001b[0;34m\u001b[0m\u001b[0m\n\u001b[1;32m   2706\u001b[0m \u001b[0;34m\u001b[0m\u001b[0m\n",
            "\u001b[0;31mRuntimeError\u001b[0m: size mismatch (got input: [1, 1, 20396, 512] , target: [1, 1, 512]"
          ]
        }
      ]
    },
    {
      "cell_type": "code",
      "source": [],
      "metadata": {
        "id": "hTWdPnaX6uId"
      },
      "execution_count": null,
      "outputs": []
    }
  ],
  "metadata": {
    "colab": {
      "provenance": [],
      "toc_visible": true,
      "authorship_tag": "ABX9TyNGkHNIrAMPe8HwtNEWglRD",
      "include_colab_link": true
    },
    "kernelspec": {
      "display_name": "Python 3",
      "name": "python3"
    },
    "language_info": {
      "name": "python"
    },
    "widgets": {
      "application/vnd.jupyter.widget-state+json": {
        "c4dc3d42486644699f7552161c078287": {
          "model_module": "@jupyter-widgets/controls",
          "model_name": "HBoxModel",
          "model_module_version": "1.5.0",
          "state": {
            "_dom_classes": [],
            "_model_module": "@jupyter-widgets/controls",
            "_model_module_version": "1.5.0",
            "_model_name": "HBoxModel",
            "_view_count": null,
            "_view_module": "@jupyter-widgets/controls",
            "_view_module_version": "1.5.0",
            "_view_name": "HBoxView",
            "box_style": "",
            "children": [
              "IPY_MODEL_ef5258eff8e14e5092031f7c9c3aa816",
              "IPY_MODEL_c3014c355b7a4c1eb7b562af64c142ba",
              "IPY_MODEL_949c23e8533b4f3581cc31ff2c6317ac"
            ],
            "layout": "IPY_MODEL_64b7b36e431b46349a9723799eadbe6d"
          }
        },
        "ef5258eff8e14e5092031f7c9c3aa816": {
          "model_module": "@jupyter-widgets/controls",
          "model_name": "HTMLModel",
          "model_module_version": "1.5.0",
          "state": {
            "_dom_classes": [],
            "_model_module": "@jupyter-widgets/controls",
            "_model_module_version": "1.5.0",
            "_model_name": "HTMLModel",
            "_view_count": null,
            "_view_module": "@jupyter-widgets/controls",
            "_view_module_version": "1.5.0",
            "_view_name": "HTMLView",
            "description": "",
            "description_tooltip": null,
            "layout": "IPY_MODEL_48126f1b0eca4b2bb6052f6e08a70021",
            "placeholder": "​",
            "style": "IPY_MODEL_3ff7a7bd98194164b31268abaef91332",
            "value": ""
          }
        },
        "c3014c355b7a4c1eb7b562af64c142ba": {
          "model_module": "@jupyter-widgets/controls",
          "model_name": "FloatProgressModel",
          "model_module_version": "1.5.0",
          "state": {
            "_dom_classes": [],
            "_model_module": "@jupyter-widgets/controls",
            "_model_module_version": "1.5.0",
            "_model_name": "FloatProgressModel",
            "_view_count": null,
            "_view_module": "@jupyter-widgets/controls",
            "_view_module_version": "1.5.0",
            "_view_name": "ProgressView",
            "bar_style": "success",
            "description": "",
            "description_tooltip": null,
            "layout": "IPY_MODEL_8b6b19848706400abbd3b79e66ea7548",
            "max": 1,
            "min": 0,
            "orientation": "horizontal",
            "style": "IPY_MODEL_1fa68aae785f4ca98cc623047afd6020",
            "value": 1
          }
        },
        "949c23e8533b4f3581cc31ff2c6317ac": {
          "model_module": "@jupyter-widgets/controls",
          "model_name": "HTMLModel",
          "model_module_version": "1.5.0",
          "state": {
            "_dom_classes": [],
            "_model_module": "@jupyter-widgets/controls",
            "_model_module_version": "1.5.0",
            "_model_name": "HTMLModel",
            "_view_count": null,
            "_view_module": "@jupyter-widgets/controls",
            "_view_module_version": "1.5.0",
            "_view_name": "HTMLView",
            "description": "",
            "description_tooltip": null,
            "layout": "IPY_MODEL_67fb90da29df41d3ab5f7a088cae25fa",
            "placeholder": "​",
            "style": "IPY_MODEL_b783010f635844e0b2bdfde84d3c5a45",
            "value": " 36718/? [00:00&lt;00:00, 65522.47it/s]"
          }
        },
        "64b7b36e431b46349a9723799eadbe6d": {
          "model_module": "@jupyter-widgets/base",
          "model_name": "LayoutModel",
          "model_module_version": "1.2.0",
          "state": {
            "_model_module": "@jupyter-widgets/base",
            "_model_module_version": "1.2.0",
            "_model_name": "LayoutModel",
            "_view_count": null,
            "_view_module": "@jupyter-widgets/base",
            "_view_module_version": "1.2.0",
            "_view_name": "LayoutView",
            "align_content": null,
            "align_items": null,
            "align_self": null,
            "border": null,
            "bottom": null,
            "display": null,
            "flex": null,
            "flex_flow": null,
            "grid_area": null,
            "grid_auto_columns": null,
            "grid_auto_flow": null,
            "grid_auto_rows": null,
            "grid_column": null,
            "grid_gap": null,
            "grid_row": null,
            "grid_template_areas": null,
            "grid_template_columns": null,
            "grid_template_rows": null,
            "height": null,
            "justify_content": null,
            "justify_items": null,
            "left": null,
            "margin": null,
            "max_height": null,
            "max_width": null,
            "min_height": null,
            "min_width": null,
            "object_fit": null,
            "object_position": null,
            "order": null,
            "overflow": null,
            "overflow_x": null,
            "overflow_y": null,
            "padding": null,
            "right": null,
            "top": null,
            "visibility": null,
            "width": null
          }
        },
        "48126f1b0eca4b2bb6052f6e08a70021": {
          "model_module": "@jupyter-widgets/base",
          "model_name": "LayoutModel",
          "model_module_version": "1.2.0",
          "state": {
            "_model_module": "@jupyter-widgets/base",
            "_model_module_version": "1.2.0",
            "_model_name": "LayoutModel",
            "_view_count": null,
            "_view_module": "@jupyter-widgets/base",
            "_view_module_version": "1.2.0",
            "_view_name": "LayoutView",
            "align_content": null,
            "align_items": null,
            "align_self": null,
            "border": null,
            "bottom": null,
            "display": null,
            "flex": null,
            "flex_flow": null,
            "grid_area": null,
            "grid_auto_columns": null,
            "grid_auto_flow": null,
            "grid_auto_rows": null,
            "grid_column": null,
            "grid_gap": null,
            "grid_row": null,
            "grid_template_areas": null,
            "grid_template_columns": null,
            "grid_template_rows": null,
            "height": null,
            "justify_content": null,
            "justify_items": null,
            "left": null,
            "margin": null,
            "max_height": null,
            "max_width": null,
            "min_height": null,
            "min_width": null,
            "object_fit": null,
            "object_position": null,
            "order": null,
            "overflow": null,
            "overflow_x": null,
            "overflow_y": null,
            "padding": null,
            "right": null,
            "top": null,
            "visibility": null,
            "width": null
          }
        },
        "3ff7a7bd98194164b31268abaef91332": {
          "model_module": "@jupyter-widgets/controls",
          "model_name": "DescriptionStyleModel",
          "model_module_version": "1.5.0",
          "state": {
            "_model_module": "@jupyter-widgets/controls",
            "_model_module_version": "1.5.0",
            "_model_name": "DescriptionStyleModel",
            "_view_count": null,
            "_view_module": "@jupyter-widgets/base",
            "_view_module_version": "1.2.0",
            "_view_name": "StyleView",
            "description_width": ""
          }
        },
        "8b6b19848706400abbd3b79e66ea7548": {
          "model_module": "@jupyter-widgets/base",
          "model_name": "LayoutModel",
          "model_module_version": "1.2.0",
          "state": {
            "_model_module": "@jupyter-widgets/base",
            "_model_module_version": "1.2.0",
            "_model_name": "LayoutModel",
            "_view_count": null,
            "_view_module": "@jupyter-widgets/base",
            "_view_module_version": "1.2.0",
            "_view_name": "LayoutView",
            "align_content": null,
            "align_items": null,
            "align_self": null,
            "border": null,
            "bottom": null,
            "display": null,
            "flex": null,
            "flex_flow": null,
            "grid_area": null,
            "grid_auto_columns": null,
            "grid_auto_flow": null,
            "grid_auto_rows": null,
            "grid_column": null,
            "grid_gap": null,
            "grid_row": null,
            "grid_template_areas": null,
            "grid_template_columns": null,
            "grid_template_rows": null,
            "height": null,
            "justify_content": null,
            "justify_items": null,
            "left": null,
            "margin": null,
            "max_height": null,
            "max_width": null,
            "min_height": null,
            "min_width": null,
            "object_fit": null,
            "object_position": null,
            "order": null,
            "overflow": null,
            "overflow_x": null,
            "overflow_y": null,
            "padding": null,
            "right": null,
            "top": null,
            "visibility": null,
            "width": "20px"
          }
        },
        "1fa68aae785f4ca98cc623047afd6020": {
          "model_module": "@jupyter-widgets/controls",
          "model_name": "ProgressStyleModel",
          "model_module_version": "1.5.0",
          "state": {
            "_model_module": "@jupyter-widgets/controls",
            "_model_module_version": "1.5.0",
            "_model_name": "ProgressStyleModel",
            "_view_count": null,
            "_view_module": "@jupyter-widgets/base",
            "_view_module_version": "1.2.0",
            "_view_name": "StyleView",
            "bar_color": null,
            "description_width": ""
          }
        },
        "67fb90da29df41d3ab5f7a088cae25fa": {
          "model_module": "@jupyter-widgets/base",
          "model_name": "LayoutModel",
          "model_module_version": "1.2.0",
          "state": {
            "_model_module": "@jupyter-widgets/base",
            "_model_module_version": "1.2.0",
            "_model_name": "LayoutModel",
            "_view_count": null,
            "_view_module": "@jupyter-widgets/base",
            "_view_module_version": "1.2.0",
            "_view_name": "LayoutView",
            "align_content": null,
            "align_items": null,
            "align_self": null,
            "border": null,
            "bottom": null,
            "display": null,
            "flex": null,
            "flex_flow": null,
            "grid_area": null,
            "grid_auto_columns": null,
            "grid_auto_flow": null,
            "grid_auto_rows": null,
            "grid_column": null,
            "grid_gap": null,
            "grid_row": null,
            "grid_template_areas": null,
            "grid_template_columns": null,
            "grid_template_rows": null,
            "height": null,
            "justify_content": null,
            "justify_items": null,
            "left": null,
            "margin": null,
            "max_height": null,
            "max_width": null,
            "min_height": null,
            "min_width": null,
            "object_fit": null,
            "object_position": null,
            "order": null,
            "overflow": null,
            "overflow_x": null,
            "overflow_y": null,
            "padding": null,
            "right": null,
            "top": null,
            "visibility": null,
            "width": null
          }
        },
        "b783010f635844e0b2bdfde84d3c5a45": {
          "model_module": "@jupyter-widgets/controls",
          "model_name": "DescriptionStyleModel",
          "model_module_version": "1.5.0",
          "state": {
            "_model_module": "@jupyter-widgets/controls",
            "_model_module_version": "1.5.0",
            "_model_name": "DescriptionStyleModel",
            "_view_count": null,
            "_view_module": "@jupyter-widgets/base",
            "_view_module_version": "1.2.0",
            "_view_name": "StyleView",
            "description_width": ""
          }
        },
        "91d025db0be44f33ac3ccc2852cdee4a": {
          "model_module": "@jupyter-widgets/controls",
          "model_name": "HBoxModel",
          "model_module_version": "1.5.0",
          "state": {
            "_dom_classes": [],
            "_model_module": "@jupyter-widgets/controls",
            "_model_module_version": "1.5.0",
            "_model_name": "HBoxModel",
            "_view_count": null,
            "_view_module": "@jupyter-widgets/controls",
            "_view_module_version": "1.5.0",
            "_view_name": "HBoxView",
            "box_style": "",
            "children": [
              "IPY_MODEL_a4354941be6e42faa510c0aff31c4c7d",
              "IPY_MODEL_302e12d1d3f54059ad06d1a804e1f25d",
              "IPY_MODEL_18d989f6a41e43aca46e573faccd8d61"
            ],
            "layout": "IPY_MODEL_9d10f4033de04b08890e7a8a07d5633e"
          }
        },
        "a4354941be6e42faa510c0aff31c4c7d": {
          "model_module": "@jupyter-widgets/controls",
          "model_name": "HTMLModel",
          "model_module_version": "1.5.0",
          "state": {
            "_dom_classes": [],
            "_model_module": "@jupyter-widgets/controls",
            "_model_module_version": "1.5.0",
            "_model_name": "HTMLModel",
            "_view_count": null,
            "_view_module": "@jupyter-widgets/controls",
            "_view_module_version": "1.5.0",
            "_view_name": "HTMLView",
            "description": "",
            "description_tooltip": null,
            "layout": "IPY_MODEL_5afb4a4534d24366b846590bd76cd135",
            "placeholder": "​",
            "style": "IPY_MODEL_56a62bd5b003479f8ec3357e8ca3e084",
            "value": ""
          }
        },
        "302e12d1d3f54059ad06d1a804e1f25d": {
          "model_module": "@jupyter-widgets/controls",
          "model_name": "FloatProgressModel",
          "model_module_version": "1.5.0",
          "state": {
            "_dom_classes": [],
            "_model_module": "@jupyter-widgets/controls",
            "_model_module_version": "1.5.0",
            "_model_name": "FloatProgressModel",
            "_view_count": null,
            "_view_module": "@jupyter-widgets/controls",
            "_view_module_version": "1.5.0",
            "_view_name": "ProgressView",
            "bar_style": "success",
            "description": "",
            "description_tooltip": null,
            "layout": "IPY_MODEL_6bf5dee948c54691a0d38a7db541a4ca",
            "max": 1,
            "min": 0,
            "orientation": "horizontal",
            "style": "IPY_MODEL_ea6d714214424ff3afab50ebb59064c9",
            "value": 1
          }
        },
        "18d989f6a41e43aca46e573faccd8d61": {
          "model_module": "@jupyter-widgets/controls",
          "model_name": "HTMLModel",
          "model_module_version": "1.5.0",
          "state": {
            "_dom_classes": [],
            "_model_module": "@jupyter-widgets/controls",
            "_model_module_version": "1.5.0",
            "_model_name": "HTMLModel",
            "_view_count": null,
            "_view_module": "@jupyter-widgets/controls",
            "_view_module_version": "1.5.0",
            "_view_name": "HTMLView",
            "description": "",
            "description_tooltip": null,
            "layout": "IPY_MODEL_3a57415cb6824eb6a0238aef8b1ec968",
            "placeholder": "​",
            "style": "IPY_MODEL_3c480ba354c64b3f812446a73a281184",
            "value": " 3760/? [00:00&lt;00:00, 14914.15it/s]"
          }
        },
        "9d10f4033de04b08890e7a8a07d5633e": {
          "model_module": "@jupyter-widgets/base",
          "model_name": "LayoutModel",
          "model_module_version": "1.2.0",
          "state": {
            "_model_module": "@jupyter-widgets/base",
            "_model_module_version": "1.2.0",
            "_model_name": "LayoutModel",
            "_view_count": null,
            "_view_module": "@jupyter-widgets/base",
            "_view_module_version": "1.2.0",
            "_view_name": "LayoutView",
            "align_content": null,
            "align_items": null,
            "align_self": null,
            "border": null,
            "bottom": null,
            "display": null,
            "flex": null,
            "flex_flow": null,
            "grid_area": null,
            "grid_auto_columns": null,
            "grid_auto_flow": null,
            "grid_auto_rows": null,
            "grid_column": null,
            "grid_gap": null,
            "grid_row": null,
            "grid_template_areas": null,
            "grid_template_columns": null,
            "grid_template_rows": null,
            "height": null,
            "justify_content": null,
            "justify_items": null,
            "left": null,
            "margin": null,
            "max_height": null,
            "max_width": null,
            "min_height": null,
            "min_width": null,
            "object_fit": null,
            "object_position": null,
            "order": null,
            "overflow": null,
            "overflow_x": null,
            "overflow_y": null,
            "padding": null,
            "right": null,
            "top": null,
            "visibility": null,
            "width": null
          }
        },
        "5afb4a4534d24366b846590bd76cd135": {
          "model_module": "@jupyter-widgets/base",
          "model_name": "LayoutModel",
          "model_module_version": "1.2.0",
          "state": {
            "_model_module": "@jupyter-widgets/base",
            "_model_module_version": "1.2.0",
            "_model_name": "LayoutModel",
            "_view_count": null,
            "_view_module": "@jupyter-widgets/base",
            "_view_module_version": "1.2.0",
            "_view_name": "LayoutView",
            "align_content": null,
            "align_items": null,
            "align_self": null,
            "border": null,
            "bottom": null,
            "display": null,
            "flex": null,
            "flex_flow": null,
            "grid_area": null,
            "grid_auto_columns": null,
            "grid_auto_flow": null,
            "grid_auto_rows": null,
            "grid_column": null,
            "grid_gap": null,
            "grid_row": null,
            "grid_template_areas": null,
            "grid_template_columns": null,
            "grid_template_rows": null,
            "height": null,
            "justify_content": null,
            "justify_items": null,
            "left": null,
            "margin": null,
            "max_height": null,
            "max_width": null,
            "min_height": null,
            "min_width": null,
            "object_fit": null,
            "object_position": null,
            "order": null,
            "overflow": null,
            "overflow_x": null,
            "overflow_y": null,
            "padding": null,
            "right": null,
            "top": null,
            "visibility": null,
            "width": null
          }
        },
        "56a62bd5b003479f8ec3357e8ca3e084": {
          "model_module": "@jupyter-widgets/controls",
          "model_name": "DescriptionStyleModel",
          "model_module_version": "1.5.0",
          "state": {
            "_model_module": "@jupyter-widgets/controls",
            "_model_module_version": "1.5.0",
            "_model_name": "DescriptionStyleModel",
            "_view_count": null,
            "_view_module": "@jupyter-widgets/base",
            "_view_module_version": "1.2.0",
            "_view_name": "StyleView",
            "description_width": ""
          }
        },
        "6bf5dee948c54691a0d38a7db541a4ca": {
          "model_module": "@jupyter-widgets/base",
          "model_name": "LayoutModel",
          "model_module_version": "1.2.0",
          "state": {
            "_model_module": "@jupyter-widgets/base",
            "_model_module_version": "1.2.0",
            "_model_name": "LayoutModel",
            "_view_count": null,
            "_view_module": "@jupyter-widgets/base",
            "_view_module_version": "1.2.0",
            "_view_name": "LayoutView",
            "align_content": null,
            "align_items": null,
            "align_self": null,
            "border": null,
            "bottom": null,
            "display": null,
            "flex": null,
            "flex_flow": null,
            "grid_area": null,
            "grid_auto_columns": null,
            "grid_auto_flow": null,
            "grid_auto_rows": null,
            "grid_column": null,
            "grid_gap": null,
            "grid_row": null,
            "grid_template_areas": null,
            "grid_template_columns": null,
            "grid_template_rows": null,
            "height": null,
            "justify_content": null,
            "justify_items": null,
            "left": null,
            "margin": null,
            "max_height": null,
            "max_width": null,
            "min_height": null,
            "min_width": null,
            "object_fit": null,
            "object_position": null,
            "order": null,
            "overflow": null,
            "overflow_x": null,
            "overflow_y": null,
            "padding": null,
            "right": null,
            "top": null,
            "visibility": null,
            "width": "20px"
          }
        },
        "ea6d714214424ff3afab50ebb59064c9": {
          "model_module": "@jupyter-widgets/controls",
          "model_name": "ProgressStyleModel",
          "model_module_version": "1.5.0",
          "state": {
            "_model_module": "@jupyter-widgets/controls",
            "_model_module_version": "1.5.0",
            "_model_name": "ProgressStyleModel",
            "_view_count": null,
            "_view_module": "@jupyter-widgets/base",
            "_view_module_version": "1.2.0",
            "_view_name": "StyleView",
            "bar_color": null,
            "description_width": ""
          }
        },
        "3a57415cb6824eb6a0238aef8b1ec968": {
          "model_module": "@jupyter-widgets/base",
          "model_name": "LayoutModel",
          "model_module_version": "1.2.0",
          "state": {
            "_model_module": "@jupyter-widgets/base",
            "_model_module_version": "1.2.0",
            "_model_name": "LayoutModel",
            "_view_count": null,
            "_view_module": "@jupyter-widgets/base",
            "_view_module_version": "1.2.0",
            "_view_name": "LayoutView",
            "align_content": null,
            "align_items": null,
            "align_self": null,
            "border": null,
            "bottom": null,
            "display": null,
            "flex": null,
            "flex_flow": null,
            "grid_area": null,
            "grid_auto_columns": null,
            "grid_auto_flow": null,
            "grid_auto_rows": null,
            "grid_column": null,
            "grid_gap": null,
            "grid_row": null,
            "grid_template_areas": null,
            "grid_template_columns": null,
            "grid_template_rows": null,
            "height": null,
            "justify_content": null,
            "justify_items": null,
            "left": null,
            "margin": null,
            "max_height": null,
            "max_width": null,
            "min_height": null,
            "min_width": null,
            "object_fit": null,
            "object_position": null,
            "order": null,
            "overflow": null,
            "overflow_x": null,
            "overflow_y": null,
            "padding": null,
            "right": null,
            "top": null,
            "visibility": null,
            "width": null
          }
        },
        "3c480ba354c64b3f812446a73a281184": {
          "model_module": "@jupyter-widgets/controls",
          "model_name": "DescriptionStyleModel",
          "model_module_version": "1.5.0",
          "state": {
            "_model_module": "@jupyter-widgets/controls",
            "_model_module_version": "1.5.0",
            "_model_name": "DescriptionStyleModel",
            "_view_count": null,
            "_view_module": "@jupyter-widgets/base",
            "_view_module_version": "1.2.0",
            "_view_name": "StyleView",
            "description_width": ""
          }
        }
      }
    }
  },
  "nbformat": 4,
  "nbformat_minor": 0
}