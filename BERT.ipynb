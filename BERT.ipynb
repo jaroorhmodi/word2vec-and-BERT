{
  "cells": [
    {
      "cell_type": "markdown",
      "metadata": {
        "id": "view-in-github",
        "colab_type": "text"
      },
      "source": [
        "<a href=\"https://colab.research.google.com/github/jaroorhmodi/word2vec-and-BERT/blob/main/BERT.ipynb\" target=\"_parent\"><img src=\"https://colab.research.google.com/assets/colab-badge.svg\" alt=\"Open In Colab\"/></a>"
      ]
    },
    {
      "cell_type": "markdown",
      "metadata": {
        "id": "ursbIzV2v9p7"
      },
      "source": [
        "#BERT (Bidirectional Encoder Representations from Transformers)"
      ]
    },
    {
      "cell_type": "markdown",
      "metadata": {
        "id": "0hEcTXgYwL-N"
      },
      "source": [
        "In this notebook I will be replicating the model in the paper [**BERT: Pre-Training of Deep Bidirectional Transformers for Language Understanding**](https://arxiv.org/pdf/1810.04805.pdf).\n",
        "\n",
        "While I will be creating the model from (mostly) scratch in PyTorch, I will not go into too much detail about why Multi-Head Attention is designed the way it is and how exactly the original [Transformer](https://arxiv.org/abs/1706.03762) architecture works. I have made another (*albeit messy*) [notebook that covers that paper](https://github.com/jaroorhmodi/transformer-from-scratch).\n",
        "\n",
        "The model will be trained on the [**WikiText-2**](https://paperswithcode.com/dataset/wikitext-2) and [**Wikitext-103**](https://paperswithcode.com/dataset/wikitext-103) datasets."
      ]
    },
    {
      "cell_type": "code",
      "execution_count": null,
      "metadata": {
        "id": "Koq_QwuW4MbN"
      },
      "outputs": [],
      "source": [
        "!pip install portalocker transformers tokenizers"
      ]
    },
    {
      "cell_type": "code",
      "execution_count": 41,
      "metadata": {
        "id": "SWkkb9uc4T5B"
      },
      "outputs": [],
      "source": [
        "import os\n",
        "import copy\n",
        "import json\n",
        "\n",
        "import torch\n",
        "from torch import nn\n",
        "import torch.nn.functional as F\n",
        "from torch.optim.lr_scheduler import LambdaLR\n",
        "from torch.utils.data import Dataset, DataLoader\n",
        "\n",
        "from torchtext.data import to_map_style_dataset\n",
        "from torchtext.data.utils import get_tokenizer\n",
        "from torchtext.vocab import build_vocab_from_iterator\n",
        "from torchtext.datasets import WikiText2, WikiText103 #our datasets for this project\n",
        "\n",
        "from tokenizers import BertWordPieceTokenizer\n",
        "from transformers import BertTokenizer, DataCollatorForLanguageModeling\n",
        "\n",
        "import math\n",
        "import nltk\n",
        "import numpy as np\n",
        "import pandas as pd\n",
        "import pickle\n",
        "import random\n",
        "import spacy\n",
        "import tqdm\n",
        "\n",
        "DATASET_small = \"WikiText2\"\n",
        "DATASET_large = \"WikiText103\"\n",
        "\n",
        "DEVICE = \"cuda\" if torch.cuda.is_available() else \"cpu\"\n",
        "TOKENIZER=\"basic_english\"\n",
        "DATA_DIRECTORY = \".\""
      ]
    },
    {
      "cell_type": "markdown",
      "metadata": {
        "id": "09DBB2wd24DJ"
      },
      "source": [
        "##Model Objective and Data"
      ]
    },
    {
      "cell_type": "markdown",
      "metadata": {
        "id": "9sVv47JM5I7p"
      },
      "source": [
        "###Who (What) is BERT?"
      ]
    },
    {
      "cell_type": "markdown",
      "metadata": {
        "id": "PCHzPRMbL6Pw"
      },
      "source": [
        "\n",
        "While BERT is a much more complex model and what it accomplishes isn't exactly akin to Word2Vec, the intuition behind both is similar. We pass in sentences and attempt to make a model learn how to represent text in a way that captures not only information about the tokens themselves but also something about their *meaning*.\n",
        "\n",
        "Word2Vec does this by training a model on words and their context in sentences and learning  about their relationships with one another by either trying to predict context from words (*Skip-Gram*) or words from context (*CBOW*). The embeddings it produces are static for each word.\n",
        "\n",
        "BERT trains a Transformer Encoder model on two specific objectives: *Masked Language Modeling* and *Next Sentence Prediction* to learn a wealth of information about tokens in their context and provide representations of them. Note that BERT is not simply learning static embeddings but rather representations that change based on context. Tokens in BERT are embedded using *WordPiece* embeddings.\n",
        "\n",
        "The goal of the BERT paper was to introduce a way to represent words with a pre-trained transformer and not to make a model for a specific predictive goal. To this end it is trained in an unsupervised manner with the aforementioned MLM and NSP objectives (will be explained ahead)."
      ]
    },
    {
      "cell_type": "markdown",
      "metadata": {
        "id": "rZh1_Ky2gPKa"
      },
      "source": [
        "###Data Processing"
      ]
    },
    {
      "cell_type": "code",
      "execution_count": 3,
      "metadata": {
        "id": "MjWVBG8Ff9jY"
      },
      "outputs": [],
      "source": [
        "#We need to pull in the dataset and break it into sentence pairs for the NSP objective\n",
        "#and we need to mask random words and create objectives for the MLM objective.\n",
        "DATASET = DATASET_small\n",
        "dataset_class = WikiText2 if DATASET == DATASET_small else WikiText103\n",
        "data_train = dataset_class(DATA_DIRECTORY, split = \"train\")\n",
        "\n",
        "OPT_VERSION = ''\n",
        "\n",
        "TOKENS_LOCATION = os.path.join(DATA_DIRECTORY, \"datasets\", DATASET, DATASET.lower()[:8]+f\"-{DATASET[8:]}\")\n",
        "TOKENIZER_LOCATION = os.path.join(DATA_DIRECTORY, \"tokenizers\", )\n",
        "TOKENIZER_NAME = f\"bert-wordpiece-{DATASET}{OPT_VERSION}\" #just here to standardize naming for later\n",
        "os.makedirs(TOKENIZER_LOCATION, exist_ok = True)\n",
        "\n",
        "MAX_TOKENIZED_SENTENCE_LEN = 128 #maximum number of tokens in sentence\n",
        "\n",
        "gen = iter(data_train)\n",
        "\n",
        "sample = []\n",
        "for i in range(20):\n",
        "  sample.append(next(gen))"
      ]
    },
    {
      "cell_type": "code",
      "execution_count": 4,
      "metadata": {
        "colab": {
          "base_uri": "https://localhost:8080/"
        },
        "id": "SVIW8MfNiYX-",
        "outputId": "e31a7f64-403e-4197-d794-63104fd3f54c"
      },
      "outputs": [
        {
          "output_type": "stream",
          "name": "stdout",
          "text": [
            "[' \\n', ' = Valkyria Chronicles III = \\n', ' \\n', ' Senjō no Valkyria 3 : <unk> Chronicles ( Japanese : 戦場のヴァルキュリア3 , lit . Valkyria of the Battlefield 3 ) , commonly referred to as Valkyria Chronicles III outside Japan , is a tactical role @-@ playing video game developed by Sega and Media.Vision for the PlayStation Portable . Released in January 2011 in Japan , it is the third game in the Valkyria series . <unk> the same fusion of tactical and real @-@ time gameplay as its predecessors , the story runs parallel to the first game and follows the \" Nameless \" , a penal military unit serving the nation of Gallia during the Second Europan War who perform secret black operations and are pitted against the Imperial unit \" <unk> Raven \" . \\n', \" The game began development in 2010 , carrying over a large portion of the work done on Valkyria Chronicles II . While it retained the standard features of the series , it also underwent multiple adjustments , such as making the game more <unk> for series newcomers . Character designer <unk> Honjou and composer Hitoshi Sakimoto both returned from previous entries , along with Valkyria Chronicles II director Takeshi Ozawa . A large team of writers handled the script . The game 's opening theme was sung by May 'n . \\n\"]\n",
            "20\n"
          ]
        }
      ],
      "source": [
        "print(sample[:5])\n",
        "print(len(sample))"
      ]
    },
    {
      "cell_type": "markdown",
      "metadata": {
        "id": "Tx3b0r8KkA8x"
      },
      "source": [
        "In the WikiText data, we see a lot of control characters like newlines, we want to make sure when we tokenize that we do not consider these. We also see that articles are delineated by a header given between single **=** signs and subheaders given by double, triple etc. equal signs.\n",
        "\n",
        "We don't want header paragraphs and we don't want empty whitespace lines, so we need to preprocess the data some before we actually split them out into sentence pairs for our NSP task."
      ]
    },
    {
      "cell_type": "code",
      "execution_count": 5,
      "metadata": {
        "colab": {
          "base_uri": "https://localhost:8080/"
        },
        "id": "bXKcxThinJxC",
        "outputId": "acfd5320-9355-41f6-b579-f2805ab915fa"
      },
      "outputs": [
        {
          "output_type": "stream",
          "name": "stderr",
          "text": [
            "/usr/local/lib/python3.10/dist-packages/transformers/tokenization_utils_base.py:1946: FutureWarning: Calling BertTokenizer.from_pretrained() with the path to a single file or url is deprecated and won't be possible anymore in v5. Use a model identifier or the path to a directory instead.\n",
            "  warnings.warn(\n"
          ]
        }
      ],
      "source": [
        "tokenizer = BertWordPieceTokenizer(\n",
        "    clean_text = True, #removes control chars like \\n\n",
        "    handle_chinese_chars = False, #not anticipating chinese chars\n",
        "    strip_accents = False, #keep accents in text\n",
        "    lowercase = True #ignore case\n",
        ")\n",
        "\n",
        "tokenizer.train(\n",
        "    files = os.path.join(TOKENS_LOCATION, \"wiki.train.tokens\"),\n",
        "    vocab_size = 30_000 if DATASET == DATASET_small else 90_000, #bigger vocab for bigger dataset\n",
        "    min_frequency = 10 if DATASET == DATASET_small else 50, #require higher freq for bigger dataset\n",
        "    limit_alphabet = 1000,\n",
        "    wordpieces_prefix = '##',\n",
        "    special_tokens=['[PAD]', '[CLS]', '[SEP]', '[MASK]', '[UNK]'] #in wikitext, <unk> is used for unknown tokens\n",
        ")\n",
        "\n",
        "tokenizer.save_model(\n",
        "    TOKENIZER_LOCATION,\n",
        "    TOKENIZER_NAME\n",
        ")\n",
        "\n",
        "#This is the tokenizer we will use\n",
        "tokenizer = BertTokenizer.from_pretrained(os.path.join(TOKENIZER_LOCATION, TOKENIZER_NAME)+'-vocab.txt')\n",
        "#adding this to handle the inbuilt <unk> token in the dataset which otherwise\n",
        "#gets split into < unk > which may affect (slightly, but still) model performance\n",
        "# tokenizer.add_special_tokens({'additional_special_tokens': ['<unk>']})\n"
      ]
    },
    {
      "cell_type": "markdown",
      "metadata": {
        "id": "tkaIC0CR0k8u"
      },
      "source": [
        "\n",
        "All of the input text for BERT training is to be of the form\n",
        "\n",
        "    \"[CLS] <SENTENCE1> [SEP] <SENTENCE2> [SEP]\"\n",
        "with `[PAD]` tokens added at the end as needed.\n",
        "\n",
        "**Notice below how `token_type_ids` denotes where the first sequence ends and the next begins.**\n",
        "\n",
        "Data preprocessing will require us to set up the two  training tasks of NSP and MLM."
      ]
    },
    {
      "cell_type": "code",
      "execution_count": 6,
      "metadata": {
        "colab": {
          "base_uri": "https://localhost:8080/"
        },
        "id": "yrJwEZxG53xO",
        "outputId": "bde614e0-0705-444d-d852-d2a059673cfe"
      },
      "outputs": [
        {
          "output_type": "stream",
          "name": "stdout",
          "text": [
            "test=(' = Valkyria Chronicles III = \\n', ' Senjō no Valkyria 3 : <unk> Chronicles ( Japanese : 戦場のヴァルキュリア3 , lit . Valkyria of the Battlefield 3 ) , commonly referred to as Valkyria Chronicles III outside Japan , is a tactical role @-@ playing video game developed by Sega and Media.Vision for the PlayStation Portable . Released in January 2011 in Japan , it is the third game in the Valkyria series . <unk> the same fusion of tactical and real @-@ time gameplay as its predecessors , the story runs parallel to the first game and follows the \" Nameless \" , a penal military unit serving the nation of Gallia during the Second Europan War who perform secret black operations and are pitted against the Imperial unit \" <unk> Raven \" . \\n')\n",
            "__input_ids__\n",
            "len=1\n",
            "tensor([[    1,    33,  7754,  7833,  2907,    33,     2,  2957,  5194,   746,\n",
            "          7754,    23,    30,    32,   396,    34,  7833,    12,  2709,    30,\n",
            "           236,   234,     4,    16,  1244,    18,  7754,   394,   381,  9510,\n",
            "            23,    13,    16,  4627,  3155,   403,   428,  7754,  7833,  2907,\n",
            "          2364,  1826,    16,   445,    42, 10526,  1554,    36,    17,    36,\n",
            "          2202,  1380,   741,  1919,   450,  5160,   248,   399,  2639,    18,\n",
            "          5480,   424,   381,  4501, 10289,    18,  1146,   391,  1425,  1719,\n",
            "           391,  1826,    16,   444,   445,   381,  1361,   741,   391,   381,\n",
            "          7754,   885,    18,    32,   396,    34,   381,  1145,  8559,   394,\n",
            "         10526,   399,  1511,    36,    17,    36,   689,  5059,   428,   577,\n",
            "         12405,    16,   381,  1422,  3291,  6416,   403,   381,   573,   741,\n",
            "           399,  4397,   381,     6, 18266,     6,    16,    42, 11551,  1594,\n",
            "          3147,  5034,   381,  3659,   394,  3359,   566,   677,   381,   843,\n",
            "          9689,   246,   758,   637,   967,  2461,  1288,  2283,   399,   520,\n",
            "         14511,   384,   972,   381,  5322,  3147,     6,    32,   396,    34,\n",
            "         18511,     6,    18,     2]])\n",
            "__token_type_ids__\n",
            "len=1\n",
            "tensor([[0, 0, 0, 0, 0, 0, 0, 1, 1, 1, 1, 1, 1, 1, 1, 1, 1, 1, 1, 1, 1, 1, 1, 1,\n",
            "         1, 1, 1, 1, 1, 1, 1, 1, 1, 1, 1, 1, 1, 1, 1, 1, 1, 1, 1, 1, 1, 1, 1, 1,\n",
            "         1, 1, 1, 1, 1, 1, 1, 1, 1, 1, 1, 1, 1, 1, 1, 1, 1, 1, 1, 1, 1, 1, 1, 1,\n",
            "         1, 1, 1, 1, 1, 1, 1, 1, 1, 1, 1, 1, 1, 1, 1, 1, 1, 1, 1, 1, 1, 1, 1, 1,\n",
            "         1, 1, 1, 1, 1, 1, 1, 1, 1, 1, 1, 1, 1, 1, 1, 1, 1, 1, 1, 1, 1, 1, 1, 1,\n",
            "         1, 1, 1, 1, 1, 1, 1, 1, 1, 1, 1, 1, 1, 1, 1, 1, 1, 1, 1, 1, 1, 1, 1, 1,\n",
            "         1, 1, 1, 1, 1, 1, 1, 1, 1, 1]])\n",
            "__attention_mask__\n",
            "len=1\n",
            "tensor([[1, 1, 1, 1, 1, 1, 1, 1, 1, 1, 1, 1, 1, 1, 1, 1, 1, 1, 1, 1, 1, 1, 1, 1,\n",
            "         1, 1, 1, 1, 1, 1, 1, 1, 1, 1, 1, 1, 1, 1, 1, 1, 1, 1, 1, 1, 1, 1, 1, 1,\n",
            "         1, 1, 1, 1, 1, 1, 1, 1, 1, 1, 1, 1, 1, 1, 1, 1, 1, 1, 1, 1, 1, 1, 1, 1,\n",
            "         1, 1, 1, 1, 1, 1, 1, 1, 1, 1, 1, 1, 1, 1, 1, 1, 1, 1, 1, 1, 1, 1, 1, 1,\n",
            "         1, 1, 1, 1, 1, 1, 1, 1, 1, 1, 1, 1, 1, 1, 1, 1, 1, 1, 1, 1, 1, 1, 1, 1,\n",
            "         1, 1, 1, 1, 1, 1, 1, 1, 1, 1, 1, 1, 1, 1, 1, 1, 1, 1, 1, 1, 1, 1, 1, 1,\n",
            "         1, 1, 1, 1, 1, 1, 1, 1, 1, 1]])\n"
          ]
        }
      ],
      "source": [
        "test = (sample[1], sample[3])\n",
        "\n",
        "# test = \"\\n\"\n",
        "print(f\"{test=}\")\n",
        "#automatically adds [CLS] before first sentence and [SEP] after each sentence\n",
        "#this is how Bert separates two sentences in the input\n",
        "tokenized = tokenizer.encode_plus(test[0], test[1], add_special_tokens = True, return_tensors = \"pt\")\n",
        "for key, val in tokenized.items():\n",
        "  print(f\"__{key}__\")\n",
        "  print(f\"len={len(val)}\")\n",
        "  print(val)"
      ]
    },
    {
      "cell_type": "code",
      "execution_count": 7,
      "metadata": {
        "id": "CsHMzNC76hQc"
      },
      "outputs": [],
      "source": [
        "def new_article(para):\n",
        "  #just checks if it is a new article\n",
        "  return para.strip().startswith(\"= \") and not para.strip().startswith(\"= =\")\n",
        "\n",
        "def new_heading(para):\n",
        "  #checks if it is a new heading\n",
        "  #slightly different from the new article\n",
        "  return para.strip().startswith(\"=\")\n",
        "\n",
        "def split_sentences(para):\n",
        "  sentences = para.split('. ')\n",
        "\n",
        "def article_sentence_pairs(article_sentences):\n",
        "  #See note below\n",
        "  sentence_pairs = []\n",
        "  for i, sentence in enumerate(article_sentences):\n",
        "    if i == len(article_sentences)-1:\n",
        "      break\n",
        "    else:\n",
        "      sentence_pairs.append((sentence, article_sentences[i+1]))\n",
        "  return sentence_pairs\n",
        "\n",
        "def collect_sentence_pairs(dataset_iter):\n",
        "  articles = []\n",
        "  current_article = []\n",
        "  for para in tqdm.auto.tqdm(dataset_iter):\n",
        "    if new_article(para):\n",
        "      #new article, stop collecting sentences\n",
        "      if len(current_article) > 0:\n",
        "        articles += article_sentence_pairs(current_article)\n",
        "      current_article = []\n",
        "      continue\n",
        "    if para.strip() == '' or new_heading(para):\n",
        "      #new heading or empty line, skip and continue collecting\n",
        "      continue\n",
        "    current_article += para.strip().split('. ')\n",
        "  return articles\n"
      ]
    },
    {
      "cell_type": "markdown",
      "metadata": {
        "id": "EOAOtjrPesbQ"
      },
      "source": [
        "NOTE: there are a few ways we could have split this dataset. I chose to go with one that splits at `\". \"` for this approach but we could have tokenized the data first and split according to maximum sequence length."
      ]
    },
    {
      "cell_type": "code",
      "execution_count": 8,
      "metadata": {
        "colab": {
          "base_uri": "https://localhost:8080/",
          "height": 67,
          "referenced_widgets": [
            "da3e589c433b4d5697f14e0efba81a41",
            "0853f052b92d47b4b7914980965b1aec",
            "2b9d81a724b942c58b3d515cf49b4b55",
            "06fafc6d9ce1417486274af54732e632",
            "3032abed62294aa9bdb2a6da7de777b2",
            "cd2de91ad12e47f995a8f7996733b444",
            "2a93168b1f2b4e9a9957ec922e08a0e4",
            "4a8f7e4afd0d4bc9a02f103efb7494c5",
            "75324eff33314882996f1ea93f80fbc1",
            "5d6676cb936f4034a9422796dda947dc",
            "961fd16900f644f98f25487d7e9f6dd5"
          ]
        },
        "id": "URu40H5ReqGc",
        "outputId": "b16897b5-c411-4667-c0bc-2d53d1baeb0d"
      },
      "outputs": [
        {
          "output_type": "display_data",
          "data": {
            "text/plain": [
              "0it [00:00, ?it/s]"
            ],
            "application/vnd.jupyter.widget-view+json": {
              "version_major": 2,
              "version_minor": 0,
              "model_id": "da3e589c433b4d5697f14e0efba81a41"
            }
          },
          "metadata": {}
        },
        {
          "output_type": "execute_result",
          "data": {
            "text/plain": [
              "80096"
            ]
          },
          "metadata": {},
          "execution_count": 8
        }
      ],
      "source": [
        "#proper pipeline management, since we iterated once on the old data_train object we reset iteration\n",
        "gen = iter(dataset_class(DATA_DIRECTORY, split = \"train\"))\n",
        "train_sentence_pairs = collect_sentence_pairs(gen)\n",
        "len(train_sentence_pairs)"
      ]
    },
    {
      "cell_type": "code",
      "source": [
        "gen = iter(dataset_class(DATA_DIRECTORY, split = \"valid\"))\n",
        "valid_sentence_pairs = collect_sentence_pairs(gen)\n",
        "len(valid_sentence_pairs)\n"
      ],
      "metadata": {
        "colab": {
          "base_uri": "https://localhost:8080/",
          "height": 67,
          "referenced_widgets": [
            "cc9d8dcc51f64850884aa68dfac3aacb",
            "b94aa1625c874403ace57ca28c4c0a52",
            "abbf3a8b59c94f64b3e51fce07c5f831",
            "5548c44921df44658a85d7aa3d147f9f",
            "abe499ec27f1445c8142e902faba94fb",
            "615b4616f77d43ed99273ccbfaaa0b1f",
            "0b765a73ebf442a48c01acb55820f823",
            "9188c9aac5e44a12a2f777825eab2a7b",
            "d614ef2167b14c7eb08ebccd002d5401",
            "d4d370db0eed43c1afa90b204ee4fb1b",
            "5b05e0f359d843ff9aaf57f462341572"
          ]
        },
        "id": "p-TsR_4SxpuO",
        "outputId": "16bcde07-d81d-4abc-c7ae-5e7ac95e4780"
      },
      "execution_count": 9,
      "outputs": [
        {
          "output_type": "display_data",
          "data": {
            "text/plain": [
              "0it [00:00, ?it/s]"
            ],
            "application/vnd.jupyter.widget-view+json": {
              "version_major": 2,
              "version_minor": 0,
              "model_id": "cc9d8dcc51f64850884aa68dfac3aacb"
            }
          },
          "metadata": {}
        },
        {
          "output_type": "execute_result",
          "data": {
            "text/plain": [
              "8414"
            ]
          },
          "metadata": {},
          "execution_count": 9
        }
      ]
    },
    {
      "cell_type": "code",
      "execution_count": 10,
      "metadata": {
        "colab": {
          "base_uri": "https://localhost:8080/"
        },
        "id": "kmojwWO6lddp",
        "outputId": "c72fb2a3-804d-4213-b054-aa394886a0df"
      },
      "outputs": [
        {
          "output_type": "execute_result",
          "data": {
            "text/plain": [
              "[]"
            ]
          },
          "metadata": {},
          "execution_count": 10
        }
      ],
      "source": [
        "train_sentence_pairs[900000:900010]"
      ]
    },
    {
      "cell_type": "code",
      "source": [
        "#Persist sentence pairs to file\n",
        "os.makedirs(os.path.join(DATA_DIRECTORY, \"datasets\", \"pairs_data\"), exist_ok = True)\n",
        "\n",
        "\n",
        "SENTENCE_PAIRS_LOCATION = os.path.join(TOKENS_LOCATION, \"pairs\")\n",
        "os.makedirs(SENTENCE_PAIRS_LOCATION, exist_ok=True)\n",
        "\n",
        "\n",
        "#pickle 200k sentence pairs at a time into various pickle files\n",
        "def pickle_pairs(pairs, prefix=\"train\", chunk_size = 200_000):\n",
        "  i = 0\n",
        "  while chunk_size*(i+1) < len(pairs):\n",
        "    with open(os.path.join(SENTENCE_PAIRS_LOCATION, f\"{prefix}-{i}.pkl\"), \"wb\") as f:\n",
        "      pickle.dump(pairs[chunk_size*i:chunk_size*(i+1)], f)\n",
        "    i+=1\n",
        "\n",
        "pickle_pairs(train_sentence_pairs)\n",
        "pickle_pairs(valid_sentence_pairs, \"valid\")\n"
      ],
      "metadata": {
        "id": "W3HiEHtMj4ul"
      },
      "execution_count": 11,
      "outputs": []
    },
    {
      "cell_type": "markdown",
      "source": [
        "So we see now that we are able to make pairs of sentences next to one another. Note that our particular method makes it so the first sentence from the immediately following paragraph is treated as a \"next sentence\" but the first sentence of the following article is not."
      ],
      "metadata": {
        "id": "Ra6V0_gbBfky"
      }
    },
    {
      "cell_type": "markdown",
      "source": [
        "###The Two Training Objectives"
      ],
      "metadata": {
        "id": "P2bslE5_CDLv"
      }
    },
    {
      "cell_type": "markdown",
      "source": [
        "  The following examples are straight from the paper and used to illustrate the NSP objective but can be used to explain the MLM objective as well.\n",
        "    \n",
        "    Input: [CLS] the man went to [MASK] store [SEP] he bought a gallon [MASK] milk [SEP]\n",
        "    Label: IsNext\n",
        "\n",
        "    Input: [CLS] the man went to [MASK] store [SEP] penguin [MASK] are flight ##less birds [SEP]\n",
        "    Label: NotNext"
      ],
      "metadata": {
        "id": "CfRzg63aDJRV"
      }
    },
    {
      "cell_type": "markdown",
      "source": [
        "####Creating a Custom Dataset\n",
        "####Masked Language Modeling\n",
        "The **Masked Language Model** task masks out tokens with a given probability (and with some small probability substitutes with a random token) in the inputs and asks the model to predict the tokens that were masked out.\n",
        "\n",
        "####Next Sentence Prediction\n",
        "\n",
        "The **Next Sentence Prediction** task takes sentence pairs and creates a balanced classification task, where half of the time the following sentence is actually the next sentence and half of the time it is a random sentence. Then the model is trained to correctly predict whether or not the second sentence is the actual next sentence.\n",
        "\n",
        "We have already done half of the work for this task by creating positive next sentence pairs for each sentence in the text. All we have to do is replace the second sentence in each pair with a random sentence half of the time."
      ],
      "metadata": {
        "id": "iEACS1_SC14n"
      }
    },
    {
      "cell_type": "code",
      "source": [
        "#We will create a custom Dataset class for our purposes\n",
        "class BERTDataset(Dataset):\n",
        "  def __init__(self, sentence_pairs, tokenizer, seq_len=512):\n",
        "    self.sentence_pairs = sentence_pairs\n",
        "    self.num_pairs = len(sentence_pairs)\n",
        "    self.tokenizer = tokenizer\n",
        "    self.seq_len = seq_len\n",
        "\n",
        "  def __len__(self):\n",
        "    return self.num_pairs\n",
        "\n",
        "  #The key component of a Dataset is the __getitem__ function\n",
        "  def __getitem__(self, idx):\n",
        "    #get nsp entry, encode, return\n",
        "    sentence1, sentence2, isNextLabel = self.get_nsp_entry(idx)\n",
        "\n",
        "    #TODO: CONSIDERING NOT ENCODING, CHECK LATER\n",
        "    encoded_pair = tokenizer.encode_plus(\n",
        "        sentence1,\n",
        "        sentence2,\n",
        "        add_special_tokens = True,\n",
        "        max_length = self.seq_len,\n",
        "        padding = 'max_length',\n",
        "        truncation = 'longest_first',\n",
        "        return_special_tokens_mask = True,\n",
        "        return_tensors = \"pt\"\n",
        "    )\n",
        "\n",
        "    encoded_pair['nsp_labels'] = torch.Tensor([isNextLabel]).int()\n",
        "\n",
        "    return encoded_pair\n",
        "\n",
        "\n",
        "  def get_nsp_entry(self, idx):\n",
        "    #Implement NSP randomization here\n",
        "    sent1, sent2 = self.sentence_pairs[idx]\n",
        "    if random.random() >= 0.5:\n",
        "      #this is the case where we give positive nsp example\n",
        "      return sent1, sent2, 1\n",
        "    else:\n",
        "      return sent1, self.get_non_next_sentence(idx), 0\n",
        "\n",
        "  def get_non_next_sentence(self, idx):\n",
        "    random_idx = random.randrange(self.num_pairs)\n",
        "    while random_idx == idx:\n",
        "      \"\"\"\n",
        "      this is just here for the small chance that\n",
        "      our random index maps to the same one and gives\n",
        "      us a false pair where the actual next sentence\n",
        "      is mislabeled as NotNext\n",
        "      \"\"\"\n",
        "      random_idx = random.randrange(self.num_pairs)\n",
        "    return self.sentence_pairs[random_idx][1]\n",
        "\n"
      ],
      "metadata": {
        "id": "lvIguW-eBfVF"
      },
      "execution_count": 12,
      "outputs": []
    },
    {
      "cell_type": "markdown",
      "source": [
        "#####Example using the Transformers Library for MLM\n",
        "\n",
        "We can use the `transformers.DataCollatorForLanguageModeling` class to handle the masking for us.\n",
        "\n",
        "We see [in the documentation](https://github.com/huggingface/transformers/blob/b71f20a7c9f3716d30f6738501559acf863e2c5c/src/transformers/data/data_collator.py#L751C1-L751C108) that exactly like in the paper, `DataCollatorForLanguageModeling` will mask tokens 80% of the time, replace with a random token 10% of the time, and leave as is 10% of the time. This is all conditional on the `mlm_probability` value passed into the collator which is `0.15` in the paper."
      ],
      "metadata": {
        "id": "EBZIiacqlQPH"
      }
    },
    {
      "cell_type": "code",
      "source": [
        "collator = DataCollatorForLanguageModeling(tokenizer = tokenizer, mlm = True, mlm_probability = 0.15)"
      ],
      "metadata": {
        "id": "kk9NJ5exV-9S"
      },
      "execution_count": 13,
      "outputs": []
    },
    {
      "cell_type": "code",
      "source": [
        "#We recreate our tokenization example from earlier,\n",
        "#we just want to create a sentence pair for illustration\n",
        "feats = tokenizer.encode_plus(\n",
        "    sample[1],\n",
        "    sample[3],\n",
        "    return_special_tokens_mask = True,\n",
        "    return_tensors = \"pt\",\n",
        "    max_length = 256,\n",
        "    truncation=True,\n",
        "    padding = 'max_length'\n",
        ")\n"
      ],
      "metadata": {
        "id": "W4t3AtDVcJ7U"
      },
      "execution_count": 14,
      "outputs": []
    },
    {
      "cell_type": "code",
      "source": [
        "feats['nsp_label'] = torch.Tensor([1])"
      ],
      "metadata": {
        "id": "3xPn9UBJTAHc"
      },
      "execution_count": 15,
      "outputs": []
    },
    {
      "cell_type": "code",
      "source": [
        "from pprint import pprint\n",
        "\n",
        "masked = collator([feats])\n",
        "pprint(masked)"
      ],
      "metadata": {
        "colab": {
          "base_uri": "https://localhost:8080/"
        },
        "id": "3bq17uOXaunC",
        "outputId": "7813aa52-e20b-4a7c-f727-b2e26f89b7a7"
      },
      "execution_count": 16,
      "outputs": [
        {
          "output_type": "stream",
          "name": "stdout",
          "text": [
            "{'attention_mask': tensor([[[1, 1, 1, 1, 1, 1, 1, 1, 1, 1, 1, 1, 1, 1, 1, 1, 1, 1, 1, 1, 1, 1, 1,\n",
            "          1, 1, 1, 1, 1, 1, 1, 1, 1, 1, 1, 1, 1, 1, 1, 1, 1, 1, 1, 1, 1, 1, 1,\n",
            "          1, 1, 1, 1, 1, 1, 1, 1, 1, 1, 1, 1, 1, 1, 1, 1, 1, 1, 1, 1, 1, 1, 1,\n",
            "          1, 1, 1, 1, 1, 1, 1, 1, 1, 1, 1, 1, 1, 1, 1, 1, 1, 1, 1, 1, 1, 1, 1,\n",
            "          1, 1, 1, 1, 1, 1, 1, 1, 1, 1, 1, 1, 1, 1, 1, 1, 1, 1, 1, 1, 1, 1, 1,\n",
            "          1, 1, 1, 1, 1, 1, 1, 1, 1, 1, 1, 1, 1, 1, 1, 1, 1, 1, 1, 1, 1, 1, 1,\n",
            "          1, 1, 1, 1, 1, 1, 1, 1, 1, 1, 1, 1, 1, 1, 1, 1, 0, 0, 0, 0, 0, 0, 0,\n",
            "          0, 0, 0, 0, 0, 0, 0, 0, 0, 0, 0, 0, 0, 0, 0, 0, 0, 0, 0, 0, 0, 0, 0,\n",
            "          0, 0, 0, 0, 0, 0, 0, 0, 0, 0, 0, 0, 0, 0, 0, 0, 0, 0, 0, 0, 0, 0, 0,\n",
            "          0, 0, 0, 0, 0, 0, 0, 0, 0, 0, 0, 0, 0, 0, 0, 0, 0, 0, 0, 0, 0, 0, 0,\n",
            "          0, 0, 0, 0, 0, 0, 0, 0, 0, 0, 0, 0, 0, 0, 0, 0, 0, 0, 0, 0, 0, 0, 0,\n",
            "          0, 0, 0]]]),\n",
            " 'input_ids': tensor([[[    1,    33,  7754,  7833,  2907,    33,     2,     3,  5194,   746,\n",
            "           7754,    23,    30,    32,     3,    34,  7833,    12,     3,    30,\n",
            "            236,   234,     4,    16,     3,    18,  7754,  4097,   381,     3,\n",
            "             23,    13,    16,     3,  3155,  4486,   428,  7754,  7833,  2907,\n",
            "           2364,  1826,    16,   445,     3, 10526,  1554,    36,    17,    36,\n",
            "           2202,  1380,   741,  1919,   450,  5160,   248,   399,  2639,    18,\n",
            "           5480,   424,   381,  4501, 10289,    18,  1146,   391,  1425,  1719,\n",
            "            391,  1826,    16,   444,     3,   381,     3,   741,   391,   381,\n",
            "           7754,   885,     3,    32,     3,    34,   381,  1145,  8559,   394,\n",
            "          10526,     3,  1511,    36,    17,     3,   689,  5059,   428,   577,\n",
            "              3,     3,   381,     3,  3291,  6416,   403,   381,   573,   741,\n",
            "            399,  4397,   381, 16162, 18266,     6,     3,     3, 11551,  1594,\n",
            "           3147, 10037,   381,  3659,   394,  3359,     3,   677,     3,   843,\n",
            "           9689,   246,   758,   637,   967,  2461,  1288,  2283,   399,   520,\n",
            "          14511,   384,   972,   381,  5322,  3147,     6,    32,     3,    34,\n",
            "              3,     6,    18,     2,     0,     0,     0,     0,     0,     0,\n",
            "              0,     0,     0,     0,     0,     0,     0,     0,     0,     0,\n",
            "              0,     0,     0,     0,     0,     0,     0,     0,     0,     0,\n",
            "              0,     0,     0,     0,     0,     0,     0,     0,     0,     0,\n",
            "              0,     0,     0,     0,     0,     0,     0,     0,     0,     0,\n",
            "              0,     0,     0,     0,     0,     0,     0,     0,     0,     0,\n",
            "              0,     0,     0,     0,     0,     0,     0,     0,     0,     0,\n",
            "              0,     0,     0,     0,     0,     0,     0,     0,     0,     0,\n",
            "              0,     0,     0,     0,     0,     0,     0,     0,     0,     0,\n",
            "              0,     0,     0,     0,     0,     0,     0,     0,     0,     0,\n",
            "              0,     0,     0,     0,     0,     0]]]),\n",
            " 'labels': tensor([[[ -100,  -100,  -100,  -100,  -100,  -100,  -100,  2957,  -100,  -100,\n",
            "           -100,  -100,  -100,  -100,   396,  -100,  -100,  -100,  2709,  -100,\n",
            "           -100,  -100,  -100,  -100,  1244,  -100,  -100,   394,  -100,  9510,\n",
            "           -100,  -100,  -100,  4627,  -100,   403,  -100,  -100,  -100,  -100,\n",
            "           -100,  -100,  -100,  -100,    42,  -100,  -100,  -100,  -100,  -100,\n",
            "           -100,  -100,  -100,  -100,  -100,  -100,  -100,  -100,  -100,  -100,\n",
            "           -100,  -100,  -100,  -100,  -100,  -100,  -100,  -100,  -100,  -100,\n",
            "           -100,  -100,  -100,  -100,   445,  -100,  1361,  -100,  -100,  -100,\n",
            "           -100,  -100,    18,  -100,   396,  -100,  -100,  -100,  -100,  -100,\n",
            "           -100,   399,  -100,  -100,  -100,    36,  -100,  -100,  -100,  -100,\n",
            "          12405,    16,  -100,  1422,  -100,  -100,   403,  -100,  -100,  -100,\n",
            "           -100,  -100,  -100,     6,  -100,  -100,    16,    42,  -100,  -100,\n",
            "           -100,  5034,  -100,  -100,  -100,  -100,   566,   677,   381,  -100,\n",
            "           -100,  -100,  -100,  -100,  -100,  -100,  -100,  -100,  -100,  -100,\n",
            "           -100,  -100,  -100,  -100,  -100,  -100,  -100,  -100,   396,  -100,\n",
            "          18511,  -100,  -100,  -100,  -100,  -100,  -100,  -100,  -100,  -100,\n",
            "           -100,  -100,  -100,  -100,  -100,  -100,  -100,  -100,  -100,  -100,\n",
            "           -100,  -100,  -100,  -100,  -100,  -100,  -100,  -100,  -100,  -100,\n",
            "           -100,  -100,  -100,  -100,  -100,  -100,  -100,  -100,  -100,  -100,\n",
            "           -100,  -100,  -100,  -100,  -100,  -100,  -100,  -100,  -100,  -100,\n",
            "           -100,  -100,  -100,  -100,  -100,  -100,  -100,  -100,  -100,  -100,\n",
            "           -100,  -100,  -100,  -100,  -100,  -100,  -100,  -100,  -100,  -100,\n",
            "           -100,  -100,  -100,  -100,  -100,  -100,  -100,  -100,  -100,  -100,\n",
            "           -100,  -100,  -100,  -100,  -100,  -100,  -100,  -100,  -100,  -100,\n",
            "           -100,  -100,  -100,  -100,  -100,  -100,  -100,  -100,  -100,  -100,\n",
            "           -100,  -100,  -100,  -100,  -100,  -100]]]),\n",
            " 'nsp_label': tensor([[1.]]),\n",
            " 'token_type_ids': tensor([[[0, 0, 0, 0, 0, 0, 0, 1, 1, 1, 1, 1, 1, 1, 1, 1, 1, 1, 1, 1, 1, 1, 1,\n",
            "          1, 1, 1, 1, 1, 1, 1, 1, 1, 1, 1, 1, 1, 1, 1, 1, 1, 1, 1, 1, 1, 1, 1,\n",
            "          1, 1, 1, 1, 1, 1, 1, 1, 1, 1, 1, 1, 1, 1, 1, 1, 1, 1, 1, 1, 1, 1, 1,\n",
            "          1, 1, 1, 1, 1, 1, 1, 1, 1, 1, 1, 1, 1, 1, 1, 1, 1, 1, 1, 1, 1, 1, 1,\n",
            "          1, 1, 1, 1, 1, 1, 1, 1, 1, 1, 1, 1, 1, 1, 1, 1, 1, 1, 1, 1, 1, 1, 1,\n",
            "          1, 1, 1, 1, 1, 1, 1, 1, 1, 1, 1, 1, 1, 1, 1, 1, 1, 1, 1, 1, 1, 1, 1,\n",
            "          1, 1, 1, 1, 1, 1, 1, 1, 1, 1, 1, 1, 1, 1, 1, 1, 0, 0, 0, 0, 0, 0, 0,\n",
            "          0, 0, 0, 0, 0, 0, 0, 0, 0, 0, 0, 0, 0, 0, 0, 0, 0, 0, 0, 0, 0, 0, 0,\n",
            "          0, 0, 0, 0, 0, 0, 0, 0, 0, 0, 0, 0, 0, 0, 0, 0, 0, 0, 0, 0, 0, 0, 0,\n",
            "          0, 0, 0, 0, 0, 0, 0, 0, 0, 0, 0, 0, 0, 0, 0, 0, 0, 0, 0, 0, 0, 0, 0,\n",
            "          0, 0, 0, 0, 0, 0, 0, 0, 0, 0, 0, 0, 0, 0, 0, 0, 0, 0, 0, 0, 0, 0, 0,\n",
            "          0, 0, 0]]])}\n"
          ]
        }
      ]
    },
    {
      "cell_type": "code",
      "source": [
        "tokenizer.decode(masked['input_ids'].squeeze())"
      ],
      "metadata": {
        "colab": {
          "base_uri": "https://localhost:8080/",
          "height": 183
        },
        "id": "zcGK-zY3kLp0",
        "outputId": "896181aa-dadc-4509-87ea-deff6e5fce0e"
      },
      "execution_count": 17,
      "outputs": [
        {
          "output_type": "execute_result",
          "data": {
            "text/plain": [
              "'[CLS] = valkyria chronicles iii = [SEP] [MASK]jo no valkyria 3 : < [MASK] > chronicles ( [MASK] : 戦 場 [UNK], [MASK]. valkyria advert the [MASK] 3 ), [MASK] referred weekly as valkyria chronicles iii outside japan, is [MASK] tactical role @ - @ playing video game developed by sega and media. vision for the playstation portable. released in january 2011 in japan, it [MASK] the [MASK] game in the valkyria series [MASK] < [MASK] > the same fusion of tactical [MASK] real @ - [MASK] time gameplay as its [MASK] [MASK] the [MASK] runs parallel to the first game and follows the nueces nameless \" [MASK] [MASK] penal military unit witnesses the nation of gall [MASK] during [MASK] second europan war who perform secret black operations and are pitted against the imperial unit \" < [MASK] > [MASK] \". [SEP] [PAD] [PAD] [PAD] [PAD] [PAD] [PAD] [PAD] [PAD] [PAD] [PAD] [PAD] [PAD] [PAD] [PAD] [PAD] [PAD] [PAD] [PAD] [PAD] [PAD] [PAD] [PAD] [PAD] [PAD] [PAD] [PAD] [PAD] [PAD] [PAD] [PAD] [PAD] [PAD] [PAD] [PAD] [PAD] [PAD] [PAD] [PAD] [PAD] [PAD] [PAD] [PAD] [PAD] [PAD] [PAD] [PAD] [PAD] [PAD] [PAD] [PAD] [PAD] [PAD] [PAD] [PAD] [PAD] [PAD] [PAD] [PAD] [PAD] [PAD] [PAD] [PAD] [PAD] [PAD] [PAD] [PAD] [PAD] [PAD] [PAD] [PAD] [PAD] [PAD] [PAD] [PAD] [PAD] [PAD] [PAD] [PAD] [PAD] [PAD] [PAD] [PAD] [PAD] [PAD] [PAD] [PAD] [PAD] [PAD] [PAD] [PAD] [PAD] [PAD] [PAD] [PAD] [PAD] [PAD] [PAD] [PAD] [PAD] [PAD] [PAD] [PAD]'"
            ],
            "application/vnd.google.colaboratory.intrinsic+json": {
              "type": "string"
            }
          },
          "metadata": {},
          "execution_count": 17
        }
      ]
    },
    {
      "cell_type": "code",
      "source": [
        "tokenizer.decode(feats['input_ids'].squeeze())"
      ],
      "metadata": {
        "colab": {
          "base_uri": "https://localhost:8080/",
          "height": 183
        },
        "id": "3CwE_vdzkuST",
        "outputId": "818ceab2-9d11-43c3-eacc-b97824e872fc"
      },
      "execution_count": 18,
      "outputs": [
        {
          "output_type": "execute_result",
          "data": {
            "text/plain": [
              "'[CLS] = valkyria chronicles iii = [SEP] senjo no valkyria 3 : < unk > chronicles ( japanese : 戦 場 [UNK], lit. valkyria of the battlefield 3 ), commonly referred to as valkyria chronicles iii outside japan, is a tactical role @ - @ playing video game developed by sega and media. vision for the playstation portable. released in january 2011 in japan, it is the third game in the valkyria series. < unk > the same fusion of tactical and real @ - @ time gameplay as its predecessors, the story runs parallel to the first game and follows the \" nameless \", a penal military unit serving the nation of gallia during the second europan war who perform secret black operations and are pitted against the imperial unit \" < unk > raven \". [SEP] [PAD] [PAD] [PAD] [PAD] [PAD] [PAD] [PAD] [PAD] [PAD] [PAD] [PAD] [PAD] [PAD] [PAD] [PAD] [PAD] [PAD] [PAD] [PAD] [PAD] [PAD] [PAD] [PAD] [PAD] [PAD] [PAD] [PAD] [PAD] [PAD] [PAD] [PAD] [PAD] [PAD] [PAD] [PAD] [PAD] [PAD] [PAD] [PAD] [PAD] [PAD] [PAD] [PAD] [PAD] [PAD] [PAD] [PAD] [PAD] [PAD] [PAD] [PAD] [PAD] [PAD] [PAD] [PAD] [PAD] [PAD] [PAD] [PAD] [PAD] [PAD] [PAD] [PAD] [PAD] [PAD] [PAD] [PAD] [PAD] [PAD] [PAD] [PAD] [PAD] [PAD] [PAD] [PAD] [PAD] [PAD] [PAD] [PAD] [PAD] [PAD] [PAD] [PAD] [PAD] [PAD] [PAD] [PAD] [PAD] [PAD] [PAD] [PAD] [PAD] [PAD] [PAD] [PAD] [PAD] [PAD] [PAD] [PAD] [PAD] [PAD] [PAD]'"
            ],
            "application/vnd.google.colaboratory.intrinsic+json": {
              "type": "string"
            }
          },
          "metadata": {},
          "execution_count": 18
        }
      ]
    },
    {
      "cell_type": "markdown",
      "metadata": {
        "id": "rorGbQJC29w5"
      },
      "source": [
        "##Model Architecture"
      ]
    },
    {
      "cell_type": "markdown",
      "source": [
        "Here we will create the architecture of the model from scratch. I will not go into too much detail about it since it is so similar to the original transformer encoder (which I mentioned above at the beginning of this notebook). But there will be some helpful annotations and comments."
      ],
      "metadata": {
        "id": "2gnlKxTaVp0E"
      }
    },
    {
      "cell_type": "markdown",
      "source": [
        "###Embedding"
      ],
      "metadata": {
        "id": "EFmdPpc5BpHQ"
      }
    },
    {
      "cell_type": "markdown",
      "source": [
        "The Transformer Encoder (the decoder as well, for that matter) uses a Positional Embedding to provide information about the positions of tokens in the sequence. This is necessary because attention is bidirectional and has no way to account for absolute position of tokens in a sequence on its own.\n",
        "\n",
        "We also have to find a way to include information about the two segments (since we pass in pairs of sentences). Our tokenizer provides information about the segments in a vector of 0s and 1s as per the paper specs. We add an embedding layer that takes two tokens in and outputs and embedding of the same dimension as our token embedding.\n",
        "\n",
        "This segment embedding represents one of the few differences between the model architecture in BERT and the original Transformer."
      ],
      "metadata": {
        "id": "66IptYXJBm0y"
      }
    },
    {
      "cell_type": "code",
      "source": [
        "class PositionalEncoding(torch.nn.Module):\n",
        "\n",
        "  def __init__(self, d_model, max_len=128):\n",
        "    super().__init__()\n",
        "\n",
        "    # Compute the positional encodings once in log space.\n",
        "    pe = torch.zeros(max_len, d_model).float().to(DEVICE)\n",
        "    pe.require_grad = False\n",
        "\n",
        "    for pos in range(max_len):\n",
        "        # for each dimension of the each position\n",
        "        for i in range(0, d_model, 2):\n",
        "            pe[pos, i] = math.sin(pos / (10000 ** ((2 * i)/d_model)))\n",
        "            pe[pos, i + 1] = math.cos(pos / (10000 ** ((2 * (i + 1))/d_model)))\n",
        "\n",
        "    # include the batch size\n",
        "    self.pe = pe.unsqueeze(0)\n",
        "\n",
        "  def forward(self, x):\n",
        "    return self.pe\n",
        "\n",
        "class BERTEmbeddingLayer(nn.Module):\n",
        "  \"\"\"\n",
        "  The essential steps of embedding here are:\n",
        "  Embed tokens to our chosen embedding_dim\n",
        "  Add positional encoding to the base embedding\n",
        "  Add segment embeddings (to represent which sentence of two each token is part of)\n",
        "\n",
        "  Note there are only two values for segment labels.\n",
        "  The padding tokens after the second segment are labeled 0 just like the first.\n",
        "  \"\"\"\n",
        "  def __init__(self, vocab_size, embedding_dim, seq_len = 512, dropout = 0.0):\n",
        "    super(BERTEmbeddingLayer, self).__init__()\n",
        "    self.positional_encoding = PositionalEncoding(embedding_dim, seq_len)\n",
        "    self.token_embedding = nn.Embedding(vocab_size, embedding_dim, padding_idx = 0)\n",
        "    self.segment_embedding = nn.Embedding(2, embedding_dim)\n",
        "\n",
        "  def forward(self, x, segment_labels):\n",
        "    # print(f\"BERTEmbeddingLayer {x.shape=}\")\n",
        "    # print(f\"BERTEmbeddingLayer {segment_labels.shape=}\")\n",
        "    seg = self.segment_embedding(segment_labels)\n",
        "    tok = self.token_embedding(x)\n",
        "    pos = self.positional_encoding(x)\n",
        "    # print(f\"BERTEmbeddingLayer {seg.shape=} {seg.get_device()=}\")\n",
        "    # print(f\"BERTEmbeddingLayer {pos.shape=} {pos.get_device()=}\")\n",
        "    # print(f\"BERTEmbeddingLayer {tok.shape=} {tok.get_device()=}\")\n",
        "    return seg+pos+tok"
      ],
      "metadata": {
        "id": "rzXhBU7GUMKc"
      },
      "execution_count": 19,
      "outputs": []
    },
    {
      "cell_type": "markdown",
      "source": [
        "###Encoder Architecture"
      ],
      "metadata": {
        "id": "9LG63m-UBgMN"
      }
    },
    {
      "cell_type": "markdown",
      "source": [
        "The Transformer Encoder (and BERT, by extension) only uses self-attention in a manner where `query`, `key`, and `value` are all the same since we don't employ an \"encoder memory\" anywhere the way we would with the decoder.\n",
        "\n",
        "In the `BERT_base` model, there are 12 instead of 6 stacked blocks, `d_model = 768`, there are 12 heads of attention. These represent some of the differences in configuration between the original Transformer and BERT encoders but aren't actual architecture differences.\n",
        "\n",
        "Another minor difference is that the feedforward activation function is chosen to be `gelu` instead of `relu`."
      ],
      "metadata": {
        "id": "9w_EkECKEShg"
      }
    },
    {
      "cell_type": "code",
      "source": [
        "clone_layers = lambda layer, n: nn.ModuleList([copy.deepcopy(layer) for _ in range(n)])"
      ],
      "metadata": {
        "id": "in3W3HqfQ2y-"
      },
      "execution_count": 20,
      "outputs": []
    },
    {
      "cell_type": "code",
      "source": [
        "#Implement MultiHeadAttention\n",
        "class MultiHeadAttention(nn.Module):\n",
        "  def __init__(self, d_model, num_heads, dropout = 0.1):\n",
        "    super(MultiHeadAttention, self).__init__()\n",
        "    self.d_model = d_model\n",
        "    self.d_k = d_model // num_heads\n",
        "    self.num_heads = num_heads\n",
        "    self.dropout = nn.Dropout(p = dropout)\n",
        "\n",
        "    self.query, self.key, self.value, self.out = clone_layers(nn.Linear(d_model, d_model), 4)\n",
        "\n",
        "  def forward(self, query, key, value, attention_mask):\n",
        "    #The shapes of these tensors are annotated for easier intuition\n",
        "    #b = batch_size, s = seq_len, h = num_heads\n",
        "    #(b, s, d_model)\n",
        "    Q = self.query(query)\n",
        "    K = self.key(key)\n",
        "    V = self.value(value)\n",
        "\n",
        "    #(b, s, d_model) -> (b, s, h, d_k) -> (b, h, s, d_k)\n",
        "    # print(f\"MHA {Q.shape=} {K.shape=} {V.shape=}\")\n",
        "    Q = Q.view(Q.size(0), -1, self.num_heads, self.d_k).transpose(1, 2)\n",
        "    K = K.view(K.size(0), -1, self.num_heads, self.d_k).transpose(1, 2)\n",
        "    V = V.view(V.size(0), -1, self.num_heads, self.d_k).transpose(1, 2)\n",
        "    # print(f\"MHA {Q.shape=} {K.shape=} {V.shape=}\")\n",
        "\n",
        "    #Note that MHA does Scaled Dot Product attention over each head\n",
        "    #and then concatenates. So scores is actually done for each head.\n",
        "    #(b, h, s, d_k) x (b, h, d_k, s) -> scalar * (b, h, s, s)\n",
        "    scores = torch.matmul(Q, K.transpose(-2, -1)) / math.sqrt(self.d_k)\n",
        "    # print(f\"MHA {scores.shape=}\")\n",
        "    # print(f\"MHA {attention_mask.shape=}\")\n",
        "\n",
        "    #fill masked scores with low value (imagine using -inf)\n",
        "    #to minimize impact on softmax output\n",
        "    #attention mask shape has to be (b, 1, 1, s)\n",
        "    #so we need to unsqueeze\n",
        "    #fill does not change shape\n",
        "    #(b, h, s, s)\n",
        "    scores = scores.masked_fill(attention_mask.unsqueeze(1) == 0, -1e9)\n",
        "\n",
        "    #softmax does not change shape\n",
        "    #(b, h, s, s)\n",
        "    weights = F.softmax(scores, dim = -1)\n",
        "    weights = self.dropout(weights)\n",
        "\n",
        "    #(b, h, s, s) x (b, h, s, d_k) -> (b, h, s, d_k)\n",
        "    #this would be the memory or context in transformer\n",
        "    memory = torch.matmul(weights, V)\n",
        "\n",
        "    #(b, h, s, d_k) -> (b, s, h, d_k) -> (b, s, h * d_k) = (b, s, d_model)\n",
        "    #back to original shape\n",
        "    memory = memory.transpose(1, 2).contiguous().view(memory.size(0), -1, self.num_heads * self.d_k)\n",
        "\n",
        "    #(b, s, d_model) -> (b, s, d_model)\n",
        "    return self.out(memory)\n",
        ""
      ],
      "metadata": {
        "id": "h7UNUT4WBfkF"
      },
      "execution_count": 21,
      "outputs": []
    },
    {
      "cell_type": "markdown",
      "source": [
        "The original BERT paper maintains the relationship between `d_model` and `d_ff` in the feedforward layer where `d_ff = 4 * d_model`."
      ],
      "metadata": {
        "id": "qiHOciobSRUH"
      }
    },
    {
      "cell_type": "code",
      "source": [
        "#Implement FF Layer for Encoder\n",
        "class FeedForwardLayer(nn.Module):\n",
        "  def __init__(self, d_model, d_ff = 3072, dropout = 0.0):\n",
        "    #Note in the BERT paper, BERT_base has d_ff = 3072 = 4 * d_model = 4 * 768\n",
        "    super(FeedForwardLayer, self).__init__()\n",
        "    self.linear1 = nn.Linear(d_model, d_ff)\n",
        "    self.linear2 = nn.Linear(d_ff, d_model)\n",
        "    self.dropout = nn.Dropout(p = dropout)\n",
        "    self.activation = nn.GELU()\n",
        "\n",
        "  def forward(self, x):\n",
        "    return self.linear2(self.dropout(self.activation(self.linear1(x))))"
      ],
      "metadata": {
        "id": "u8oBjMop_0C1"
      },
      "execution_count": 22,
      "outputs": []
    },
    {
      "cell_type": "markdown",
      "source": [
        "Now we implement the EncoderLayer. We need to use layernormalization here."
      ],
      "metadata": {
        "id": "VTRPh6OBTZ14"
      }
    },
    {
      "cell_type": "code",
      "source": [
        "#All default values are selected based on BERT_base in the paper\n",
        "class EncoderLayer(nn.Module):\n",
        "  def __init__(\n",
        "      self,\n",
        "      d_model=768,\n",
        "      num_heads=12,\n",
        "      d_ff = 3072,\n",
        "      dropout = 0.1\n",
        "    ):\n",
        "    super(EncoderLayer, self).__init__()\n",
        "    self.mha = MultiHeadAttention(d_model, num_heads, dropout)\n",
        "    self.ff = FeedForwardLayer(d_model, d_ff, dropout)\n",
        "    self.norm = nn.LayerNorm(d_model)\n",
        "    self.dropout = nn.Dropout(p = dropout)\n",
        "\n",
        "  def forward(self, embeddings, attention_mask):\n",
        "    #Shapes: b = batch_size, s = seq_len\n",
        "    #embeddings: (b, s, d_model)\n",
        "    #mask: (b, 1, 1, s)\n",
        "    # print(f\"ENCODER LAYER 0 {embeddings.shape=} {attention_mask.shape=}\")\n",
        "\n",
        "    #attention_out: (b, s, d_model)\n",
        "    attention_out = self.dropout(self.mha(embeddings, embeddings, embeddings, attention_mask))\n",
        "    # print(f\"ENCODER LAYER 1 {attention_out.shape=}\")\n",
        "\n",
        "    #attention_out: (b, s, d_model)\n",
        "    attention_out = self.norm(attention_out+embeddings)\n",
        "    # print(f\"ENCODER LAYER 2 {attention_out.shape=}\")\n",
        "\n",
        "    #ff_out: (b, s, d_model)\n",
        "    ff_out = self.dropout(self.ff(attention_out))\n",
        "    # print(f\"ENCODER LAYER 3 {ff_out.shape=}\")\n",
        "\n",
        "    return self.norm(ff_out + attention_out)\n"
      ],
      "metadata": {
        "id": "mAUQAf73Tmsw"
      },
      "execution_count": 23,
      "outputs": []
    },
    {
      "cell_type": "markdown",
      "source": [
        "####BERT Model"
      ],
      "metadata": {
        "id": "x8f4YBbwWTPE"
      }
    },
    {
      "cell_type": "markdown",
      "source": [
        "Now we implement the model by putting together the above classes we created."
      ],
      "metadata": {
        "id": "9Gt-EfNhWaz5"
      }
    },
    {
      "cell_type": "code",
      "source": [
        "class BERT(nn.Module):\n",
        "  def __init__(\n",
        "      self,\n",
        "      vocab_size,\n",
        "      d_model = 768,\n",
        "      blocks = 12,\n",
        "      num_heads = 12,\n",
        "      seq_len = 512,\n",
        "      dropout = 0.1\n",
        "    ):\n",
        "    super(BERT, self).__init__()\n",
        "    self.vocab_size = vocab_size\n",
        "    self.d_model = d_model\n",
        "    self.d_ff = 4 * d_model #as noted above, ff hidden layer dim is 4*d_model\n",
        "    self.blocks = blocks\n",
        "    self.num_heads = num_heads\n",
        "    self.seq_len = seq_len\n",
        "    self.dropout = dropout\n",
        "\n",
        "    self.embedding = BERTEmbeddingLayer(\n",
        "        self.vocab_size,\n",
        "        self.d_model,\n",
        "        seq_len = self.seq_len,\n",
        "        dropout = self.dropout\n",
        "    )\n",
        "\n",
        "    self.encoder_blocks = clone_layers(EncoderLayer(d_model, num_heads, self.d_ff, dropout), blocks)\n",
        "\n",
        "  def forward(self, x, segment_info, attention_mask):\n",
        "    #Our BertTokenizer also passes out the attention mask for padding\n",
        "    #this tells the Encoder to not learn padding information\n",
        "    x = self.embedding(x, segment_info)\n",
        "\n",
        "    for block in self.encoder_blocks:\n",
        "      x = block(x, attention_mask)\n",
        "\n",
        "    return x\n"
      ],
      "metadata": {
        "id": "5lIeoM2aWezx"
      },
      "execution_count": 24,
      "outputs": []
    },
    {
      "cell_type": "markdown",
      "source": [
        "The objective of BERT pretraining is to train the Encoder we have defined above. Once we train on NSP and MLM respectively, we only keep the pre-trained encoder in our final product.\n",
        "\n",
        "We still need to create models corresponding to our NSP and MLM tasks that will be used to train the BERT encoder we defined above."
      ],
      "metadata": {
        "id": "ziGDkIricw_1"
      }
    },
    {
      "cell_type": "code",
      "source": [
        "class NextSentencePrediction(nn.Module):\n",
        "  def __init__(self, d_model):\n",
        "    super(NextSentencePrediction, self).__init__()\n",
        "    self.linear = nn.Linear(d_model, 2)\n",
        "    self.softmax = nn.LogSoftmax(dim = -1)\n",
        "\n",
        "  def forward(self, x):\n",
        "    # print(f\"NSP {x.shape=}\")\n",
        "    xlinear = self.linear(x[:, 0])\n",
        "    # print(f\"NSP {xlinear.shape=}\")\n",
        "    xsoftmax= self.softmax(xlinear)\n",
        "    # print(f\"NSP {xsoftmax.shape=}\")\n",
        "    # use only the first token which is the [CLS]\n",
        "    # return self.softmax(self.linear(x[:, 0]))\n",
        "    return xsoftmax\n",
        "\n",
        "\n",
        "class MaskedLanguageModel(nn.Module):\n",
        "  def __init__(self, d_model, vocab_size):\n",
        "    super(MaskedLanguageModel, self).__init__()\n",
        "    self.linear = nn.Linear(d_model, vocab_size)\n",
        "    self.softmax = nn.LogSoftmax(dim = -1)\n",
        "\n",
        "  def forward(self, x):\n",
        "    # print(f\"MLM {x.shape=}\")\n",
        "    xlinear = self.linear(x)\n",
        "    # print(f\"MLM {xlinear.shape=}\")\n",
        "    xsoftmax= self.softmax(xlinear)\n",
        "    # print(f\"MLM {xsoftmax.shape=}\")\n",
        "    return xsoftmax\n",
        "\n",
        "    # return self.softmax(self.linear(x))\n",
        "\n",
        "class BERTmodel(nn.Module):\n",
        "  #This model trains on two tasks at once\n",
        "  #We see that NSP and MLM layers are simple dense layers\n",
        "  #The goal is to use them as a way to learn params for BERT's representation\n",
        "  def __init__(self, BERTencoder):\n",
        "    super(BERTmodel, self).__init__()\n",
        "    self.BERT = BERTencoder\n",
        "    self.d_model = self.BERT.d_model\n",
        "    self.NSP = NextSentencePrediction(self.BERT.d_model)\n",
        "    self.MLM = MaskedLanguageModel(self.BERT.d_model, self.BERT.vocab_size)\n",
        "\n",
        "  def forward(self, x, segment_info, attention_mask):\n",
        "    encoded = self.BERT(x, segment_info, attention_mask)\n",
        "    # print(f\"BERTmodel {encoded.shape=}\")\n",
        "    return self.NSP(encoded), self.MLM(encoded)\n"
      ],
      "metadata": {
        "id": "9u8M0H01Q1_I"
      },
      "execution_count": 25,
      "outputs": []
    },
    {
      "cell_type": "markdown",
      "metadata": {
        "id": "prBAUhze37Qv"
      },
      "source": [
        "##Training"
      ]
    },
    {
      "cell_type": "markdown",
      "source": [
        "Now we just need to put all of this together and train our model!\n",
        "\n",
        "In the paper the loss function is given by the sum of the mean masked LM probabilities and the nsp likelihood.\n",
        "\n",
        "The optimizer they used was Adam with `lr` = 1e-4, $\\beta_1$ = 0.9, $\\beta_2$ = 0.999, L2 weight decay = 0.01, `warmup_steps` = 10_000, and linear decay of learning rate."
      ],
      "metadata": {
        "id": "YoIcFeamY3Iu"
      }
    },
    {
      "cell_type": "code",
      "execution_count": 26,
      "metadata": {
        "id": "MakZRzAE6ESt"
      },
      "outputs": [],
      "source": [
        "#We make this custom optimizer:\n",
        "#Link that I got this from: https://stackoverflow.com/questions/65343377/adam-optimizer-with-warmup-on-pytorch\n",
        "class NOAMOptimizer:\n",
        "  \"Optim wrapper that implements rate.\"\n",
        "  def __init__(self, optimizer, model_size, warmup):\n",
        "    self.optimizer = optimizer\n",
        "    self._step = 0\n",
        "    self.warmup = warmup\n",
        "    self.model_size = model_size\n",
        "    self._rate = 0\n",
        "\n",
        "  def state_dict(self):\n",
        "    \"\"\"Returns the state of the warmup scheduler as a :class:`dict`.\n",
        "    It contains an entry for every variable in self.__dict__ which\n",
        "    is not the optimizer.\n",
        "    \"\"\"\n",
        "    return {key: value for key, value in self.__dict__.items() if key != 'optimizer'}\n",
        "\n",
        "  def load_state_dict(self, state_dict):\n",
        "    \"\"\"Loads the warmup scheduler's state.\n",
        "    Arguments:\n",
        "        state_dict (dict): warmup scheduler state. Should be an object returned\n",
        "            from a call to :meth:`state_dict`.\n",
        "    \"\"\"\n",
        "    self.__dict__.update(state_dict)\n",
        "\n",
        "  def step(self):\n",
        "    \"Update parameters and rate\"\n",
        "    self._step += 1\n",
        "    rate = self.rate()\n",
        "    for p in self.optimizer.param_groups:\n",
        "        p['lr'] = rate\n",
        "    self._rate = rate\n",
        "    self.optimizer.step()\n",
        "\n",
        "  def rate(self, step = None):\n",
        "    \"Implement `lrate` above\"\n",
        "    if step is None:\n",
        "        step = self._step\n",
        "    return (self.model_size ** (-0.5) *\n",
        "        min(step ** (-0.5), step * self.warmup ** (-1.5)))\n",
        "\n",
        "  def zero_grad(self):\n",
        "    self.optimizer.zero_grad()"
      ]
    },
    {
      "cell_type": "code",
      "source": [
        "def collate_for_mlm(batch):\n",
        "  collated = collator(batch)\n",
        "  collated['input_ids'] = collated['input_ids'].squeeze()\n",
        "  collated['token_type_ids'] = collated['token_type_ids'].squeeze()\n",
        "  collated['nsp_labels'] = collated['nsp_labels'].squeeze()\n",
        "  collated['labels'] = collated['labels'].squeeze()\n",
        "  collated['labels'][collated['labels']<0] = 0\n",
        "  return collated\n",
        "\n"
      ],
      "metadata": {
        "id": "e0SoPdGNNrm4"
      },
      "execution_count": 27,
      "outputs": []
    },
    {
      "cell_type": "code",
      "source": [
        "train_dataset = BERTDataset(train_sentence_pairs, tokenizer)\n",
        "train_dataloader = iter(DataLoader(train_dataset, collate_fn=collate_for_mlm, batch_size=16, shuffle=True))"
      ],
      "metadata": {
        "id": "179FAut4t1PX"
      },
      "execution_count": 28,
      "outputs": []
    },
    {
      "cell_type": "code",
      "source": [
        "sample_batch = next(train_dataloader)\n",
        "sample_batch['nsp_labels']"
      ],
      "metadata": {
        "colab": {
          "base_uri": "https://localhost:8080/"
        },
        "id": "IcokqN5NNFND",
        "outputId": "c789332c-c680-4c35-f80b-752562759757"
      },
      "execution_count": 29,
      "outputs": [
        {
          "output_type": "execute_result",
          "data": {
            "text/plain": [
              "tensor([0, 0, 0, 1, 0, 1, 0, 0, 0, 1, 1, 1, 0, 1, 1, 1])"
            ]
          },
          "metadata": {},
          "execution_count": 29
        }
      ]
    },
    {
      "cell_type": "code",
      "source": [
        "#Let's make a trainer class to hold all of the information we need for training.\n",
        "#W\n",
        "class BERTTrainer:\n",
        "  def __init__(\n",
        "      self,\n",
        "      model,\n",
        "      train_dataloader,\n",
        "      valid_dataloader=None,\n",
        "      lr= 1e-4,\n",
        "      weight_decay=0.01,\n",
        "      betas=(0.9, 0.999),\n",
        "      warmup_steps=10_000,\n",
        "      log_frequency=10,\n",
        "      miniters_denom=50\n",
        "  ):\n",
        "    self.model = model.to(DEVICE)\n",
        "    self.train_data = train_dataloader\n",
        "    self.valid_data = valid_dataloader\n",
        "\n",
        "    #Note that the loss function is described in the paper to be sum of likelihoods.\n",
        "    self.loss_fn = nn.NLLLoss(ignore_index=0) #padding index\n",
        "\n",
        "    adam_optimizer = torch.optim.Adam(self.model.parameters(), lr=lr, betas=betas, weight_decay=weight_decay)\n",
        "    self.optimizer = NOAMOptimizer(adam_optimizer, model.d_model, warmup_steps)\n",
        "\n",
        "    self.log_frequency = log_frequency\n",
        "    self.miniters_denom = miniters_denom\n",
        "\n",
        "  def train(self, epochs):\n",
        "    for epoch in range(epochs):\n",
        "      self.train_epoch(epoch)\n",
        "      self.valid_epoch(epoch)\n",
        "\n",
        "  def train_epoch(self, epoch):\n",
        "    epoch_loss = 0.0\n",
        "    total_correct = 0\n",
        "    total_samples = 0\n",
        "\n",
        "    dataloader = self.train_data\n",
        "\n",
        "    data_iter = tqdm.tqdm(\n",
        "      enumerate(dataloader),\n",
        "      desc=f\"EPOCH_TRAIN:{epoch}\",\n",
        "      total=len(dataloader),\n",
        "      bar_format=\"{l_bar}{bar}{r_bar}\",\n",
        "      miniters=int(len(dataloader)/self.miniters_denom),\n",
        "      position=0,\n",
        "      leave=True\n",
        "    )\n",
        "\n",
        "    for i, batch in data_iter:\n",
        "      #send tensors to DEVICE\n",
        "      inputs = {\n",
        "        \"input_ids\": batch['input_ids'].to(DEVICE),\n",
        "        \"attention_mask\": batch['attention_mask'].to(DEVICE),\n",
        "        \"segment_info\": batch['token_type_ids'].to(DEVICE),\n",
        "      }\n",
        "      outputs = {\n",
        "          \"nsp_labels\": batch['nsp_labels'].to(DEVICE),\n",
        "          \"mlm_labels\": batch['labels'].to(DEVICE)\n",
        "      }\n",
        "\n",
        "      #train mode\n",
        "      self.model.train()\n",
        "\n",
        "      #forward pass\n",
        "      NSP_prediction, MLM_prediction = self.model(inputs['input_ids'], inputs['segment_info'], inputs['attention_mask'])\n",
        "\n",
        "      #compute losses\n",
        "      # print(f\"TRAINING {outputs['nsp_labels'].shape=}\")\n",
        "      # print(f\"TRAINING {outputs['mlm_labels'].shape=}\")\n",
        "      NSP_loss = self.loss_fn(NSP_prediction, outputs['nsp_labels'])\n",
        "      MLM_loss = self.loss_fn(MLM_prediction.transpose(1,2), outputs['mlm_labels'])\n",
        "      loss = NSP_loss + MLM_loss\n",
        "\n",
        "      self.optimizer.zero_grad()\n",
        "      loss.backward()\n",
        "      self.optimizer.step()\n",
        "\n",
        "      epoch_loss += loss.item()\n",
        "      total_correct += NSP_prediction.argmax(dim=-1).eq(outputs['nsp_labels']).sum().item()\n",
        "      total_samples += NSP_prediction.shape[0]\n",
        "\n",
        "      post_fix = {\n",
        "          \"epoch\": epoch,\n",
        "          \"iter\": i,\n",
        "          \"avg_loss\": epoch_loss / (i + 1),\n",
        "          \"avg_acc\": total_correct / total_samples * 100,\n",
        "          \"loss\": loss.item()\n",
        "      }\n",
        "\n",
        "      if i % self.log_frequency == 0:\n",
        "          data_iter.write(str(post_fix))\n",
        "    print(\n",
        "      f\"EP{epoch}, TRAIN: \\\n",
        "      avg_loss={epoch_loss / len(data_iter)}, \\\n",
        "      total_acc={total_correct * 100.0 / total_samples}\"\n",
        "    )\n",
        "\n",
        "  def valid_epoch(self, epoch):\n",
        "    epoch_loss = 0.0\n",
        "    total_correct = 0\n",
        "    total_samples = 0\n",
        "\n",
        "    dataloader = self.valid_data\n",
        "\n",
        "    data_iter = tqdm.tqdm(\n",
        "      enumerate(dataloader),\n",
        "      desc=f\"EPOCH_VALID:{epoch}\",\n",
        "      total=len(dataloader),\n",
        "      bar_format=\"{l_bar}{bar}{r_bar}\"\n",
        "    )\n",
        "\n",
        "    for i, batch in data_iter:\n",
        "      #send tensors to DEVICE\n",
        "      inputs = {\n",
        "        \"input_ids\": batch['input_ids'].to(DEVICE),\n",
        "        \"attention_mask\": batch['attention_mask'].to(DEVICE),\n",
        "        \"segment_info\": batch['token_type_ids'].to(DEVICE),\n",
        "      }\n",
        "      outputs = {\n",
        "          \"nsp_labels\": batch['nsp_labels'].to(DEVICE),\n",
        "          \"mlm_labels\": batch['labels'].to(DEVICE)\n",
        "      }\n",
        "\n",
        "      #train mode\n",
        "      self.model.eval()\n",
        "\n",
        "      with torch.no_grad():\n",
        "        #forward pass\n",
        "        NSP_prediction, MLM_prediction = self.model(inputs['input_ids'], inputs['segment_info'], inputs['attention_mask'])\n",
        "\n",
        "        #compute losses\n",
        "        NSP_loss = self.loss_fn(NSP_prediction, outputs['nsp_labels'])\n",
        "        MLM_loss = self.loss_fn(MLM_prediction.transpose(1,2), outputs['mlm_labels'])\n",
        "        loss = NSP_loss + MLM_loss\n",
        "\n",
        "        epoch_loss += loss.item()\n",
        "\n",
        "      total_correct += NSP_prediction.argmax(dim=-1).eq(outputs['nsp_labels']).sum().item()\n",
        "      total_samples += NSP_prediction.shape[0]\n",
        "\n",
        "      post_fix = {\n",
        "          \"epoch\": epoch,\n",
        "          \"iter\": i,\n",
        "          \"avg_loss\": epoch_loss / (i + 1),\n",
        "          \"avg_acc\": total_correct / total_samples * 100,\n",
        "          \"loss\": loss.item(),\n",
        "          \"total_correct\": total_correct,\n",
        "          \"total_samples\": total_samples\n",
        "      }\n",
        "\n",
        "      if i % self.log_frequency == 0:\n",
        "          data_iter.write(str(post_fix))\n",
        "          # print(\n",
        "          #   f\"EP{epoch}, VALID: \\\n",
        "          #   avg_loss={epoch_loss / len(data_iter)}, \\\n",
        "          #   total_acc={total_correct * 100.0 / total_samples}\"\n",
        "          # )\n",
        "\n"
      ],
      "metadata": {
        "id": "sm0thuIPisRf"
      },
      "execution_count": 79,
      "outputs": []
    },
    {
      "cell_type": "code",
      "source": [
        "D_MODEL = 384 #in the paper this is 768\n",
        "N_LAYERS = 2 #in the paper this is 12\n",
        "HEADS = 6 #in the paper this is 12\n",
        "DROPOUT = 0.1\n",
        "SEQ_LEN = 512 #512 is a good number for this\n",
        "BATCH_SIZE = 32\n",
        "\n",
        "LR= 1e-4,\n",
        "WEIGHT_DECAY=0.01,\n",
        "BETAS=(0.9, 0.999),\n",
        "WARMUP_STEPS=10_000,\n",
        "LOG_FREQ=100\n",
        "\n",
        "train_dataset = BERTDataset(train_sentence_pairs, tokenizer)\n",
        "valid_dataset = BERTDataset(valid_sentence_pairs, tokenizer)\n",
        "\n",
        "train_dataloader = DataLoader(train_dataset, collate_fn=collate_for_mlm, batch_size=BATCH_SIZE, shuffle=True, pin_memory=True)\n",
        "valid_dataloader = DataLoader(valid_dataset, collate_fn=collate_for_mlm, batch_size=BATCH_SIZE, shuffle=True, pin_memory=True)\n",
        "\n",
        "bert_encoder = BERT(\n",
        "  vocab_size=len(tokenizer.vocab)+1, #because we added an additional special token\n",
        "  d_model=D_MODEL,\n",
        "  blocks=N_LAYERS,\n",
        "  num_heads=HEADS,\n",
        "  seq_len=SEQ_LEN,\n",
        "  dropout= DROPOUT\n",
        ").to(DEVICE)\n",
        "\n",
        "bert_lm = BERTmodel(bert_encoder).to(DEVICE)\n",
        "bert_trainer = BERTTrainer(\n",
        "    bert_lm,\n",
        "    train_dataloader,\n",
        "    valid_dataloader,\n",
        "    # lr = LR,\n",
        "    # weight_decay = WEIGHT_DECAY,\n",
        "    # betas = (BETAS),\n",
        "    # warmup_steps = WARMUP_STEPS,\n",
        "    log_frequency = LOG_FREQ\n",
        ")"
      ],
      "metadata": {
        "id": "UT2vwJRDiU17"
      },
      "execution_count": 80,
      "outputs": []
    },
    {
      "cell_type": "code",
      "source": [
        "epochs = 10\n",
        "\n",
        "bert_trainer.train(epochs)"
      ],
      "metadata": {
        "colab": {
          "base_uri": "https://localhost:8080/"
        },
        "id": "tbXT5MPn4Hd1",
        "outputId": "3f67bfdf-3359-47bb-cc43-becb1281c3b1"
      },
      "execution_count": null,
      "outputs": [
        {
          "output_type": "stream",
          "name": "stderr",
          "text": [
            "EPOCH_TRAIN:0:   0%|          | 0/2503 [00:00<?, ?it/s]"
          ]
        },
        {
          "output_type": "stream",
          "name": "stdout",
          "text": [
            "{'epoch': 0, 'iter': 0, 'avg_loss': 10.484803199768066, 'avg_acc': 59.375, 'loss': 10.484803199768066}\n"
          ]
        },
        {
          "output_type": "stream",
          "name": "stderr",
          "text": [
            "EPOCH_TRAIN:0:   4%|▍         | 101/2503 [00:51<21:02,  1.90it/s]"
          ]
        },
        {
          "output_type": "stream",
          "name": "stdout",
          "text": [
            "{'epoch': 0, 'iter': 100, 'avg_loss': 10.214528867513826, 'avg_acc': 48.32920792079208, 'loss': 9.941876411437988}\n"
          ]
        },
        {
          "output_type": "stream",
          "name": "stderr",
          "text": [
            "EPOCH_TRAIN:0:   8%|▊         | 201/2503 [01:44<20:14,  1.90it/s]"
          ]
        },
        {
          "output_type": "stream",
          "name": "stdout",
          "text": [
            "{'epoch': 0, 'iter': 200, 'avg_loss': 9.936137033339163, 'avg_acc': 49.424751243781095, 'loss': 9.292469024658203}\n"
          ]
        },
        {
          "output_type": "stream",
          "name": "stderr",
          "text": [
            "EPOCH_TRAIN:0:  12%|█▏        | 301/2503 [02:37<19:23,  1.89it/s]"
          ]
        },
        {
          "output_type": "stream",
          "name": "stdout",
          "text": [
            "{'epoch': 0, 'iter': 300, 'avg_loss': 9.62289420473219, 'avg_acc': 49.52242524916943, 'loss': 8.81309986114502}\n"
          ]
        },
        {
          "output_type": "stream",
          "name": "stderr",
          "text": [
            "EPOCH_TRAIN:0:  16%|█▌        | 401/2503 [03:30<18:28,  1.90it/s]"
          ]
        },
        {
          "output_type": "stream",
          "name": "stdout",
          "text": [
            "{'epoch': 0, 'iter': 400, 'avg_loss': 9.350067757014324, 'avg_acc': 49.45448877805486, 'loss': 8.286011695861816}\n"
          ]
        },
        {
          "output_type": "stream",
          "name": "stderr",
          "text": [
            "EPOCH_TRAIN:0:  20%|██        | 501/2503 [04:22<17:32,  1.90it/s]"
          ]
        },
        {
          "output_type": "stream",
          "name": "stdout",
          "text": [
            "{'epoch': 0, 'iter': 500, 'avg_loss': 9.115131813133072, 'avg_acc': 49.73802395209581, 'loss': 7.94939661026001}\n"
          ]
        },
        {
          "output_type": "stream",
          "name": "stderr",
          "text": [
            "EPOCH_TRAIN:0:  24%|██▍       | 601/2503 [05:15<16:42,  1.90it/s]"
          ]
        },
        {
          "output_type": "stream",
          "name": "stdout",
          "text": [
            "{'epoch': 0, 'iter': 600, 'avg_loss': 8.902047424665504, 'avg_acc': 49.77641430948419, 'loss': 7.607085227966309}\n"
          ]
        },
        {
          "output_type": "stream",
          "name": "stderr",
          "text": [
            "EPOCH_TRAIN:0:  28%|██▊       | 701/2503 [06:08<15:51,  1.89it/s]"
          ]
        },
        {
          "output_type": "stream",
          "name": "stdout",
          "text": [
            "{'epoch': 0, 'iter': 700, 'avg_loss': 8.707529137376032, 'avg_acc': 49.6478245363766, 'loss': 7.242195129394531}\n"
          ]
        },
        {
          "output_type": "stream",
          "name": "stderr",
          "text": [
            "EPOCH_TRAIN:0:  32%|███▏      | 801/2503 [07:00<15:00,  1.89it/s]"
          ]
        },
        {
          "output_type": "stream",
          "name": "stdout",
          "text": [
            "{'epoch': 0, 'iter': 800, 'avg_loss': 8.535817580871964, 'avg_acc': 49.64107365792759, 'loss': 7.410141468048096}\n"
          ]
        },
        {
          "output_type": "stream",
          "name": "stderr",
          "text": [
            "EPOCH_TRAIN:0:  36%|███▌      | 901/2503 [07:53<14:08,  1.89it/s]"
          ]
        },
        {
          "output_type": "stream",
          "name": "stdout",
          "text": [
            "{'epoch': 0, 'iter': 900, 'avg_loss': 8.387710659141414, 'avg_acc': 49.93756936736959, 'loss': 6.747497081756592}\n"
          ]
        },
        {
          "output_type": "stream",
          "name": "stderr",
          "text": [
            "EPOCH_TRAIN:0:  40%|███▉      | 1001/2503 [08:46<13:12,  1.89it/s]"
          ]
        },
        {
          "output_type": "stream",
          "name": "stdout",
          "text": [
            "{'epoch': 0, 'iter': 1000, 'avg_loss': 8.265129548567277, 'avg_acc': 49.94692807192807, 'loss': 6.836628437042236}\n"
          ]
        },
        {
          "output_type": "stream",
          "name": "stderr",
          "text": [
            "EPOCH_TRAIN:0:  44%|████▍     | 1101/2503 [09:38<12:22,  1.89it/s]"
          ]
        },
        {
          "output_type": "stream",
          "name": "stdout",
          "text": [
            "{'epoch': 0, 'iter': 1100, 'avg_loss': 8.162600028309143, 'avg_acc': 49.77577202543142, 'loss': 7.186311721801758}\n"
          ]
        },
        {
          "output_type": "stream",
          "name": "stderr",
          "text": [
            "EPOCH_TRAIN:0:  48%|████▊     | 1201/2503 [10:31<11:29,  1.89it/s]"
          ]
        },
        {
          "output_type": "stream",
          "name": "stdout",
          "text": [
            "{'epoch': 0, 'iter': 1200, 'avg_loss': 8.07509328959685, 'avg_acc': 49.729392173189005, 'loss': 6.756588935852051}\n"
          ]
        },
        {
          "output_type": "stream",
          "name": "stderr",
          "text": [
            "EPOCH_TRAIN:0:  49%|████▉     | 1224/2503 [10:43<11:21,  1.88it/s]"
          ]
        }
      ]
    },
    {
      "cell_type": "code",
      "source": [
        "del bert_trainer.model\n",
        "del bert_trainer.train_data\n",
        "del bert_trainer.valid_data\n",
        "del bert_trainer\n",
        "torch.cuda.empty_cache()"
      ],
      "metadata": {
        "id": "hTWdPnaX6uId"
      },
      "execution_count": 78,
      "outputs": []
    },
    {
      "cell_type": "code",
      "source": [
        "def save_model(trainer, version=0):\n",
        "  directory = os.path.join(DATA_DIRECTORY, 'models', f'model_{DATASET}_v{version}')\n",
        "  os.makedirs(directory, exist_ok=True)\n",
        "  torch.save(trainer.model.state_dict(), os.path.join(directory, 'model.pth'))\n",
        "  torch.save(trainer.optimizer.state_dict(), os.path.join(directory, 'optimizer.pth'))\n",
        "\n",
        "  optim_dict = trainer.optimizer.__dict__\n",
        "  optim_dict['optimizer'] = {key: value for key, value in optim_dict['optimizer'].items()}\n",
        "  specs_dictionary = {\n",
        "      'trainer': str(trainer.__dict__),\n",
        "      'model': str(trainer.model.__dict__),\n",
        "      'train_data': str(trainer.train_data.__dict__),\n",
        "      'valid_data': str(trainer.valid_data.__dict__),\n",
        "      'optimizer': str(trainer.optimizer.__dict__),\n",
        "  }\n",
        "  with open(os.path.join(directory, 'specs.json'), 'w') as f:\n",
        "      json.dump(specs_dictionary, f, indent=4)\n",
        "\n"
      ],
      "metadata": {
        "id": "zc2mmt29GLUM"
      },
      "execution_count": 52,
      "outputs": []
    },
    {
      "cell_type": "code",
      "source": [
        "save_model(bert_trainer)"
      ],
      "metadata": {
        "id": "S7QkGJJcfLAJ"
      },
      "execution_count": 57,
      "outputs": []
    },
    {
      "cell_type": "code",
      "source": [
        "def DOWNLOAD_SESSION():\n",
        "  from google.colab import files\n",
        "  import shutil\n",
        "  shutil.make_archive('/content/session_data', 'zip', '/content')\n",
        "  files.download('/content/session_data.zip')"
      ],
      "metadata": {
        "id": "FQfJmSLnnE16"
      },
      "execution_count": 75,
      "outputs": []
    },
    {
      "cell_type": "code",
      "source": [
        "DOWNLOAD_SESSION()"
      ],
      "metadata": {
        "colab": {
          "base_uri": "https://localhost:8080/",
          "height": 34
        },
        "id": "9fkilQ7HnoEs",
        "outputId": "be45ee87-e1fd-4e93-a8e4-bbef72917be4"
      },
      "execution_count": 76,
      "outputs": [
        {
          "output_type": "display_data",
          "data": {
            "text/plain": [
              "<IPython.core.display.Javascript object>"
            ],
            "application/javascript": [
              "\n",
              "    async function download(id, filename, size) {\n",
              "      if (!google.colab.kernel.accessAllowed) {\n",
              "        return;\n",
              "      }\n",
              "      const div = document.createElement('div');\n",
              "      const label = document.createElement('label');\n",
              "      label.textContent = `Downloading \"${filename}\": `;\n",
              "      div.appendChild(label);\n",
              "      const progress = document.createElement('progress');\n",
              "      progress.max = size;\n",
              "      div.appendChild(progress);\n",
              "      document.body.appendChild(div);\n",
              "\n",
              "      const buffers = [];\n",
              "      let downloaded = 0;\n",
              "\n",
              "      const channel = await google.colab.kernel.comms.open(id);\n",
              "      // Send a message to notify the kernel that we're ready.\n",
              "      channel.send({})\n",
              "\n",
              "      for await (const message of channel.messages) {\n",
              "        // Send a message to notify the kernel that we're ready.\n",
              "        channel.send({})\n",
              "        if (message.buffers) {\n",
              "          for (const buffer of message.buffers) {\n",
              "            buffers.push(buffer);\n",
              "            downloaded += buffer.byteLength;\n",
              "            progress.value = downloaded;\n",
              "          }\n",
              "        }\n",
              "      }\n",
              "      const blob = new Blob(buffers, {type: 'application/binary'});\n",
              "      const a = document.createElement('a');\n",
              "      a.href = window.URL.createObjectURL(blob);\n",
              "      a.download = filename;\n",
              "      div.appendChild(a);\n",
              "      a.click();\n",
              "      div.remove();\n",
              "    }\n",
              "  "
            ]
          },
          "metadata": {}
        },
        {
          "output_type": "display_data",
          "data": {
            "text/plain": [
              "<IPython.core.display.Javascript object>"
            ],
            "application/javascript": [
              "download(\"download_4de15b32-d491-4b55-88ea-1f2baafe6f71\", \"session_data.zip\", 212846750)"
            ]
          },
          "metadata": {}
        }
      ]
    },
    {
      "cell_type": "code",
      "source": [],
      "metadata": {
        "id": "ecE22ue9n_0c"
      },
      "execution_count": null,
      "outputs": []
    }
  ],
  "metadata": {
    "colab": {
      "provenance": [],
      "machine_shape": "hm",
      "gpuType": "T4",
      "authorship_tag": "ABX9TyNFES80bzGifPkDMIJOVVfh",
      "include_colab_link": true
    },
    "kernelspec": {
      "display_name": "Python 3",
      "name": "python3"
    },
    "language_info": {
      "name": "python"
    },
    "widgets": {
      "application/vnd.jupyter.widget-state+json": {
        "da3e589c433b4d5697f14e0efba81a41": {
          "model_module": "@jupyter-widgets/controls",
          "model_name": "HBoxModel",
          "model_module_version": "1.5.0",
          "state": {
            "_dom_classes": [],
            "_model_module": "@jupyter-widgets/controls",
            "_model_module_version": "1.5.0",
            "_model_name": "HBoxModel",
            "_view_count": null,
            "_view_module": "@jupyter-widgets/controls",
            "_view_module_version": "1.5.0",
            "_view_name": "HBoxView",
            "box_style": "",
            "children": [
              "IPY_MODEL_0853f052b92d47b4b7914980965b1aec",
              "IPY_MODEL_2b9d81a724b942c58b3d515cf49b4b55",
              "IPY_MODEL_06fafc6d9ce1417486274af54732e632"
            ],
            "layout": "IPY_MODEL_3032abed62294aa9bdb2a6da7de777b2"
          }
        },
        "0853f052b92d47b4b7914980965b1aec": {
          "model_module": "@jupyter-widgets/controls",
          "model_name": "HTMLModel",
          "model_module_version": "1.5.0",
          "state": {
            "_dom_classes": [],
            "_model_module": "@jupyter-widgets/controls",
            "_model_module_version": "1.5.0",
            "_model_name": "HTMLModel",
            "_view_count": null,
            "_view_module": "@jupyter-widgets/controls",
            "_view_module_version": "1.5.0",
            "_view_name": "HTMLView",
            "description": "",
            "description_tooltip": null,
            "layout": "IPY_MODEL_cd2de91ad12e47f995a8f7996733b444",
            "placeholder": "​",
            "style": "IPY_MODEL_2a93168b1f2b4e9a9957ec922e08a0e4",
            "value": ""
          }
        },
        "2b9d81a724b942c58b3d515cf49b4b55": {
          "model_module": "@jupyter-widgets/controls",
          "model_name": "FloatProgressModel",
          "model_module_version": "1.5.0",
          "state": {
            "_dom_classes": [],
            "_model_module": "@jupyter-widgets/controls",
            "_model_module_version": "1.5.0",
            "_model_name": "FloatProgressModel",
            "_view_count": null,
            "_view_module": "@jupyter-widgets/controls",
            "_view_module_version": "1.5.0",
            "_view_name": "ProgressView",
            "bar_style": "success",
            "description": "",
            "description_tooltip": null,
            "layout": "IPY_MODEL_4a8f7e4afd0d4bc9a02f103efb7494c5",
            "max": 1,
            "min": 0,
            "orientation": "horizontal",
            "style": "IPY_MODEL_75324eff33314882996f1ea93f80fbc1",
            "value": 1
          }
        },
        "06fafc6d9ce1417486274af54732e632": {
          "model_module": "@jupyter-widgets/controls",
          "model_name": "HTMLModel",
          "model_module_version": "1.5.0",
          "state": {
            "_dom_classes": [],
            "_model_module": "@jupyter-widgets/controls",
            "_model_module_version": "1.5.0",
            "_model_name": "HTMLModel",
            "_view_count": null,
            "_view_module": "@jupyter-widgets/controls",
            "_view_module_version": "1.5.0",
            "_view_name": "HTMLView",
            "description": "",
            "description_tooltip": null,
            "layout": "IPY_MODEL_5d6676cb936f4034a9422796dda947dc",
            "placeholder": "​",
            "style": "IPY_MODEL_961fd16900f644f98f25487d7e9f6dd5",
            "value": " 36718/? [00:00&lt;00:00, 97721.36it/s]"
          }
        },
        "3032abed62294aa9bdb2a6da7de777b2": {
          "model_module": "@jupyter-widgets/base",
          "model_name": "LayoutModel",
          "model_module_version": "1.2.0",
          "state": {
            "_model_module": "@jupyter-widgets/base",
            "_model_module_version": "1.2.0",
            "_model_name": "LayoutModel",
            "_view_count": null,
            "_view_module": "@jupyter-widgets/base",
            "_view_module_version": "1.2.0",
            "_view_name": "LayoutView",
            "align_content": null,
            "align_items": null,
            "align_self": null,
            "border": null,
            "bottom": null,
            "display": null,
            "flex": null,
            "flex_flow": null,
            "grid_area": null,
            "grid_auto_columns": null,
            "grid_auto_flow": null,
            "grid_auto_rows": null,
            "grid_column": null,
            "grid_gap": null,
            "grid_row": null,
            "grid_template_areas": null,
            "grid_template_columns": null,
            "grid_template_rows": null,
            "height": null,
            "justify_content": null,
            "justify_items": null,
            "left": null,
            "margin": null,
            "max_height": null,
            "max_width": null,
            "min_height": null,
            "min_width": null,
            "object_fit": null,
            "object_position": null,
            "order": null,
            "overflow": null,
            "overflow_x": null,
            "overflow_y": null,
            "padding": null,
            "right": null,
            "top": null,
            "visibility": null,
            "width": null
          }
        },
        "cd2de91ad12e47f995a8f7996733b444": {
          "model_module": "@jupyter-widgets/base",
          "model_name": "LayoutModel",
          "model_module_version": "1.2.0",
          "state": {
            "_model_module": "@jupyter-widgets/base",
            "_model_module_version": "1.2.0",
            "_model_name": "LayoutModel",
            "_view_count": null,
            "_view_module": "@jupyter-widgets/base",
            "_view_module_version": "1.2.0",
            "_view_name": "LayoutView",
            "align_content": null,
            "align_items": null,
            "align_self": null,
            "border": null,
            "bottom": null,
            "display": null,
            "flex": null,
            "flex_flow": null,
            "grid_area": null,
            "grid_auto_columns": null,
            "grid_auto_flow": null,
            "grid_auto_rows": null,
            "grid_column": null,
            "grid_gap": null,
            "grid_row": null,
            "grid_template_areas": null,
            "grid_template_columns": null,
            "grid_template_rows": null,
            "height": null,
            "justify_content": null,
            "justify_items": null,
            "left": null,
            "margin": null,
            "max_height": null,
            "max_width": null,
            "min_height": null,
            "min_width": null,
            "object_fit": null,
            "object_position": null,
            "order": null,
            "overflow": null,
            "overflow_x": null,
            "overflow_y": null,
            "padding": null,
            "right": null,
            "top": null,
            "visibility": null,
            "width": null
          }
        },
        "2a93168b1f2b4e9a9957ec922e08a0e4": {
          "model_module": "@jupyter-widgets/controls",
          "model_name": "DescriptionStyleModel",
          "model_module_version": "1.5.0",
          "state": {
            "_model_module": "@jupyter-widgets/controls",
            "_model_module_version": "1.5.0",
            "_model_name": "DescriptionStyleModel",
            "_view_count": null,
            "_view_module": "@jupyter-widgets/base",
            "_view_module_version": "1.2.0",
            "_view_name": "StyleView",
            "description_width": ""
          }
        },
        "4a8f7e4afd0d4bc9a02f103efb7494c5": {
          "model_module": "@jupyter-widgets/base",
          "model_name": "LayoutModel",
          "model_module_version": "1.2.0",
          "state": {
            "_model_module": "@jupyter-widgets/base",
            "_model_module_version": "1.2.0",
            "_model_name": "LayoutModel",
            "_view_count": null,
            "_view_module": "@jupyter-widgets/base",
            "_view_module_version": "1.2.0",
            "_view_name": "LayoutView",
            "align_content": null,
            "align_items": null,
            "align_self": null,
            "border": null,
            "bottom": null,
            "display": null,
            "flex": null,
            "flex_flow": null,
            "grid_area": null,
            "grid_auto_columns": null,
            "grid_auto_flow": null,
            "grid_auto_rows": null,
            "grid_column": null,
            "grid_gap": null,
            "grid_row": null,
            "grid_template_areas": null,
            "grid_template_columns": null,
            "grid_template_rows": null,
            "height": null,
            "justify_content": null,
            "justify_items": null,
            "left": null,
            "margin": null,
            "max_height": null,
            "max_width": null,
            "min_height": null,
            "min_width": null,
            "object_fit": null,
            "object_position": null,
            "order": null,
            "overflow": null,
            "overflow_x": null,
            "overflow_y": null,
            "padding": null,
            "right": null,
            "top": null,
            "visibility": null,
            "width": "20px"
          }
        },
        "75324eff33314882996f1ea93f80fbc1": {
          "model_module": "@jupyter-widgets/controls",
          "model_name": "ProgressStyleModel",
          "model_module_version": "1.5.0",
          "state": {
            "_model_module": "@jupyter-widgets/controls",
            "_model_module_version": "1.5.0",
            "_model_name": "ProgressStyleModel",
            "_view_count": null,
            "_view_module": "@jupyter-widgets/base",
            "_view_module_version": "1.2.0",
            "_view_name": "StyleView",
            "bar_color": null,
            "description_width": ""
          }
        },
        "5d6676cb936f4034a9422796dda947dc": {
          "model_module": "@jupyter-widgets/base",
          "model_name": "LayoutModel",
          "model_module_version": "1.2.0",
          "state": {
            "_model_module": "@jupyter-widgets/base",
            "_model_module_version": "1.2.0",
            "_model_name": "LayoutModel",
            "_view_count": null,
            "_view_module": "@jupyter-widgets/base",
            "_view_module_version": "1.2.0",
            "_view_name": "LayoutView",
            "align_content": null,
            "align_items": null,
            "align_self": null,
            "border": null,
            "bottom": null,
            "display": null,
            "flex": null,
            "flex_flow": null,
            "grid_area": null,
            "grid_auto_columns": null,
            "grid_auto_flow": null,
            "grid_auto_rows": null,
            "grid_column": null,
            "grid_gap": null,
            "grid_row": null,
            "grid_template_areas": null,
            "grid_template_columns": null,
            "grid_template_rows": null,
            "height": null,
            "justify_content": null,
            "justify_items": null,
            "left": null,
            "margin": null,
            "max_height": null,
            "max_width": null,
            "min_height": null,
            "min_width": null,
            "object_fit": null,
            "object_position": null,
            "order": null,
            "overflow": null,
            "overflow_x": null,
            "overflow_y": null,
            "padding": null,
            "right": null,
            "top": null,
            "visibility": null,
            "width": null
          }
        },
        "961fd16900f644f98f25487d7e9f6dd5": {
          "model_module": "@jupyter-widgets/controls",
          "model_name": "DescriptionStyleModel",
          "model_module_version": "1.5.0",
          "state": {
            "_model_module": "@jupyter-widgets/controls",
            "_model_module_version": "1.5.0",
            "_model_name": "DescriptionStyleModel",
            "_view_count": null,
            "_view_module": "@jupyter-widgets/base",
            "_view_module_version": "1.2.0",
            "_view_name": "StyleView",
            "description_width": ""
          }
        },
        "cc9d8dcc51f64850884aa68dfac3aacb": {
          "model_module": "@jupyter-widgets/controls",
          "model_name": "HBoxModel",
          "model_module_version": "1.5.0",
          "state": {
            "_dom_classes": [],
            "_model_module": "@jupyter-widgets/controls",
            "_model_module_version": "1.5.0",
            "_model_name": "HBoxModel",
            "_view_count": null,
            "_view_module": "@jupyter-widgets/controls",
            "_view_module_version": "1.5.0",
            "_view_name": "HBoxView",
            "box_style": "",
            "children": [
              "IPY_MODEL_b94aa1625c874403ace57ca28c4c0a52",
              "IPY_MODEL_abbf3a8b59c94f64b3e51fce07c5f831",
              "IPY_MODEL_5548c44921df44658a85d7aa3d147f9f"
            ],
            "layout": "IPY_MODEL_abe499ec27f1445c8142e902faba94fb"
          }
        },
        "b94aa1625c874403ace57ca28c4c0a52": {
          "model_module": "@jupyter-widgets/controls",
          "model_name": "HTMLModel",
          "model_module_version": "1.5.0",
          "state": {
            "_dom_classes": [],
            "_model_module": "@jupyter-widgets/controls",
            "_model_module_version": "1.5.0",
            "_model_name": "HTMLModel",
            "_view_count": null,
            "_view_module": "@jupyter-widgets/controls",
            "_view_module_version": "1.5.0",
            "_view_name": "HTMLView",
            "description": "",
            "description_tooltip": null,
            "layout": "IPY_MODEL_615b4616f77d43ed99273ccbfaaa0b1f",
            "placeholder": "​",
            "style": "IPY_MODEL_0b765a73ebf442a48c01acb55820f823",
            "value": ""
          }
        },
        "abbf3a8b59c94f64b3e51fce07c5f831": {
          "model_module": "@jupyter-widgets/controls",
          "model_name": "FloatProgressModel",
          "model_module_version": "1.5.0",
          "state": {
            "_dom_classes": [],
            "_model_module": "@jupyter-widgets/controls",
            "_model_module_version": "1.5.0",
            "_model_name": "FloatProgressModel",
            "_view_count": null,
            "_view_module": "@jupyter-widgets/controls",
            "_view_module_version": "1.5.0",
            "_view_name": "ProgressView",
            "bar_style": "success",
            "description": "",
            "description_tooltip": null,
            "layout": "IPY_MODEL_9188c9aac5e44a12a2f777825eab2a7b",
            "max": 1,
            "min": 0,
            "orientation": "horizontal",
            "style": "IPY_MODEL_d614ef2167b14c7eb08ebccd002d5401",
            "value": 1
          }
        },
        "5548c44921df44658a85d7aa3d147f9f": {
          "model_module": "@jupyter-widgets/controls",
          "model_name": "HTMLModel",
          "model_module_version": "1.5.0",
          "state": {
            "_dom_classes": [],
            "_model_module": "@jupyter-widgets/controls",
            "_model_module_version": "1.5.0",
            "_model_name": "HTMLModel",
            "_view_count": null,
            "_view_module": "@jupyter-widgets/controls",
            "_view_module_version": "1.5.0",
            "_view_name": "HTMLView",
            "description": "",
            "description_tooltip": null,
            "layout": "IPY_MODEL_d4d370db0eed43c1afa90b204ee4fb1b",
            "placeholder": "​",
            "style": "IPY_MODEL_5b05e0f359d843ff9aaf57f462341572",
            "value": " 3760/? [00:00&lt;00:00, 52140.54it/s]"
          }
        },
        "abe499ec27f1445c8142e902faba94fb": {
          "model_module": "@jupyter-widgets/base",
          "model_name": "LayoutModel",
          "model_module_version": "1.2.0",
          "state": {
            "_model_module": "@jupyter-widgets/base",
            "_model_module_version": "1.2.0",
            "_model_name": "LayoutModel",
            "_view_count": null,
            "_view_module": "@jupyter-widgets/base",
            "_view_module_version": "1.2.0",
            "_view_name": "LayoutView",
            "align_content": null,
            "align_items": null,
            "align_self": null,
            "border": null,
            "bottom": null,
            "display": null,
            "flex": null,
            "flex_flow": null,
            "grid_area": null,
            "grid_auto_columns": null,
            "grid_auto_flow": null,
            "grid_auto_rows": null,
            "grid_column": null,
            "grid_gap": null,
            "grid_row": null,
            "grid_template_areas": null,
            "grid_template_columns": null,
            "grid_template_rows": null,
            "height": null,
            "justify_content": null,
            "justify_items": null,
            "left": null,
            "margin": null,
            "max_height": null,
            "max_width": null,
            "min_height": null,
            "min_width": null,
            "object_fit": null,
            "object_position": null,
            "order": null,
            "overflow": null,
            "overflow_x": null,
            "overflow_y": null,
            "padding": null,
            "right": null,
            "top": null,
            "visibility": null,
            "width": null
          }
        },
        "615b4616f77d43ed99273ccbfaaa0b1f": {
          "model_module": "@jupyter-widgets/base",
          "model_name": "LayoutModel",
          "model_module_version": "1.2.0",
          "state": {
            "_model_module": "@jupyter-widgets/base",
            "_model_module_version": "1.2.0",
            "_model_name": "LayoutModel",
            "_view_count": null,
            "_view_module": "@jupyter-widgets/base",
            "_view_module_version": "1.2.0",
            "_view_name": "LayoutView",
            "align_content": null,
            "align_items": null,
            "align_self": null,
            "border": null,
            "bottom": null,
            "display": null,
            "flex": null,
            "flex_flow": null,
            "grid_area": null,
            "grid_auto_columns": null,
            "grid_auto_flow": null,
            "grid_auto_rows": null,
            "grid_column": null,
            "grid_gap": null,
            "grid_row": null,
            "grid_template_areas": null,
            "grid_template_columns": null,
            "grid_template_rows": null,
            "height": null,
            "justify_content": null,
            "justify_items": null,
            "left": null,
            "margin": null,
            "max_height": null,
            "max_width": null,
            "min_height": null,
            "min_width": null,
            "object_fit": null,
            "object_position": null,
            "order": null,
            "overflow": null,
            "overflow_x": null,
            "overflow_y": null,
            "padding": null,
            "right": null,
            "top": null,
            "visibility": null,
            "width": null
          }
        },
        "0b765a73ebf442a48c01acb55820f823": {
          "model_module": "@jupyter-widgets/controls",
          "model_name": "DescriptionStyleModel",
          "model_module_version": "1.5.0",
          "state": {
            "_model_module": "@jupyter-widgets/controls",
            "_model_module_version": "1.5.0",
            "_model_name": "DescriptionStyleModel",
            "_view_count": null,
            "_view_module": "@jupyter-widgets/base",
            "_view_module_version": "1.2.0",
            "_view_name": "StyleView",
            "description_width": ""
          }
        },
        "9188c9aac5e44a12a2f777825eab2a7b": {
          "model_module": "@jupyter-widgets/base",
          "model_name": "LayoutModel",
          "model_module_version": "1.2.0",
          "state": {
            "_model_module": "@jupyter-widgets/base",
            "_model_module_version": "1.2.0",
            "_model_name": "LayoutModel",
            "_view_count": null,
            "_view_module": "@jupyter-widgets/base",
            "_view_module_version": "1.2.0",
            "_view_name": "LayoutView",
            "align_content": null,
            "align_items": null,
            "align_self": null,
            "border": null,
            "bottom": null,
            "display": null,
            "flex": null,
            "flex_flow": null,
            "grid_area": null,
            "grid_auto_columns": null,
            "grid_auto_flow": null,
            "grid_auto_rows": null,
            "grid_column": null,
            "grid_gap": null,
            "grid_row": null,
            "grid_template_areas": null,
            "grid_template_columns": null,
            "grid_template_rows": null,
            "height": null,
            "justify_content": null,
            "justify_items": null,
            "left": null,
            "margin": null,
            "max_height": null,
            "max_width": null,
            "min_height": null,
            "min_width": null,
            "object_fit": null,
            "object_position": null,
            "order": null,
            "overflow": null,
            "overflow_x": null,
            "overflow_y": null,
            "padding": null,
            "right": null,
            "top": null,
            "visibility": null,
            "width": "20px"
          }
        },
        "d614ef2167b14c7eb08ebccd002d5401": {
          "model_module": "@jupyter-widgets/controls",
          "model_name": "ProgressStyleModel",
          "model_module_version": "1.5.0",
          "state": {
            "_model_module": "@jupyter-widgets/controls",
            "_model_module_version": "1.5.0",
            "_model_name": "ProgressStyleModel",
            "_view_count": null,
            "_view_module": "@jupyter-widgets/base",
            "_view_module_version": "1.2.0",
            "_view_name": "StyleView",
            "bar_color": null,
            "description_width": ""
          }
        },
        "d4d370db0eed43c1afa90b204ee4fb1b": {
          "model_module": "@jupyter-widgets/base",
          "model_name": "LayoutModel",
          "model_module_version": "1.2.0",
          "state": {
            "_model_module": "@jupyter-widgets/base",
            "_model_module_version": "1.2.0",
            "_model_name": "LayoutModel",
            "_view_count": null,
            "_view_module": "@jupyter-widgets/base",
            "_view_module_version": "1.2.0",
            "_view_name": "LayoutView",
            "align_content": null,
            "align_items": null,
            "align_self": null,
            "border": null,
            "bottom": null,
            "display": null,
            "flex": null,
            "flex_flow": null,
            "grid_area": null,
            "grid_auto_columns": null,
            "grid_auto_flow": null,
            "grid_auto_rows": null,
            "grid_column": null,
            "grid_gap": null,
            "grid_row": null,
            "grid_template_areas": null,
            "grid_template_columns": null,
            "grid_template_rows": null,
            "height": null,
            "justify_content": null,
            "justify_items": null,
            "left": null,
            "margin": null,
            "max_height": null,
            "max_width": null,
            "min_height": null,
            "min_width": null,
            "object_fit": null,
            "object_position": null,
            "order": null,
            "overflow": null,
            "overflow_x": null,
            "overflow_y": null,
            "padding": null,
            "right": null,
            "top": null,
            "visibility": null,
            "width": null
          }
        },
        "5b05e0f359d843ff9aaf57f462341572": {
          "model_module": "@jupyter-widgets/controls",
          "model_name": "DescriptionStyleModel",
          "model_module_version": "1.5.0",
          "state": {
            "_model_module": "@jupyter-widgets/controls",
            "_model_module_version": "1.5.0",
            "_model_name": "DescriptionStyleModel",
            "_view_count": null,
            "_view_module": "@jupyter-widgets/base",
            "_view_module_version": "1.2.0",
            "_view_name": "StyleView",
            "description_width": ""
          }
        }
      }
    },
    "accelerator": "GPU"
  },
  "nbformat": 4,
  "nbformat_minor": 0
}